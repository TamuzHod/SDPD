{
 "cells": [
  {
   "cell_type": "code",
   "execution_count": 1,
   "metadata": {},
   "outputs": [],
   "source": [
    "import csv\n",
    "import numpy as np\n",
    "import pandas as pd\n",
    "import matplotlib.pyplot as plt\n",
    "import seaborn as sns"
   ]
  },
  {
   "cell_type": "code",
   "execution_count": 2,
   "metadata": {},
   "outputs": [],
   "source": [
    "#dfA = pd.read_csv(\"Data/business_A_K.csv\")"
   ]
  },
  {
   "cell_type": "code",
   "execution_count": 3,
   "metadata": {},
   "outputs": [],
   "source": [
    "#dfK = pd.read_csv(\"Data/business_K_Z.csv\")"
   ]
  },
  {
   "cell_type": "code",
   "execution_count": 4,
   "metadata": {},
   "outputs": [],
   "source": [
    "#df = pd.concat([dfA, dfK])\n",
    "df = pd.read_csv(\"business_df.csv\")"
   ]
  },
  {
   "cell_type": "code",
   "execution_count": 5,
   "metadata": {},
   "outputs": [],
   "source": [
    "threshold = 5 # Anything that occurs less than this will be removed.\n",
    "value_counts = df[\"ACTIVITY DESC\"].value_counts() # Entire DataFrame \n",
    "to_remove = value_counts[value_counts <= threshold].index\n",
    "df.replace(to_remove, np.nan, inplace=True)\n"
   ]
  },
  {
   "cell_type": "code",
   "execution_count": 6,
   "metadata": {},
   "outputs": [],
   "source": [
    "df = df.dropna(subset=['ACTIVITY DESC'])"
   ]
  },
  {
   "cell_type": "code",
   "execution_count": 7,
   "metadata": {},
   "outputs": [],
   "source": [
    "df2 = df"
   ]
  },
  {
   "cell_type": "code",
   "execution_count": 8,
   "metadata": {},
   "outputs": [],
   "source": [
    "def standardize_activity(string):\n",
    "   \n",
    "    string = string.lower()\n",
    "    string = string.strip()\n",
    "    if \"mfg\" in string:\n",
    "        output = \"MANUFACTURING\"\n",
    "    elif \"insurance\" in string:\n",
    "        output = \"INSURANCE\"\n",
    "    elif \"waste\" in string:\n",
    "        output = \"WASTE SERVICES\"\n",
    "    elif \"food\" in string and \"service\" in string:\n",
    "        output = \"FOOD SERVICES\"\n",
    "    elif \"food\" in string:\n",
    "        output = \"FOOD SUPPLIER\"\n",
    "    elif \"auto\" in string or \"vehicle\" in string or \"car \" in string:\n",
    "        output = \"AUTOMOTIVE\"\n",
    "    elif \"whsle\" in string or \"wholesale\" in string:\n",
    "        output = \"WHOLESALE\"\n",
    "    # Otherwise, if uncaught - keep as is\n",
    "    elif \"health\" in string:\n",
    "        output = \"HEALTH SERVICES\"\n",
    "    elif \"drinking places\" in string or \"bars\" in string or \"liquor\" in string:\n",
    "        output = \"BARS\"\n",
    "    elif \"nonalcoholic\" in string or \"restaurant\" in string:\n",
    "        output = \"FOOD SERVICES\"\n",
    "    elif \"property\" in string or \"lessor\" in string or \"estate\" in string or \"rent\" in string or \"lease\" in string:\n",
    "        output = \"PROPERTY SERVICES\"\n",
    "    elif \"bank\" in string or \"account\" in string or \"mortage\" in string or \"financ\" in string or \"credit\" in string or \"broker\" in string:\n",
    "        output = \"FINANCE SERVICES\"\n",
    "    elif \"medic\" in string or \"hospital\" in string or \"patient\" in string:\n",
    "        output = \"MEDICAL\"\n",
    "    elif \"transport\" in string or \"truck\" in string or \"taxi\" in string or \"limo\" in string:\n",
    "        output = \"TRANSPORTATION\"\n",
    "    elif \"construct\" in string or \"contractor\" in string:\n",
    "        output = \"CONSTRUCTION\"\n",
    "    elif \"tax\" in string and \"exempt\" in string:\n",
    "        output = \"NON-PROFIT\"\n",
    "    elif \"non-profit\" in string:\n",
    "        output = \"NON-PROFIT\"\n",
    "    elif \"legal\" in string or \"lawyer\" in string:\n",
    "        output = \"LEGAL\"\n",
    "    elif \"computer\" in string:\n",
    "        output = \"COMPUTERS\"\n",
    "    elif \"school\" in string or \"education\" in string or \"training\" in string:\n",
    "        output = \"EDUCATION\"\n",
    "    elif \"furniture\" in string:\n",
    "        output = \"FURNITURE\"\n",
    "    elif \"electric\" in string:\n",
    "        output = \"ELECTRICAL\"\n",
    "    elif \"fitness\" in string:\n",
    "        output = \"FITNESS SERVICES\"\n",
    "    elif \"sports\" in string or \"sporting\" in string:\n",
    "        output = \"SPORTS\"\n",
    "    elif \"scien\" in string:\n",
    "        output = \"SCIENCE\"\n",
    "    elif \"lab\" in string:\n",
    "        output = \"LABS\"\n",
    "    elif \"r&m\" in string or \"repair\" in string:\n",
    "        output = \"REPAIR SERVICES\"\n",
    "    elif \"clean\" in string:\n",
    "        output = \"CLEANING SERVICES\"\n",
    "    elif \"pet\" in string or \"vet\" in string:\n",
    "        output = \"PET SERVICES\"\n",
    "    elif \"clothing\" in string:\n",
    "        output = \"CLOTHING\"\n",
    "    elif \"book\" in string:\n",
    "        output = \"BOOK\"\n",
    "    elif \"store\" in string or \"retail\" in string:\n",
    "        output = \"RETAILERS\"\n",
    "    elif \"art\" in string or \"photo\" in string or \"picture\" in string:\n",
    "        output = \"ART AND PHOTOGRAPHY\"\n",
    "    elif \"studio\" in string or \"instructor\" in string:\n",
    "        output = \"FITNESS SERVICES\"\n",
    "    elif \"massage\" in string:\n",
    "        output = \"MASSAGE\"\n",
    "    elif \"travel\" in string:\n",
    "        output = \"TRAVEL\"\n",
    "    else:\n",
    "        output = string\n",
    "    \n",
    "    return output"
   ]
  },
  {
   "cell_type": "code",
   "execution_count": 9,
   "metadata": {},
   "outputs": [],
   "source": [
    "df2['ACTIVITY DESC'] = df2[\"ACTIVITY DESC\"].apply(standardize_activity)"
   ]
  },
  {
   "cell_type": "code",
   "execution_count": 10,
   "metadata": {},
   "outputs": [
    {
     "data": {
      "text/plain": [
       "array(['information services', 'HEALTH SERVICES', 'PROPERTY SERVICES',\n",
       "       'other individual & family services', 'investigation services',\n",
       "       'all other transit & ground passenger trans', 'INSURANCE',\n",
       "       'consulting services', 'ART AND PHOTOGRAPHY', 'WHOLESALE',\n",
       "       'CONSTRUCTION', 'FOOD SERVICES', 'TRANSPORTATION',\n",
       "       'other personal services', 'BARS', 'graphic design services',\n",
       "       'marketing consulting services',\n",
       "       'other services to buildings & dwellings', 'REPAIR SERVICES',\n",
       "       'RETAILERS', 'beauty salons', 'NON-PROFIT', 'MASSAGE', 'COMPUTERS',\n",
       "       'building, developing & general contracting', 'AUTOMOTIVE',\n",
       "       'management consulting services',\n",
       "       'electronic shopping & mail-order houses', 'FINANCE SERVICES',\n",
       "       'CLOTHING', 'all other personal services', 'FITNESS SERVICES',\n",
       "       'personal care services', 'janitorial services', 'tattoo parlors',\n",
       "       'used household & office goods moving',\n",
       "       'individual & family services', 'other business services',\n",
       "       'breweries', 'materials recovery facilities', 'offices of dentists',\n",
       "       'FURNITURE', 'CLEANING SERVICES',\n",
       "       'local messengers & local delivery', 'SCIENCE',\n",
       "       'religious organizations', 'advertising & related services',\n",
       "       'business support services', 'all other information services',\n",
       "       'EDUCATION', 'mobile detailing',\n",
       "       'other services related to advertising',\n",
       "       'other direct selling establishments',\n",
       "       'all other business support services', 'nail salons',\n",
       "       'boat dealers', 'oth business service centers (incl copy shops',\n",
       "       'other personal care services', 'FOOD SUPPLIER',\n",
       "       'landscaping services', 'investigation & security services',\n",
       "       'gasoline stations', 'civic & social organizations',\n",
       "       'services for elderly & disabled persons', 'SPORTS',\n",
       "       'limited-service eating places', 'MANUFACTURING', 'PET SERVICES',\n",
       "       'tire dealers', 'services to buildings & dwellings',\n",
       "       'on-line information services', 'LEGAL', 'MEDICAL',\n",
       "       'engineering services', 'other management consulting services',\n",
       "       'child day care services', 'other specialized design services',\n",
       "       'animal production support activities', 'architectural services',\n",
       "       'cannabis outlet', 'barber shops', 'florists',\n",
       "       'exam preparation & tutoring', 'locksmiths',\n",
       "       'interior design services', 'caterers', 'other telecommunications',\n",
       "       'offices of physicians', 'employment services',\n",
       "       'management, sci & tech consulting services',\n",
       "       'direct selling establishments',\n",
       "       'administrative & support services',\n",
       "       'hair, nail & skin care services', 'security systems services',\n",
       "       'WASTE SERVICES', 'warehousing & storage',\n",
       "       'security guards & patrol services', 'pedi-cab (company)',\n",
       "       'carwashes', 'nursing care facilities',\n",
       "       'translation & interpretation services', 'collection agencies',\n",
       "       'child & youth services', 'advertising agencies',\n",
       "       'management of companies & enterprises',\n",
       "       'all other amusement & recreation industries',\n",
       "       'exterminating & pest control services',\n",
       "       'architectural, engineering & related services', 'check cashing',\n",
       "       'swap meet vendor', 'admin & gen management consulting services',\n",
       "       'manufacturing', 'parking lots & garages', 'TRAVEL',\n",
       "       'amusement, gambling & recreation industries',\n",
       "       'other business support services',\n",
       "       'broadcasting & telecommunications', 'offices of chiropractors',\n",
       "       'funeral homes', 'LABS', 'all other support services',\n",
       "       'office administrative services', 'offices of optometrists',\n",
       "       'tax preparation services',\n",
       "       'information & data processing services',\n",
       "       'other amusement & recreation industries',\n",
       "       'social advocacy organizations',\n",
       "       'security systems services, (except locksmiths', 'BOOK',\n",
       "       'environmental consulting services',\n",
       "       'nonferrous (exc alum) production & processing',\n",
       "       'temporary help services', 'tour operators',\n",
       "       'document preparation services', 'other information services',\n",
       "       'other support services', 'investment advice',\n",
       "       'specialized design services', 'nude entertainment business',\n",
       "       'cellular & other wireless telecommunications',\n",
       "       'building inspection services', 'printing',\n",
       "       'canvas & related product mills', 'general warehousing & storage',\n",
       "       'couriers', 'offices of pt/ot/speech therapy & audiology',\n",
       "       'printing & related support activities',\n",
       "       'surveying/mapping (exc geophysical) services',\n",
       "       'other warehousing & storage', 'other building material dealers',\n",
       "       'other residential care facilities',\n",
       "       'promoters of entertainment events',\n",
       "       'employment placement agencies',\n",
       "       'process, phys dist & log consulting services',\n",
       "       'apparel manufacturing', 'social assistance',\n",
       "       'pedi-cab (individual)', 'it services & support',\n",
       "       'homes for the elderly', 'landscape architectural services',\n",
       "       'offices of other holding companies',\n",
       "       'building material & supplies dealers', 'publishing industries',\n",
       "       'drafting services', 'couriers & messengers',\n",
       "       'data processing services', 'telecommunications',\n",
       "       'water supply & irrigation systems', 'offices of notaries',\n",
       "       'other social advocacy organizations',\n",
       "       'nursing & residential care facilities', 'information',\n",
       "       'other gasoline stations', 'vending machine operators',\n",
       "       'marketing research & public opinion polling', 'fishing',\n",
       "       'consumer lending', 'periodical publishers',\n",
       "       'public relations agencies', 'other investment pools & funds',\n",
       "       'land subdivision & land development', 'rooming & boarding houses',\n",
       "       'postal service', 'motorcycle dealers', 'payroll services',\n",
       "       'private mail centers',\n",
       "       'human res & exec search consulting services', 'cafeterias',\n",
       "       'ELECTRICAL', 'securities & commodity exchanges',\n",
       "       'bldg material & garden equip & supp dealers', 'other publishers',\n",
       "       'security, commodity contracts & like activity',\n",
       "       'hotels (exc casino hotels) & motels',\n",
       "       'advertising material distribution services',\n",
       "       'other kiosk related business',\n",
       "       'agriculture & forestry support activities',\n",
       "       'elec pwr generation, transmsn & distribution',\n",
       "       'business service centers', 'software publishers',\n",
       "       'sound recording industries',\n",
       "       'wireless telecom carriers (exc satellite)'], dtype=object)"
      ]
     },
     "execution_count": 10,
     "metadata": {},
     "output_type": "execute_result"
    }
   ],
   "source": [
    "df2['ACTIVITY DESC'].unique()"
   ]
  },
  {
   "cell_type": "code",
   "execution_count": 11,
   "metadata": {},
   "outputs": [
    {
     "data": {
      "text/plain": [
       "202"
      ]
     },
     "execution_count": 11,
     "metadata": {},
     "output_type": "execute_result"
    }
   ],
   "source": [
    "df2['ACTIVITY DESC'].unique().size"
   ]
  },
  {
   "cell_type": "code",
   "execution_count": 12,
   "metadata": {},
   "outputs": [],
   "source": [
    "threshold2 = 5 # Anything that occurs less than this will be removed.\n",
    "value_counts2 = df2[\"ACTIVITY DESC\"].value_counts() # Entire DataFrame \n",
    "to_remove2 = value_counts2[value_counts2 <= threshold2].index\n",
    "df2 = df2.drop(to_remove2)\n",
    "#df2.replace(to_remove2, np.nan, inplace=True)"
   ]
  },
  {
   "cell_type": "code",
   "execution_count": 13,
   "metadata": {},
   "outputs": [],
   "source": [
    "#df2['ACTIVITY DESC'].value_counts()"
   ]
  },
  {
   "cell_type": "code",
   "execution_count": 14,
   "metadata": {},
   "outputs": [
    {
     "data": {
      "text/plain": [
       "202"
      ]
     },
     "execution_count": 14,
     "metadata": {},
     "output_type": "execute_result"
    }
   ],
   "source": [
    "df2['ACTIVITY DESC'].unique().size"
   ]
  },
  {
   "cell_type": "code",
   "execution_count": 16,
   "metadata": {},
   "outputs": [],
   "source": [
    "df2.to_csv (r'business_clean_df.csv', header=True) #Don't forget to add '.csv' at the end of the path\n"
   ]
  },
  {
   "cell_type": "code",
   "execution_count": null,
   "metadata": {},
   "outputs": [],
   "source": []
  }
 ],
 "metadata": {
  "kernelspec": {
   "display_name": "Python 3",
   "language": "python",
   "name": "python3"
  },
  "language_info": {
   "codemirror_mode": {
    "name": "ipython",
    "version": 3
   },
   "file_extension": ".py",
   "mimetype": "text/x-python",
   "name": "python",
   "nbconvert_exporter": "python",
   "pygments_lexer": "ipython3",
   "version": "3.6.7"
  }
 },
 "nbformat": 4,
 "nbformat_minor": 2
}
