{
 "cells": [
  {
   "cell_type": "code",
   "execution_count": 1,
   "metadata": {},
   "outputs": [],
   "source": [
    "import csv\n",
    "import numpy as np\n",
    "import pandas as pd\n",
    "import matplotlib.pyplot as plt\n",
    "import seaborn as sns"
   ]
  },
  {
   "cell_type": "code",
   "execution_count": 2,
   "metadata": {},
   "outputs": [],
   "source": [
    "# Input\n",
    "data_file = \"Data/GeoBusinessData/geoBusinessData.csv\"\n",
    "\n",
    "# Generate column names (will be 0, 1, 2, ..., largest_column_count - 1)\n",
    "column_names = ['uid', 'address', 'match?', 'exact?', 'full_address', 'lon,lat', 'remove', 'LR']"
   ]
  },
  {
   "cell_type": "code",
   "execution_count": 3,
   "metadata": {},
   "outputs": [
    {
     "data": {
      "text/plain": [
       "uid             170370\n",
       "address         170370\n",
       "match?          170370\n",
       "exact?           51353\n",
       "full_address     51353\n",
       "lon,lat          51353\n",
       "remove           51353\n",
       "LR               51353\n",
       "dtype: int64"
      ]
     },
     "execution_count": 3,
     "metadata": {},
     "output_type": "execute_result"
    }
   ],
   "source": [
    "geoBusiness_df = pd.read_csv(data_file, header=None, names=column_names)\n",
    "geoBusiness_df.count()"
   ]
  },
  {
   "cell_type": "code",
   "execution_count": null,
   "metadata": {},
   "outputs": [],
   "source": [
    "\n"
   ]
  },
  {
   "cell_type": "code",
   "execution_count": 4,
   "metadata": {},
   "outputs": [],
   "source": [
    "geoBusiness_df = geoBusiness_df.dropna()"
   ]
  },
  {
   "cell_type": "code",
   "execution_count": 5,
   "metadata": {},
   "outputs": [],
   "source": [
    "def shorten(uid) :\n",
    "    return int(str(uid)[0:len(str(uid)) - 3])"
   ]
  },
  {
   "cell_type": "code",
   "execution_count": 6,
   "metadata": {
    "scrolled": false
   },
   "outputs": [],
   "source": [
    "geoBusiness_df['uid'] = geoBusiness_df['uid'].apply(shorten)"
   ]
  },
  {
   "cell_type": "code",
   "execution_count": null,
   "metadata": {},
   "outputs": [],
   "source": []
  },
  {
   "cell_type": "code",
   "execution_count": 7,
   "metadata": {},
   "outputs": [],
   "source": [
    "\n",
    "geoBusiness_df = geoBusiness_df.set_index('uid')\n",
    "geoBusiness_df = geoBusiness_df.sort_index()\n",
    "\n"
   ]
  },
  {
   "cell_type": "code",
   "execution_count": null,
   "metadata": {},
   "outputs": [],
   "source": []
  },
  {
   "cell_type": "code",
   "execution_count": 8,
   "metadata": {},
   "outputs": [],
   "source": [
    "# Input\n",
    "data_file = \"Data/GeoCrimeData/geoCrimeData.csv\"\n",
    "\n",
    "# Generate column names (will be 0, 1, 2, ..., largest_column_count - 1)\n",
    "column_names = ['uid', 'address', 'match?', 'exact?', 'full_address', 'lon,lat', 'remove', 'remove']"
   ]
  },
  {
   "cell_type": "code",
   "execution_count": 9,
   "metadata": {},
   "outputs": [
    {
     "name": "stderr",
     "output_type": "stream",
     "text": [
      "/opt/conda/lib/python3.6/site-packages/pandas/io/parsers.py:678: UserWarning: Duplicate names specified. This will raise an error in the future.\n",
      "  return _read(filepath_or_buffer, kwds)\n",
      "/opt/conda/lib/python3.6/site-packages/IPython/core/interactiveshell.py:2728: DtypeWarning: Columns (6) have mixed types. Specify dtype option on import or set low_memory=False.\n",
      "  interactivity=interactivity, compiler=compiler, result=result)\n"
     ]
    },
    {
     "data": {
      "text/plain": [
       "uid             212754\n",
       "address         212754\n",
       "match?          212754\n",
       "exact?           55351\n",
       "full_address     55351\n",
       "lon,lat          55351\n",
       "remove           55347\n",
       "remove.1         55347\n",
       "dtype: int64"
      ]
     },
     "execution_count": 9,
     "metadata": {},
     "output_type": "execute_result"
    }
   ],
   "source": [
    "geoCrime_df = pd.read_csv(data_file, header=None, names=column_names)\n",
    "geoCrime_df.count()"
   ]
  },
  {
   "cell_type": "code",
   "execution_count": 10,
   "metadata": {},
   "outputs": [],
   "source": [
    "geoCrime_df = geoCrime_df.dropna()\n",
    "geoCrime_df['uid'] = geoCrime_df['uid'].apply(shorten)\n"
   ]
  },
  {
   "cell_type": "code",
   "execution_count": 11,
   "metadata": {},
   "outputs": [],
   "source": [
    "geoCrime_df = geoCrime_df.set_index('uid')\n",
    "geoCrime_df = geoCrime_df.sort_index()\n",
    "\n"
   ]
  },
  {
   "cell_type": "code",
   "execution_count": null,
   "metadata": {},
   "outputs": [],
   "source": []
  },
  {
   "cell_type": "code",
   "execution_count": 12,
   "metadata": {},
   "outputs": [],
   "source": [
    "dfA_L = pd.read_csv('Data/tr_active1.csv')\n",
    "dfL_Z = pd.read_csv('Data/tr_active2.csv')"
   ]
  },
  {
   "cell_type": "code",
   "execution_count": 13,
   "metadata": {},
   "outputs": [
    {
     "data": {
      "text/html": [
       "<div>\n",
       "<style scoped>\n",
       "    .dataframe tbody tr th:only-of-type {\n",
       "        vertical-align: middle;\n",
       "    }\n",
       "\n",
       "    .dataframe tbody tr th {\n",
       "        vertical-align: top;\n",
       "    }\n",
       "\n",
       "    .dataframe thead th {\n",
       "        text-align: right;\n",
       "    }\n",
       "</style>\n",
       "<table border=\"1\" class=\"dataframe\">\n",
       "  <thead>\n",
       "    <tr style=\"text-align: right;\">\n",
       "      <th></th>\n",
       "      <th>address</th>\n",
       "      <th>match?</th>\n",
       "      <th>exact?</th>\n",
       "      <th>full_address</th>\n",
       "      <th>lon,lat</th>\n",
       "      <th>remove</th>\n",
       "      <th>LR</th>\n",
       "    </tr>\n",
       "    <tr>\n",
       "      <th>uid</th>\n",
       "      <th></th>\n",
       "      <th></th>\n",
       "      <th></th>\n",
       "      <th></th>\n",
       "      <th></th>\n",
       "      <th></th>\n",
       "      <th></th>\n",
       "    </tr>\n",
       "  </thead>\n",
       "  <tbody>\n",
       "    <tr>\n",
       "      <th>1</th>\n",
       "      <td>5754 ELK ST, SAN DIEGO, CA,</td>\n",
       "      <td>Match</td>\n",
       "      <td>Exact</td>\n",
       "      <td>5754 ELK ST, SAN DIEGO, CA, 92114</td>\n",
       "      <td>-117.07374,32.704464</td>\n",
       "      <td>648577820.0</td>\n",
       "      <td>L</td>\n",
       "    </tr>\n",
       "    <tr>\n",
       "      <th>2</th>\n",
       "      <td>4356 POPLAR ST, SAN DIEGO, CA,</td>\n",
       "      <td>Match</td>\n",
       "      <td>Exact</td>\n",
       "      <td>4356 POPLAR ST, SAN DIEGO, CA, 92105</td>\n",
       "      <td>-117.10183,32.737766</td>\n",
       "      <td>195347398.0</td>\n",
       "      <td>L</td>\n",
       "    </tr>\n",
       "    <tr>\n",
       "      <th>3</th>\n",
       "      <td>17471 PLAZA CERADO SUITE 98, SAN DIEGO, CA,</td>\n",
       "      <td>Match</td>\n",
       "      <td>Non_Exact</td>\n",
       "      <td>17471 PLZ CERADO, SAN DIEGO, CA, 92128</td>\n",
       "      <td>-117.05527,33.028744</td>\n",
       "      <td>612877365.0</td>\n",
       "      <td>R</td>\n",
       "    </tr>\n",
       "    <tr>\n",
       "      <th>4</th>\n",
       "      <td>3916 NORMAL ST, SAN DIEGO, CA,</td>\n",
       "      <td>Match</td>\n",
       "      <td>Exact</td>\n",
       "      <td>3916 NORMAL ST, SAN DIEGO, CA, 92103</td>\n",
       "      <td>-117.14946,32.749218</td>\n",
       "      <td>195342882.0</td>\n",
       "      <td>L</td>\n",
       "    </tr>\n",
       "    <tr>\n",
       "      <th>5</th>\n",
       "      <td>5383 AUBURN DR, SAN DIEGO, CA,</td>\n",
       "      <td>Match</td>\n",
       "      <td>Exact</td>\n",
       "      <td>5383 AUBURN DR, SAN DIEGO, CA, 92105</td>\n",
       "      <td>-117.089806,32.73843</td>\n",
       "      <td>195350513.0</td>\n",
       "      <td>R</td>\n",
       "    </tr>\n",
       "  </tbody>\n",
       "</table>\n",
       "</div>"
      ],
      "text/plain": [
       "                                          address match?     exact?  \\\n",
       "uid                                                                   \n",
       "1                    5754 ELK ST, SAN DIEGO, CA,   Match      Exact   \n",
       "2                 4356 POPLAR ST, SAN DIEGO, CA,   Match      Exact   \n",
       "3    17471 PLAZA CERADO SUITE 98, SAN DIEGO, CA,   Match  Non_Exact   \n",
       "4                 3916 NORMAL ST, SAN DIEGO, CA,   Match      Exact   \n",
       "5                 5383 AUBURN DR, SAN DIEGO, CA,   Match      Exact   \n",
       "\n",
       "                               full_address               lon,lat  \\\n",
       "uid                                                                 \n",
       "1         5754 ELK ST, SAN DIEGO, CA, 92114  -117.07374,32.704464   \n",
       "2      4356 POPLAR ST, SAN DIEGO, CA, 92105  -117.10183,32.737766   \n",
       "3    17471 PLZ CERADO, SAN DIEGO, CA, 92128  -117.05527,33.028744   \n",
       "4      3916 NORMAL ST, SAN DIEGO, CA, 92103  -117.14946,32.749218   \n",
       "5      5383 AUBURN DR, SAN DIEGO, CA, 92105  -117.089806,32.73843   \n",
       "\n",
       "          remove LR  \n",
       "uid                  \n",
       "1    648577820.0  L  \n",
       "2    195347398.0  L  \n",
       "3    612877365.0  R  \n",
       "4    195342882.0  L  \n",
       "5    195350513.0  R  "
      ]
     },
     "execution_count": 13,
     "metadata": {},
     "output_type": "execute_result"
    }
   ],
   "source": [
    "dfA_L[\"lon\"] = np.nan\n",
    "dfA_L[\"lat\"] = np.nan\n",
    "dfL_Z[\"lon\"] = np.nan\n",
    "dfL_Z[\"lat\"] = np.nan\n",
    "geoBusiness_df.head()"
   ]
  },
  {
   "cell_type": "code",
   "execution_count": 14,
   "metadata": {},
   "outputs": [],
   "source": [
    "for i in range (0,len(dfA_L)) :\n",
    "    try :\n",
    "        loc_lat = geoBusiness_df.loc[i,:][\"lon,lat\"]\n",
    "        dfA_L.iat[i, len(dfA_L.columns) - 2] = loc_lat[0:loc_lat.find(',')]\n",
    "        dfA_L.iat[i, len(dfA_L.columns) - 1] = loc_lat[loc_lat.find(',')+1:]\n",
    "    except :\n",
    "        continue\n",
    "   "
   ]
  },
  {
   "cell_type": "code",
   "execution_count": null,
   "metadata": {},
   "outputs": [],
   "source": []
  },
  {
   "cell_type": "code",
   "execution_count": 15,
   "metadata": {},
   "outputs": [],
   "source": [
    "dfA_L.dropna(inplace = True)"
   ]
  },
  {
   "cell_type": "code",
   "execution_count": 16,
   "metadata": {},
   "outputs": [],
   "source": [
    "for i in range (0,len(dfL_Z)) :\n",
    "    try :\n",
    "        loc_lat = geoBusiness_df.loc[28302 + i,:][\"lon,lat\"]\n",
    "        dfL_Z.iat[i, len(dfL_Z.columns) - 2] = loc_lat[0:loc_lat.find(',')]\n",
    "        dfL_Z.iat[i, len(dfL_Z.columns) - 1] = loc_lat[loc_lat.find(',')+1:]\n",
    "    except :\n",
    "        continue"
   ]
  },
  {
   "cell_type": "code",
   "execution_count": 17,
   "metadata": {},
   "outputs": [],
   "source": [
    "dfL_Z.dropna(inplace = True)"
   ]
  },
  {
   "cell_type": "code",
   "execution_count": null,
   "metadata": {},
   "outputs": [],
   "source": []
  },
  {
   "cell_type": "code",
   "execution_count": 18,
   "metadata": {},
   "outputs": [
    {
     "name": "stderr",
     "output_type": "stream",
     "text": [
      "/opt/conda/lib/python3.6/site-packages/pandas/io/parsers.py:678: UserWarning: Duplicate names specified. This will raise an error in the future.\n",
      "  return _read(filepath_or_buffer, kwds)\n",
      "/opt/conda/lib/python3.6/site-packages/IPython/core/interactiveshell.py:2728: DtypeWarning: Columns (0,5,7,9,10,11,13,16,17,19,22,23,29,31,33,35) have mixed types. Specify dtype option on import or set low_memory=False.\n",
      "  interactivity=interactivity, compiler=compiler, result=result)\n"
     ]
    }
   ],
   "source": [
    "df_traffic = pd.read_csv(\"traffic.csv\", header=None, names=column_names)\n",
    "df_reasonable = pd.read_csv(\"reasonable.csv\", header=None, names=column_names)\n",
    "\n"
   ]
  },
  {
   "cell_type": "code",
   "execution_count": 19,
   "metadata": {},
   "outputs": [
    {
     "data": {
      "text/html": [
       "<div>\n",
       "<style scoped>\n",
       "    .dataframe tbody tr th:only-of-type {\n",
       "        vertical-align: middle;\n",
       "    }\n",
       "\n",
       "    .dataframe tbody tr th {\n",
       "        vertical-align: top;\n",
       "    }\n",
       "\n",
       "    .dataframe thead th {\n",
       "        text-align: right;\n",
       "    }\n",
       "</style>\n",
       "<table border=\"1\" class=\"dataframe\">\n",
       "  <thead>\n",
       "    <tr style=\"text-align: right;\">\n",
       "      <th></th>\n",
       "      <th>address</th>\n",
       "      <th>lon,lat</th>\n",
       "    </tr>\n",
       "    <tr>\n",
       "      <th>uid</th>\n",
       "      <th></th>\n",
       "      <th></th>\n",
       "    </tr>\n",
       "  </thead>\n",
       "  <tbody>\n",
       "    <tr>\n",
       "      <th>2443</th>\n",
       "      <td>700 Grand Avenue, El Cajon, CA,</td>\n",
       "      <td>-116.970985,32.785866</td>\n",
       "    </tr>\n",
       "    <tr>\n",
       "      <th>2443</th>\n",
       "      <td>700 Grand Avenue, SAN DIEGO, CA,</td>\n",
       "      <td>-117.255974,32.79445</td>\n",
       "    </tr>\n",
       "    <tr>\n",
       "      <th>2447</th>\n",
       "      <td>4400 59th Street, SAN DIEGO, CA,</td>\n",
       "      <td>-117.07028,32.75826</td>\n",
       "    </tr>\n",
       "    <tr>\n",
       "      <th>2448</th>\n",
       "      <td>4800 NIAGARA AVE, SAN DIEGO, CA,</td>\n",
       "      <td>-117.24846,32.74397</td>\n",
       "    </tr>\n",
       "    <tr>\n",
       "      <th>2449</th>\n",
       "      <td>4500 la jolla village dr, SAN DIEGO, CA,</td>\n",
       "      <td>-117.208534,32.873898</td>\n",
       "    </tr>\n",
       "  </tbody>\n",
       "</table>\n",
       "</div>"
      ],
      "text/plain": [
       "                                        address                lon,lat\n",
       "uid                                                                   \n",
       "2443           700 Grand Avenue, El Cajon, CA,   -116.970985,32.785866\n",
       "2443          700 Grand Avenue, SAN DIEGO, CA,    -117.255974,32.79445\n",
       "2447          4400 59th Street, SAN DIEGO, CA,     -117.07028,32.75826\n",
       "2448          4800 NIAGARA AVE, SAN DIEGO, CA,     -117.24846,32.74397\n",
       "2449  4500 la jolla village dr, SAN DIEGO, CA,   -117.208534,32.873898"
      ]
     },
     "execution_count": 19,
     "metadata": {},
     "output_type": "execute_result"
    }
   ],
   "source": [
    "geoCrime_df = geoCrime_df.drop(columns = [\"match?\", \"exact?\", \"full_address\", \"remove\", \"remove.1\"], axis=1)\n",
    "geoCrime_df.head()"
   ]
  },
  {
   "cell_type": "code",
   "execution_count": 20,
   "metadata": {},
   "outputs": [],
   "source": []
  },
  {
   "cell_type": "code",
   "execution_count": 23,
   "metadata": {},
   "outputs": [
    {
     "name": "stderr",
     "output_type": "stream",
     "text": [
      "/opt/conda/lib/python3.6/site-packages/ipykernel_launcher.py:2: FutureWarning: 'get_duplicates' is deprecated and will be removed in a future release. You can use idx[idx.duplicated()].unique() instead\n",
      "  \n"
     ]
    }
   ],
   "source": [
    "\n",
    "duplicates_to_delete = geoCrime_df.index.get_level_values('uid').get_duplicates()\n",
    "geoCrime_df"
   ]
  },
  {
   "cell_type": "code",
   "execution_count": 25,
   "metadata": {},
   "outputs": [
    {
     "data": {
      "text/plain": [
       "Int64Index([ 2443,  2543,  2658,  2729,  2774,  2985,  2995,  3031,  3062,\n",
       "             3137,\n",
       "            ...\n",
       "            82541, 82619, 82801, 82994, 83054, 83067, 83104, 83105, 83109,\n",
       "            83150],\n",
       "           dtype='int64', name='uid', length=1371)"
      ]
     },
     "execution_count": 25,
     "metadata": {},
     "output_type": "execute_result"
    }
   ],
   "source": [
    "duplicates_to_delete"
   ]
  },
  {
   "cell_type": "code",
   "execution_count": 28,
   "metadata": {},
   "outputs": [],
   "source": [
    "geoCrime_df = geoCrime_df.drop(duplicates_to_delete)"
   ]
  },
  {
   "cell_type": "code",
   "execution_count": 29,
   "metadata": {},
   "outputs": [
    {
     "data": {
      "text/html": [
       "<div>\n",
       "<style scoped>\n",
       "    .dataframe tbody tr th:only-of-type {\n",
       "        vertical-align: middle;\n",
       "    }\n",
       "\n",
       "    .dataframe tbody tr th {\n",
       "        vertical-align: top;\n",
       "    }\n",
       "\n",
       "    .dataframe thead th {\n",
       "        text-align: right;\n",
       "    }\n",
       "</style>\n",
       "<table border=\"1\" class=\"dataframe\">\n",
       "  <thead>\n",
       "    <tr style=\"text-align: right;\">\n",
       "      <th></th>\n",
       "      <th>address</th>\n",
       "      <th>lon,lat</th>\n",
       "    </tr>\n",
       "    <tr>\n",
       "      <th>uid</th>\n",
       "      <th></th>\n",
       "      <th></th>\n",
       "    </tr>\n",
       "  </thead>\n",
       "  <tbody>\n",
       "    <tr>\n",
       "      <th>2447</th>\n",
       "      <td>4400 59th Street, SAN DIEGO, CA,</td>\n",
       "      <td>-117.07028,32.75826</td>\n",
       "    </tr>\n",
       "    <tr>\n",
       "      <th>2448</th>\n",
       "      <td>4800 NIAGARA AVE, SAN DIEGO, CA,</td>\n",
       "      <td>-117.24846,32.74397</td>\n",
       "    </tr>\n",
       "    <tr>\n",
       "      <th>2449</th>\n",
       "      <td>4500 la jolla village dr, SAN DIEGO, CA,</td>\n",
       "      <td>-117.208534,32.873898</td>\n",
       "    </tr>\n",
       "    <tr>\n",
       "      <th>2451</th>\n",
       "      <td>800 Thomas, SAN DIEGO, CA,</td>\n",
       "      <td>-117.253426,32.793934</td>\n",
       "    </tr>\n",
       "    <tr>\n",
       "      <th>2453</th>\n",
       "      <td>4800 LOGAN AVENUE, SAN DIEGO, CA,</td>\n",
       "      <td>-117.09197,32.696804</td>\n",
       "    </tr>\n",
       "  </tbody>\n",
       "</table>\n",
       "</div>"
      ],
      "text/plain": [
       "                                        address                lon,lat\n",
       "uid                                                                   \n",
       "2447          4400 59th Street, SAN DIEGO, CA,     -117.07028,32.75826\n",
       "2448          4800 NIAGARA AVE, SAN DIEGO, CA,     -117.24846,32.74397\n",
       "2449  4500 la jolla village dr, SAN DIEGO, CA,   -117.208534,32.873898\n",
       "2451                800 Thomas, SAN DIEGO, CA,   -117.253426,32.793934\n",
       "2453         4800 LOGAN AVENUE, SAN DIEGO, CA,    -117.09197,32.696804"
      ]
     },
     "execution_count": 29,
     "metadata": {},
     "output_type": "execute_result"
    }
   ],
   "source": [
    "geoCrime_df.head()"
   ]
  },
  {
   "cell_type": "code",
   "execution_count": 30,
   "metadata": {},
   "outputs": [],
   "source": [
    "df_traffic[\"lon\"] = np.nan\n",
    "df_traffic[\"lat\"] = np.nan\n",
    "df_reasonable[\"lon\"] = np.nan\n",
    "df_reasonable[\"lat\"] = np.nan"
   ]
  },
  {
   "cell_type": "code",
   "execution_count": null,
   "metadata": {},
   "outputs": [
    {
     "name": "stderr",
     "output_type": "stream",
     "text": [
      "/opt/conda/lib/python3.6/site-packages/ipykernel/zmqshell.py:536: PerformanceWarning: indexing past lexsort depth may impact performance.\n",
      "  return super(ZMQInteractiveShell, self).run_cell(*args, **kwargs)\n"
     ]
    }
   ],
   "source": [
    "for index, row in geoCrime_df.iterrows():\n",
    "    n=0\n",
    "    loc_lat = row[\"lon,lat\"]\n",
    "    try :\n",
    "        df_traffic.at[index, \"lon\"] = loc_lat[0:loc_lat.find(',')]\n",
    "        df_traffic.at[index, \"lat\"] = loc_lat[loc_lat.find(',')+1:]\n",
    "    except :\n",
    "        n=n+1\n",
    "    try :\n",
    "        df_reasonable.at[index, \"lon\"] = loc_lat[0:loc_lat.find(',')]\n",
    "        df_reasonable.at[index, \"lat\"] = loc_lat[loc_lat.find(',')+1:]\n",
    "    except :\n",
    "        continue\n"
   ]
  },
  {
   "cell_type": "code",
   "execution_count": null,
   "metadata": {},
   "outputs": [],
   "source": [
    "df_traffic.head()"
   ]
  },
  {
   "cell_type": "code",
   "execution_count": null,
   "metadata": {},
   "outputs": [],
   "source": []
  },
  {
   "cell_type": "code",
   "execution_count": null,
   "metadata": {},
   "outputs": [],
   "source": [
    "loc_lat = loc_lat[2448][\"lon,lat\"]\n",
    "df_traffic.at[2448, \"lon\"] = loc_lat[0:loc_lat.find(',')]\n",
    "df_traffic.at[2448, \"lat\"] = loc_lat[loc_lat.find(',')+1:]"
   ]
  },
  {
   "cell_type": "code",
   "execution_count": null,
   "metadata": {},
   "outputs": [],
   "source": []
  }
 ],
 "metadata": {
  "kernelspec": {
   "display_name": "Python 3",
   "language": "python",
   "name": "python3"
  },
  "language_info": {
   "codemirror_mode": {
    "name": "ipython",
    "version": 3
   },
   "file_extension": ".py",
   "mimetype": "text/x-python",
   "name": "python",
   "nbconvert_exporter": "python",
   "pygments_lexer": "ipython3",
   "version": "3.6.7"
  }
 },
 "nbformat": 4,
 "nbformat_minor": 2
}
