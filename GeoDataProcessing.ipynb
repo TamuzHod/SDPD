{
 "cells": [
  {
   "cell_type": "code",
   "execution_count": 1,
   "metadata": {},
   "outputs": [],
   "source": [
    "import csv\n",
    "import numpy as np\n",
    "import pandas as pd\n",
    "import matplotlib.pyplot as plt\n",
    "import seaborn as sns"
   ]
  },
  {
   "cell_type": "code",
   "execution_count": 2,
   "metadata": {},
   "outputs": [],
   "source": [
    "# Input\n",
    "data_file = \"Data/GeoBusinessData/geoBusinessData.csv\"\n",
    "\n",
    "# Generate column names (will be 0, 1, 2, ..., largest_column_count - 1)\n",
    "column_names = ['uid', 'address', 'match?', 'exact?', 'full_address', 'lon,lat', 'remove', 'LR']"
   ]
  },
  {
   "cell_type": "code",
   "execution_count": 3,
   "metadata": {},
   "outputs": [
    {
     "data": {
      "text/plain": [
       "uid             170370\n",
       "address         170370\n",
       "match?          170370\n",
       "exact?           51353\n",
       "full_address     51353\n",
       "lon,lat          51353\n",
       "remove           51353\n",
       "LR               51353\n",
       "dtype: int64"
      ]
     },
     "execution_count": 3,
     "metadata": {},
     "output_type": "execute_result"
    }
   ],
   "source": [
    "geoBusiness_df = pd.read_csv(data_file, header=None, names=column_names)\n",
    "geoBusiness_df.count()"
   ]
  },
  {
   "cell_type": "code",
   "execution_count": null,
   "metadata": {},
   "outputs": [],
   "source": [
    "\n"
   ]
  },
  {
   "cell_type": "code",
   "execution_count": 4,
   "metadata": {},
   "outputs": [],
   "source": [
    "geoBusiness_df = geoBusiness_df.dropna()"
   ]
  },
  {
   "cell_type": "code",
   "execution_count": 5,
   "metadata": {},
   "outputs": [],
   "source": [
    "def shorten(uid) :\n",
    "    return int(str(uid)[0:len(str(uid)) - 3])"
   ]
  },
  {
   "cell_type": "code",
   "execution_count": 6,
   "metadata": {
    "scrolled": false
   },
   "outputs": [],
   "source": [
    "geoBusiness_df['uid'] = geoBusiness_df['uid'].apply(shorten)"
   ]
  },
  {
   "cell_type": "code",
   "execution_count": null,
   "metadata": {},
   "outputs": [],
   "source": []
  },
  {
   "cell_type": "code",
   "execution_count": 7,
   "metadata": {},
   "outputs": [],
   "source": [
    "\n",
    "geoBusiness_df = geoBusiness_df.set_index('uid')\n",
    "geoBusiness_df = geoBusiness_df.sort_index()\n",
    "\n"
   ]
  },
  {
   "cell_type": "code",
   "execution_count": null,
   "metadata": {},
   "outputs": [],
   "source": []
  },
  {
   "cell_type": "code",
   "execution_count": 8,
   "metadata": {},
   "outputs": [],
   "source": [
    "# Input\n",
    "data_file = \"Data/GeoCrimeData/geoCrimeData.csv\"\n",
    "\n",
    "# Generate column names (will be 0, 1, 2, ..., largest_column_count - 1)\n",
    "column_names = ['uid', 'address', 'match?', 'exact?', 'full_address', 'lon,lat', 'remove', 'remove']"
   ]
  },
  {
   "cell_type": "code",
   "execution_count": 9,
   "metadata": {},
   "outputs": [
    {
     "name": "stderr",
     "output_type": "stream",
     "text": [
      "/opt/conda/lib/python3.6/site-packages/pandas/io/parsers.py:678: UserWarning: Duplicate names specified. This will raise an error in the future.\n",
      "  return _read(filepath_or_buffer, kwds)\n",
      "/opt/conda/lib/python3.6/site-packages/IPython/core/interactiveshell.py:2728: DtypeWarning: Columns (6) have mixed types. Specify dtype option on import or set low_memory=False.\n",
      "  interactivity=interactivity, compiler=compiler, result=result)\n"
     ]
    },
    {
     "data": {
      "text/plain": [
       "uid             212754\n",
       "address         212754\n",
       "match?          212754\n",
       "exact?           55351\n",
       "full_address     55351\n",
       "lon,lat          55351\n",
       "remove           55347\n",
       "remove.1         55347\n",
       "dtype: int64"
      ]
     },
     "execution_count": 9,
     "metadata": {},
     "output_type": "execute_result"
    }
   ],
   "source": [
    "geoCrime_df = pd.read_csv(data_file, header=None, names=column_names)\n",
    "geoCrime_df.count()"
   ]
  },
  {
   "cell_type": "code",
   "execution_count": 10,
   "metadata": {},
   "outputs": [],
   "source": [
    "geoCrime_df = geoCrime_df.dropna()\n",
    "geoCrime_df['uid'] = geoCrime_df['uid'].apply(shorten)"
   ]
  },
  {
   "cell_type": "code",
   "execution_count": 11,
   "metadata": {},
   "outputs": [],
   "source": [
    "geoCrime_df = geoCrime_df.set_index('uid')\n",
    "geoCrime_df = geoCrime_df.sort_index()\n",
    "\n"
   ]
  },
  {
   "cell_type": "code",
   "execution_count": 12,
   "metadata": {},
   "outputs": [
    {
     "name": "stderr",
     "output_type": "stream",
     "text": [
      "/opt/conda/lib/python3.6/site-packages/ipykernel_launcher.py:1: FutureWarning: 'get_duplicates' is deprecated and will be removed in a future release. You can use idx[idx.duplicated()].unique() instead\n",
      "  \"\"\"Entry point for launching an IPython kernel.\n"
     ]
    }
   ],
   "source": [
    "duplicates_to_delete = geoCrime_df.index.get_level_values('uid').get_duplicates()"
   ]
  },
  {
   "cell_type": "code",
   "execution_count": 13,
   "metadata": {},
   "outputs": [],
   "source": [
    "dfA_L = pd.read_csv('Data/tr_active1.csv')\n",
    "dfL_Z = pd.read_csv('Data/tr_active2.csv')"
   ]
  },
  {
   "cell_type": "code",
   "execution_count": 14,
   "metadata": {},
   "outputs": [
    {
     "data": {
      "text/html": [
       "<div>\n",
       "<style scoped>\n",
       "    .dataframe tbody tr th:only-of-type {\n",
       "        vertical-align: middle;\n",
       "    }\n",
       "\n",
       "    .dataframe tbody tr th {\n",
       "        vertical-align: top;\n",
       "    }\n",
       "\n",
       "    .dataframe thead th {\n",
       "        text-align: right;\n",
       "    }\n",
       "</style>\n",
       "<table border=\"1\" class=\"dataframe\">\n",
       "  <thead>\n",
       "    <tr style=\"text-align: right;\">\n",
       "      <th></th>\n",
       "      <th>address</th>\n",
       "      <th>match?</th>\n",
       "      <th>exact?</th>\n",
       "      <th>full_address</th>\n",
       "      <th>lon,lat</th>\n",
       "      <th>remove</th>\n",
       "      <th>LR</th>\n",
       "    </tr>\n",
       "    <tr>\n",
       "      <th>uid</th>\n",
       "      <th></th>\n",
       "      <th></th>\n",
       "      <th></th>\n",
       "      <th></th>\n",
       "      <th></th>\n",
       "      <th></th>\n",
       "      <th></th>\n",
       "    </tr>\n",
       "  </thead>\n",
       "  <tbody>\n",
       "    <tr>\n",
       "      <th>1</th>\n",
       "      <td>5754 ELK ST, SAN DIEGO, CA,</td>\n",
       "      <td>Match</td>\n",
       "      <td>Exact</td>\n",
       "      <td>5754 ELK ST, SAN DIEGO, CA, 92114</td>\n",
       "      <td>-117.07374,32.704464</td>\n",
       "      <td>648577820.0</td>\n",
       "      <td>L</td>\n",
       "    </tr>\n",
       "    <tr>\n",
       "      <th>2</th>\n",
       "      <td>4356 POPLAR ST, SAN DIEGO, CA,</td>\n",
       "      <td>Match</td>\n",
       "      <td>Exact</td>\n",
       "      <td>4356 POPLAR ST, SAN DIEGO, CA, 92105</td>\n",
       "      <td>-117.10183,32.737766</td>\n",
       "      <td>195347398.0</td>\n",
       "      <td>L</td>\n",
       "    </tr>\n",
       "    <tr>\n",
       "      <th>3</th>\n",
       "      <td>17471 PLAZA CERADO SUITE 98, SAN DIEGO, CA,</td>\n",
       "      <td>Match</td>\n",
       "      <td>Non_Exact</td>\n",
       "      <td>17471 PLZ CERADO, SAN DIEGO, CA, 92128</td>\n",
       "      <td>-117.05527,33.028744</td>\n",
       "      <td>612877365.0</td>\n",
       "      <td>R</td>\n",
       "    </tr>\n",
       "    <tr>\n",
       "      <th>4</th>\n",
       "      <td>3916 NORMAL ST, SAN DIEGO, CA,</td>\n",
       "      <td>Match</td>\n",
       "      <td>Exact</td>\n",
       "      <td>3916 NORMAL ST, SAN DIEGO, CA, 92103</td>\n",
       "      <td>-117.14946,32.749218</td>\n",
       "      <td>195342882.0</td>\n",
       "      <td>L</td>\n",
       "    </tr>\n",
       "    <tr>\n",
       "      <th>5</th>\n",
       "      <td>5383 AUBURN DR, SAN DIEGO, CA,</td>\n",
       "      <td>Match</td>\n",
       "      <td>Exact</td>\n",
       "      <td>5383 AUBURN DR, SAN DIEGO, CA, 92105</td>\n",
       "      <td>-117.089806,32.73843</td>\n",
       "      <td>195350513.0</td>\n",
       "      <td>R</td>\n",
       "    </tr>\n",
       "  </tbody>\n",
       "</table>\n",
       "</div>"
      ],
      "text/plain": [
       "                                          address match?     exact?  \\\n",
       "uid                                                                   \n",
       "1                    5754 ELK ST, SAN DIEGO, CA,   Match      Exact   \n",
       "2                 4356 POPLAR ST, SAN DIEGO, CA,   Match      Exact   \n",
       "3    17471 PLAZA CERADO SUITE 98, SAN DIEGO, CA,   Match  Non_Exact   \n",
       "4                 3916 NORMAL ST, SAN DIEGO, CA,   Match      Exact   \n",
       "5                 5383 AUBURN DR, SAN DIEGO, CA,   Match      Exact   \n",
       "\n",
       "                               full_address               lon,lat  \\\n",
       "uid                                                                 \n",
       "1         5754 ELK ST, SAN DIEGO, CA, 92114  -117.07374,32.704464   \n",
       "2      4356 POPLAR ST, SAN DIEGO, CA, 92105  -117.10183,32.737766   \n",
       "3    17471 PLZ CERADO, SAN DIEGO, CA, 92128  -117.05527,33.028744   \n",
       "4      3916 NORMAL ST, SAN DIEGO, CA, 92103  -117.14946,32.749218   \n",
       "5      5383 AUBURN DR, SAN DIEGO, CA, 92105  -117.089806,32.73843   \n",
       "\n",
       "          remove LR  \n",
       "uid                  \n",
       "1    648577820.0  L  \n",
       "2    195347398.0  L  \n",
       "3    612877365.0  R  \n",
       "4    195342882.0  L  \n",
       "5    195350513.0  R  "
      ]
     },
     "execution_count": 14,
     "metadata": {},
     "output_type": "execute_result"
    }
   ],
   "source": [
    "dfA_L[\"lon\"] = np.nan\n",
    "dfA_L[\"lat\"] = np.nan\n",
    "dfL_Z[\"lon\"] = np.nan\n",
    "dfL_Z[\"lat\"] = np.nan\n",
    "geoBusiness_df.head()"
   ]
  },
  {
   "cell_type": "code",
   "execution_count": 18,
   "metadata": {},
   "outputs": [],
   "source": [
    "for i in range (0,len(dfA_L)) :\n",
    "    try :\n",
    "        loc_lat = geoBusiness_df.loc[i,:][\"lon,lat\"]\n",
    "        dfA_L.iat[i, len(dfA_L.columns) - 2] = loc_lat[0:loc_lat.find(',')]\n",
    "        dfA_L.iat[i, len(dfA_L.columns) - 1] = loc_lat[loc_lat.find(',')+1:]\n",
    "    except :\n",
    "        continue\n",
    "   "
   ]
  },
  {
   "cell_type": "code",
   "execution_count": null,
   "metadata": {},
   "outputs": [],
   "source": [
    " dfA_L"
   ]
  },
  {
   "cell_type": "code",
   "execution_count": null,
   "metadata": {},
   "outputs": [],
   "source": [
    "dfA_L.dropna(inplace = True)"
   ]
  },
  {
   "cell_type": "code",
   "execution_count": null,
   "metadata": {},
   "outputs": [],
   "source": [
    "for i in range (0,len(dfL_Z)) :\n",
    "    try :\n",
    "        loc_lat = geoBusiness_df.loc[28302 + i,:][\"lon,lat\"]\n",
    "        dfL_Z.iat[i, len(dfL_Z.columns) - 2] = loc_lat[0:loc_lat.find(',')]\n",
    "        dfL_Z.iat[i, len(dfL_Z.columns) - 1] = loc_lat[loc_lat.find(',')+1:]\n"
   ]
  },
  {
   "cell_type": "code",
   "execution_count": null,
   "metadata": {},
   "outputs": [],
   "source": [
    "dfL_Z.dropna(inplace = True)"
   ]
  },
  {
   "cell_type": "code",
   "execution_count": null,
   "metadata": {},
   "outputs": [],
   "source": []
  },
  {
   "cell_type": "code",
   "execution_count": null,
   "metadata": {},
   "outputs": [],
   "source": [
    "\n",
    "dfL_Z\n"
   ]
  },
  {
   "cell_type": "code",
   "execution_count": null,
   "metadata": {},
   "outputs": [],
   "source": [
    "geoCrime_df"
   ]
  },
  {
   "cell_type": "code",
   "execution_count": null,
   "metadata": {},
   "outputs": [],
   "source": []
  }
 ],
 "metadata": {
  "kernelspec": {
   "display_name": "Python 3",
   "language": "python",
   "name": "python3"
  },
  "language_info": {
   "codemirror_mode": {
    "name": "ipython",
    "version": 3
   },
   "file_extension": ".py",
   "mimetype": "text/x-python",
   "name": "python",
   "nbconvert_exporter": "python",
   "pygments_lexer": "ipython3",
   "version": "3.6.7"
  }
 },
 "nbformat": 4,
 "nbformat_minor": 2
}
