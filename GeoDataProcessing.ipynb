{
 "cells": [
  {
   "cell_type": "code",
   "execution_count": 1,
   "metadata": {},
   "outputs": [],
   "source": [
    "import csv\n",
    "import numpy as np\n",
    "import pandas as pd\n",
    "import matplotlib.pyplot as plt\n",
    "import seaborn as sns"
   ]
  },
  {
   "cell_type": "code",
   "execution_count": 2,
   "metadata": {},
   "outputs": [],
   "source": [
    "# Input\n",
    "data_file = \"Data/GeoBusinessData/geoBusinessData.csv\"\n",
    "\n",
    "# Generate column names (will be 0, 1, 2, ..., largest_column_count - 1)\n",
    "column_names = ['uid', 'address', 'match?', 'exact?', 'full_address', 'lon,lat', 'remove', 'LR']"
   ]
  },
  {
   "cell_type": "code",
   "execution_count": 3,
   "metadata": {},
   "outputs": [
    {
     "data": {
      "text/plain": [
       "uid             170370\n",
       "address         170370\n",
       "match?          170370\n",
       "exact?           51353\n",
       "full_address     51353\n",
       "lon,lat          51353\n",
       "remove           51353\n",
       "LR               51353\n",
       "dtype: int64"
      ]
     },
     "execution_count": 3,
     "metadata": {},
     "output_type": "execute_result"
    }
   ],
   "source": [
    "geoBusiness_df = pd.read_csv(data_file, header=None, names=column_names)\n",
    "geoBusiness_df.count()"
   ]
  },
  {
   "cell_type": "code",
   "execution_count": null,
   "metadata": {},
   "outputs": [],
   "source": [
    "\n"
   ]
  },
  {
   "cell_type": "code",
   "execution_count": 4,
   "metadata": {},
   "outputs": [],
   "source": [
    "geoBusiness_df = geoBusiness_df.dropna()"
   ]
  },
  {
   "cell_type": "code",
   "execution_count": 5,
   "metadata": {},
   "outputs": [],
   "source": [
    "def shorten(uid) :\n",
    "    return int(str(uid)[0:len(str(uid)) - 3])"
   ]
  },
  {
   "cell_type": "code",
   "execution_count": 6,
   "metadata": {
    "scrolled": false
   },
   "outputs": [],
   "source": [
    "geoBusiness_df['uid'] = geoBusiness_df['uid'].apply(shorten)"
   ]
  },
  {
   "cell_type": "code",
   "execution_count": null,
   "metadata": {},
   "outputs": [],
   "source": []
  },
  {
   "cell_type": "code",
   "execution_count": 7,
   "metadata": {},
   "outputs": [],
   "source": [
    "\n",
    "geoBusiness_df = geoBusiness_df.set_index('uid')\n",
    "geoBusiness_df = geoBusiness_df.sort_index()\n",
    "\n"
   ]
  },
  {
   "cell_type": "code",
   "execution_count": null,
   "metadata": {},
   "outputs": [],
   "source": []
  },
  {
   "cell_type": "code",
   "execution_count": 8,
   "metadata": {},
   "outputs": [
    {
     "name": "stderr",
     "output_type": "stream",
     "text": [
      "/opt/conda/lib/python3.6/site-packages/pandas/io/parsers.py:678: UserWarning: Duplicate names specified. This will raise an error in the future.\n",
      "  return _read(filepath_or_buffer, kwds)\n",
      "/opt/conda/lib/python3.6/site-packages/IPython/core/interactiveshell.py:2728: DtypeWarning: Columns (6) have mixed types. Specify dtype option on import or set low_memory=False.\n",
      "  interactivity=interactivity, compiler=compiler, result=result)\n"
     ]
    }
   ],
   "source": [
    "'''\n",
    "# Input\n",
    "data_file = \"Data/GeoCrimeData/geoCrimeData.csv\"\n",
    "\n",
    "# Generate column names (will be 0, 1, 2, ..., largest_column_count - 1)\n",
    "column_names = ['uid', 'address', 'match?', 'exact?', 'full_address', 'lon,lat', 'remove', 'remove']\n",
    "\n",
    "geoCrime_df = pd.read_csv(data_file, header=None, names=column_names)\n",
    "\n",
    "geoCrime_df = geoCrime_df.dropna()\n",
    "geoCrime_df['uid'] = geoCrime_df['uid'].apply(shorten)\n",
    "\n",
    "geoCrime_df = geoCrime_df.set_index('uid')\n",
    "geoCrime_df = geoCrime_df.sort_index()\n",
    "'''\n"
   ]
  },
  {
   "cell_type": "code",
   "execution_count": null,
   "metadata": {},
   "outputs": [],
   "source": []
  },
  {
   "cell_type": "code",
   "execution_count": null,
   "metadata": {},
   "outputs": [],
   "source": [
    "\n"
   ]
  },
  {
   "cell_type": "code",
   "execution_count": null,
   "metadata": {},
   "outputs": [],
   "source": [
    "\n"
   ]
  },
  {
   "cell_type": "code",
   "execution_count": null,
   "metadata": {},
   "outputs": [],
   "source": []
  },
  {
   "cell_type": "code",
   "execution_count": 9,
   "metadata": {},
   "outputs": [],
   "source": [
    "dfA_L = pd.read_csv('Data/tr_active1.csv')\n",
    "dfL_Z = pd.read_csv('Data/tr_active2.csv')"
   ]
  },
  {
   "cell_type": "code",
   "execution_count": 10,
   "metadata": {},
   "outputs": [
    {
     "data": {
      "text/html": [
       "<div>\n",
       "<style scoped>\n",
       "    .dataframe tbody tr th:only-of-type {\n",
       "        vertical-align: middle;\n",
       "    }\n",
       "\n",
       "    .dataframe tbody tr th {\n",
       "        vertical-align: top;\n",
       "    }\n",
       "\n",
       "    .dataframe thead th {\n",
       "        text-align: right;\n",
       "    }\n",
       "</style>\n",
       "<table border=\"1\" class=\"dataframe\">\n",
       "  <thead>\n",
       "    <tr style=\"text-align: right;\">\n",
       "      <th></th>\n",
       "      <th>address</th>\n",
       "      <th>match?</th>\n",
       "      <th>exact?</th>\n",
       "      <th>full_address</th>\n",
       "      <th>lon,lat</th>\n",
       "      <th>remove</th>\n",
       "      <th>LR</th>\n",
       "    </tr>\n",
       "    <tr>\n",
       "      <th>uid</th>\n",
       "      <th></th>\n",
       "      <th></th>\n",
       "      <th></th>\n",
       "      <th></th>\n",
       "      <th></th>\n",
       "      <th></th>\n",
       "      <th></th>\n",
       "    </tr>\n",
       "  </thead>\n",
       "  <tbody>\n",
       "    <tr>\n",
       "      <th>1</th>\n",
       "      <td>5754 ELK ST, SAN DIEGO, CA,</td>\n",
       "      <td>Match</td>\n",
       "      <td>Exact</td>\n",
       "      <td>5754 ELK ST, SAN DIEGO, CA, 92114</td>\n",
       "      <td>-117.07374,32.704464</td>\n",
       "      <td>648577820.0</td>\n",
       "      <td>L</td>\n",
       "    </tr>\n",
       "    <tr>\n",
       "      <th>2</th>\n",
       "      <td>4356 POPLAR ST, SAN DIEGO, CA,</td>\n",
       "      <td>Match</td>\n",
       "      <td>Exact</td>\n",
       "      <td>4356 POPLAR ST, SAN DIEGO, CA, 92105</td>\n",
       "      <td>-117.10183,32.737766</td>\n",
       "      <td>195347398.0</td>\n",
       "      <td>L</td>\n",
       "    </tr>\n",
       "    <tr>\n",
       "      <th>3</th>\n",
       "      <td>17471 PLAZA CERADO SUITE 98, SAN DIEGO, CA,</td>\n",
       "      <td>Match</td>\n",
       "      <td>Non_Exact</td>\n",
       "      <td>17471 PLZ CERADO, SAN DIEGO, CA, 92128</td>\n",
       "      <td>-117.05527,33.028744</td>\n",
       "      <td>612877365.0</td>\n",
       "      <td>R</td>\n",
       "    </tr>\n",
       "    <tr>\n",
       "      <th>4</th>\n",
       "      <td>3916 NORMAL ST, SAN DIEGO, CA,</td>\n",
       "      <td>Match</td>\n",
       "      <td>Exact</td>\n",
       "      <td>3916 NORMAL ST, SAN DIEGO, CA, 92103</td>\n",
       "      <td>-117.14946,32.749218</td>\n",
       "      <td>195342882.0</td>\n",
       "      <td>L</td>\n",
       "    </tr>\n",
       "    <tr>\n",
       "      <th>5</th>\n",
       "      <td>5383 AUBURN DR, SAN DIEGO, CA,</td>\n",
       "      <td>Match</td>\n",
       "      <td>Exact</td>\n",
       "      <td>5383 AUBURN DR, SAN DIEGO, CA, 92105</td>\n",
       "      <td>-117.089806,32.73843</td>\n",
       "      <td>195350513.0</td>\n",
       "      <td>R</td>\n",
       "    </tr>\n",
       "  </tbody>\n",
       "</table>\n",
       "</div>"
      ],
      "text/plain": [
       "                                          address match?     exact?  \\\n",
       "uid                                                                   \n",
       "1                    5754 ELK ST, SAN DIEGO, CA,   Match      Exact   \n",
       "2                 4356 POPLAR ST, SAN DIEGO, CA,   Match      Exact   \n",
       "3    17471 PLAZA CERADO SUITE 98, SAN DIEGO, CA,   Match  Non_Exact   \n",
       "4                 3916 NORMAL ST, SAN DIEGO, CA,   Match      Exact   \n",
       "5                 5383 AUBURN DR, SAN DIEGO, CA,   Match      Exact   \n",
       "\n",
       "                               full_address               lon,lat  \\\n",
       "uid                                                                 \n",
       "1         5754 ELK ST, SAN DIEGO, CA, 92114  -117.07374,32.704464   \n",
       "2      4356 POPLAR ST, SAN DIEGO, CA, 92105  -117.10183,32.737766   \n",
       "3    17471 PLZ CERADO, SAN DIEGO, CA, 92128  -117.05527,33.028744   \n",
       "4      3916 NORMAL ST, SAN DIEGO, CA, 92103  -117.14946,32.749218   \n",
       "5      5383 AUBURN DR, SAN DIEGO, CA, 92105  -117.089806,32.73843   \n",
       "\n",
       "          remove LR  \n",
       "uid                  \n",
       "1    648577820.0  L  \n",
       "2    195347398.0  L  \n",
       "3    612877365.0  R  \n",
       "4    195342882.0  L  \n",
       "5    195350513.0  R  "
      ]
     },
     "execution_count": 10,
     "metadata": {},
     "output_type": "execute_result"
    }
   ],
   "source": [
    "dfA_L[\"lon\"] = np.nan\n",
    "dfA_L[\"lat\"] = np.nan\n",
    "dfL_Z[\"lon\"] = np.nan\n",
    "dfL_Z[\"lat\"] = np.nan\n",
    "geoBusiness_df.head()"
   ]
  },
  {
   "cell_type": "code",
   "execution_count": 11,
   "metadata": {},
   "outputs": [],
   "source": [
    "for i in range (0,len(dfA_L)) :\n",
    "    try :\n",
    "        loc_lat = geoBusiness_df.loc[i,:][\"lon,lat\"]\n",
    "        dfA_L.iat[i, len(dfA_L.columns) - 2] = loc_lat[0:loc_lat.find(',')]\n",
    "        dfA_L.iat[i, len(dfA_L.columns) - 1] = loc_lat[loc_lat.find(',')+1:]\n",
    "    except :\n",
    "        continue\n",
    "   "
   ]
  },
  {
   "cell_type": "code",
   "execution_count": null,
   "metadata": {},
   "outputs": [],
   "source": []
  },
  {
   "cell_type": "code",
   "execution_count": 12,
   "metadata": {},
   "outputs": [],
   "source": [
    "dfA_L.dropna(inplace = True)"
   ]
  },
  {
   "cell_type": "code",
   "execution_count": 13,
   "metadata": {},
   "outputs": [],
   "source": [
    "for i in range (0,len(dfL_Z)) :\n",
    "    try :\n",
    "        loc_lat = geoBusiness_df.loc[28302 + i,:][\"lon,lat\"]\n",
    "        dfL_Z.iat[i, len(dfL_Z.columns) - 2] = loc_lat[0:loc_lat.find(',')]\n",
    "        dfL_Z.iat[i, len(dfL_Z.columns) - 1] = loc_lat[loc_lat.find(',')+1:]\n",
    "    except :\n",
    "        continue"
   ]
  },
  {
   "cell_type": "code",
   "execution_count": 14,
   "metadata": {},
   "outputs": [],
   "source": [
    "dfL_Z.dropna(inplace = True)"
   ]
  },
  {
   "cell_type": "code",
   "execution_count": null,
   "metadata": {},
   "outputs": [],
   "source": []
  },
  {
   "cell_type": "code",
   "execution_count": 15,
   "metadata": {},
   "outputs": [
    {
     "name": "stderr",
     "output_type": "stream",
     "text": [
      "/opt/conda/lib/python3.6/site-packages/IPython/core/interactiveshell.py:2728: DtypeWarning: Columns (16,29) have mixed types. Specify dtype option on import or set low_memory=False.\n",
      "  interactivity=interactivity, compiler=compiler, result=result)\n"
     ]
    }
   ],
   "source": [
    "df_traffic = pd.read_csv(\"traffic.csv\", header=0,index_col=0)\n",
    "df_reasonable = pd.read_csv(\"reasonable.csv\", header=0,index_col=0)\n",
    "\n"
   ]
  },
  {
   "cell_type": "code",
   "execution_count": 16,
   "metadata": {},
   "outputs": [
    {
     "data": {
      "text/html": [
       "<div>\n",
       "<style scoped>\n",
       "    .dataframe tbody tr th:only-of-type {\n",
       "        vertical-align: middle;\n",
       "    }\n",
       "\n",
       "    .dataframe tbody tr th {\n",
       "        vertical-align: top;\n",
       "    }\n",
       "\n",
       "    .dataframe thead th {\n",
       "        text-align: right;\n",
       "    }\n",
       "</style>\n",
       "<table border=\"1\" class=\"dataframe\">\n",
       "  <thead>\n",
       "    <tr style=\"text-align: right;\">\n",
       "      <th></th>\n",
       "      <th>action</th>\n",
       "      <th>assignment</th>\n",
       "      <th>basis_for_search</th>\n",
       "      <th>basis_for_search_explanation</th>\n",
       "      <th>block</th>\n",
       "      <th>cityname</th>\n",
       "      <th>code</th>\n",
       "      <th>contraband</th>\n",
       "      <th>exp_years</th>\n",
       "      <th>gend</th>\n",
       "      <th>...</th>\n",
       "      <th>result</th>\n",
       "      <th>resultkey</th>\n",
       "      <th>resulttext</th>\n",
       "      <th>stop_in_response_to_cfs</th>\n",
       "      <th>stopdate</th>\n",
       "      <th>stopduration</th>\n",
       "      <th>stoptime</th>\n",
       "      <th>street</th>\n",
       "      <th>uid</th>\n",
       "      <th>crime_type</th>\n",
       "    </tr>\n",
       "    <tr>\n",
       "      <th>stop_id</th>\n",
       "      <th></th>\n",
       "      <th></th>\n",
       "      <th></th>\n",
       "      <th></th>\n",
       "      <th></th>\n",
       "      <th></th>\n",
       "      <th></th>\n",
       "      <th></th>\n",
       "      <th></th>\n",
       "      <th></th>\n",
       "      <th></th>\n",
       "      <th></th>\n",
       "      <th></th>\n",
       "      <th></th>\n",
       "      <th></th>\n",
       "      <th></th>\n",
       "      <th></th>\n",
       "      <th></th>\n",
       "      <th></th>\n",
       "      <th></th>\n",
       "      <th></th>\n",
       "    </tr>\n",
       "  </thead>\n",
       "  <tbody>\n",
       "    <tr>\n",
       "      <th>2444</th>\n",
       "      <td>None</td>\n",
       "      <td>Patrol, traffic enforcement, field operations</td>\n",
       "      <td>NaN</td>\n",
       "      <td>NaN</td>\n",
       "      <td>NaN</td>\n",
       "      <td>SAN DIEGO</td>\n",
       "      <td>54395.0</td>\n",
       "      <td>None</td>\n",
       "      <td>18</td>\n",
       "      <td>1</td>\n",
       "      <td>...</td>\n",
       "      <td>Warning (verbal or written)</td>\n",
       "      <td>2</td>\n",
       "      <td>22349(B) VC - EXC 55MPH SPEED:2 LANE RD (I) 54395</td>\n",
       "      <td>0</td>\n",
       "      <td>2018-07-01 00:00:00</td>\n",
       "      <td>10</td>\n",
       "      <td>00:03:34</td>\n",
       "      <td>NOBEL DRIVE</td>\n",
       "      <td>2444_1</td>\n",
       "      <td>*speeding*</td>\n",
       "    </tr>\n",
       "    <tr>\n",
       "      <th>2448</th>\n",
       "      <td>None</td>\n",
       "      <td>Patrol, traffic enforcement, field operations</td>\n",
       "      <td>NaN</td>\n",
       "      <td>NaN</td>\n",
       "      <td>4800.0</td>\n",
       "      <td>SAN DIEGO</td>\n",
       "      <td>NaN</td>\n",
       "      <td>None</td>\n",
       "      <td>3</td>\n",
       "      <td>1</td>\n",
       "      <td>...</td>\n",
       "      <td>No Action</td>\n",
       "      <td>1</td>\n",
       "      <td>NaN</td>\n",
       "      <td>0</td>\n",
       "      <td>2018-07-01 00:00:00</td>\n",
       "      <td>5</td>\n",
       "      <td>00:19:06</td>\n",
       "      <td>NIAGARA AVE</td>\n",
       "      <td>2448_1</td>\n",
       "      <td>*unsafe movement*</td>\n",
       "    </tr>\n",
       "    <tr>\n",
       "      <th>2454</th>\n",
       "      <td>None</td>\n",
       "      <td>Gang enforcement</td>\n",
       "      <td>NaN</td>\n",
       "      <td>NaN</td>\n",
       "      <td>4100.0</td>\n",
       "      <td>SAN DIEGO</td>\n",
       "      <td>NaN</td>\n",
       "      <td>None</td>\n",
       "      <td>4</td>\n",
       "      <td>1</td>\n",
       "      <td>...</td>\n",
       "      <td>No Action</td>\n",
       "      <td>1</td>\n",
       "      <td>NaN</td>\n",
       "      <td>0</td>\n",
       "      <td>2018-07-01 00:00:00</td>\n",
       "      <td>3</td>\n",
       "      <td>00:33:19</td>\n",
       "      <td>estrella</td>\n",
       "      <td>2454_1</td>\n",
       "      <td>*others*</td>\n",
       "    </tr>\n",
       "    <tr>\n",
       "      <th>2457</th>\n",
       "      <td>None</td>\n",
       "      <td>Other</td>\n",
       "      <td>NaN</td>\n",
       "      <td>NaN</td>\n",
       "      <td>4300.0</td>\n",
       "      <td>SAN DIEGO</td>\n",
       "      <td>NaN</td>\n",
       "      <td>None</td>\n",
       "      <td>4</td>\n",
       "      <td>1</td>\n",
       "      <td>...</td>\n",
       "      <td>No Action</td>\n",
       "      <td>1</td>\n",
       "      <td>NaN</td>\n",
       "      <td>0</td>\n",
       "      <td>2018-07-01 00:00:00</td>\n",
       "      <td>6</td>\n",
       "      <td>00:38:46</td>\n",
       "      <td>Euclid</td>\n",
       "      <td>2457_1</td>\n",
       "      <td>*bike*</td>\n",
       "    </tr>\n",
       "    <tr>\n",
       "      <th>2458</th>\n",
       "      <td>None</td>\n",
       "      <td>Patrol, traffic enforcement, field operations</td>\n",
       "      <td>NaN</td>\n",
       "      <td>NaN</td>\n",
       "      <td>6800.0</td>\n",
       "      <td>SAN DIEGO</td>\n",
       "      <td>NaN</td>\n",
       "      <td>None</td>\n",
       "      <td>1</td>\n",
       "      <td>1</td>\n",
       "      <td>...</td>\n",
       "      <td>Field interview card completed</td>\n",
       "      <td>7</td>\n",
       "      <td>NaN</td>\n",
       "      <td>0</td>\n",
       "      <td>2018-07-01 00:00:00</td>\n",
       "      <td>10</td>\n",
       "      <td>00:37:08</td>\n",
       "      <td>LA JOLLA BLVD</td>\n",
       "      <td>2458_1</td>\n",
       "      <td>*bike*</td>\n",
       "    </tr>\n",
       "  </tbody>\n",
       "</table>\n",
       "<p>5 rows × 39 columns</p>\n",
       "</div>"
      ],
      "text/plain": [
       "        action                                     assignment  \\\n",
       "stop_id                                                         \n",
       "2444      None  Patrol, traffic enforcement, field operations   \n",
       "2448      None  Patrol, traffic enforcement, field operations   \n",
       "2454      None                               Gang enforcement   \n",
       "2457      None                                          Other   \n",
       "2458      None  Patrol, traffic enforcement, field operations   \n",
       "\n",
       "        basis_for_search basis_for_search_explanation   block   cityname  \\\n",
       "stop_id                                                                    \n",
       "2444                 NaN                          NaN     NaN  SAN DIEGO   \n",
       "2448                 NaN                          NaN  4800.0  SAN DIEGO   \n",
       "2454                 NaN                          NaN  4100.0  SAN DIEGO   \n",
       "2457                 NaN                          NaN  4300.0  SAN DIEGO   \n",
       "2458                 NaN                          NaN  6800.0  SAN DIEGO   \n",
       "\n",
       "            code contraband  exp_years  gend        ...          \\\n",
       "stop_id                                             ...           \n",
       "2444     54395.0       None         18     1        ...           \n",
       "2448         NaN       None          3     1        ...           \n",
       "2454         NaN       None          4     1        ...           \n",
       "2457         NaN       None          4     1        ...           \n",
       "2458         NaN       None          1     1        ...           \n",
       "\n",
       "                                 result resultkey  \\\n",
       "stop_id                                             \n",
       "2444        Warning (verbal or written)         2   \n",
       "2448                          No Action         1   \n",
       "2454                          No Action         1   \n",
       "2457                          No Action         1   \n",
       "2458     Field interview card completed         7   \n",
       "\n",
       "                                                resulttext  \\\n",
       "stop_id                                                      \n",
       "2444     22349(B) VC - EXC 55MPH SPEED:2 LANE RD (I) 54395   \n",
       "2448                                                   NaN   \n",
       "2454                                                   NaN   \n",
       "2457                                                   NaN   \n",
       "2458                                                   NaN   \n",
       "\n",
       "        stop_in_response_to_cfs             stopdate stopduration  stoptime  \\\n",
       "stop_id                                                                       \n",
       "2444                          0  2018-07-01 00:00:00           10  00:03:34   \n",
       "2448                          0  2018-07-01 00:00:00            5  00:19:06   \n",
       "2454                          0  2018-07-01 00:00:00            3  00:33:19   \n",
       "2457                          0  2018-07-01 00:00:00            6  00:38:46   \n",
       "2458                          0  2018-07-01 00:00:00           10  00:37:08   \n",
       "\n",
       "                street     uid         crime_type  \n",
       "stop_id                                            \n",
       "2444       NOBEL DRIVE  2444_1         *speeding*  \n",
       "2448       NIAGARA AVE  2448_1  *unsafe movement*  \n",
       "2454          estrella  2454_1           *others*  \n",
       "2457            Euclid  2457_1             *bike*  \n",
       "2458     LA JOLLA BLVD  2458_1             *bike*  \n",
       "\n",
       "[5 rows x 39 columns]"
      ]
     },
     "execution_count": 16,
     "metadata": {},
     "output_type": "execute_result"
    }
   ],
   "source": [
    "df_traffic.head()"
   ]
  },
  {
   "cell_type": "code",
   "execution_count": 17,
   "metadata": {},
   "outputs": [
    {
     "data": {
      "text/html": [
       "<div>\n",
       "<style scoped>\n",
       "    .dataframe tbody tr th:only-of-type {\n",
       "        vertical-align: middle;\n",
       "    }\n",
       "\n",
       "    .dataframe tbody tr th {\n",
       "        vertical-align: top;\n",
       "    }\n",
       "\n",
       "    .dataframe thead th {\n",
       "        text-align: right;\n",
       "    }\n",
       "</style>\n",
       "<table border=\"1\" class=\"dataframe\">\n",
       "  <thead>\n",
       "    <tr style=\"text-align: right;\">\n",
       "      <th></th>\n",
       "      <th>address</th>\n",
       "      <th>lon,lat</th>\n",
       "    </tr>\n",
       "    <tr>\n",
       "      <th>uid</th>\n",
       "      <th></th>\n",
       "      <th></th>\n",
       "    </tr>\n",
       "  </thead>\n",
       "  <tbody>\n",
       "    <tr>\n",
       "      <th>2443</th>\n",
       "      <td>700 Grand Avenue, El Cajon, CA,</td>\n",
       "      <td>-116.970985,32.785866</td>\n",
       "    </tr>\n",
       "    <tr>\n",
       "      <th>2443</th>\n",
       "      <td>700 Grand Avenue, SAN DIEGO, CA,</td>\n",
       "      <td>-117.255974,32.79445</td>\n",
       "    </tr>\n",
       "    <tr>\n",
       "      <th>2447</th>\n",
       "      <td>4400 59th Street, SAN DIEGO, CA,</td>\n",
       "      <td>-117.07028,32.75826</td>\n",
       "    </tr>\n",
       "    <tr>\n",
       "      <th>2448</th>\n",
       "      <td>4800 NIAGARA AVE, SAN DIEGO, CA,</td>\n",
       "      <td>-117.24846,32.74397</td>\n",
       "    </tr>\n",
       "    <tr>\n",
       "      <th>2449</th>\n",
       "      <td>4500 la jolla village dr, SAN DIEGO, CA,</td>\n",
       "      <td>-117.208534,32.873898</td>\n",
       "    </tr>\n",
       "  </tbody>\n",
       "</table>\n",
       "</div>"
      ],
      "text/plain": [
       "                                        address                lon,lat\n",
       "uid                                                                   \n",
       "2443           700 Grand Avenue, El Cajon, CA,   -116.970985,32.785866\n",
       "2443          700 Grand Avenue, SAN DIEGO, CA,    -117.255974,32.79445\n",
       "2447          4400 59th Street, SAN DIEGO, CA,     -117.07028,32.75826\n",
       "2448          4800 NIAGARA AVE, SAN DIEGO, CA,     -117.24846,32.74397\n",
       "2449  4500 la jolla village dr, SAN DIEGO, CA,   -117.208534,32.873898"
      ]
     },
     "execution_count": 17,
     "metadata": {},
     "output_type": "execute_result"
    }
   ],
   "source": []
  },
  {
   "cell_type": "code",
   "execution_count": null,
   "metadata": {},
   "outputs": [],
   "source": []
  },
  {
   "cell_type": "code",
   "execution_count": 18,
   "metadata": {},
   "outputs": [
    {
     "name": "stderr",
     "output_type": "stream",
     "text": [
      "/opt/conda/lib/python3.6/site-packages/ipykernel_launcher.py:2: FutureWarning: 'get_duplicates' is deprecated and will be removed in a future release. You can use idx[idx.duplicated()].unique() instead\n",
      "  \n"
     ]
    },
    {
     "data": {
      "text/html": [
       "<div>\n",
       "<style scoped>\n",
       "    .dataframe tbody tr th:only-of-type {\n",
       "        vertical-align: middle;\n",
       "    }\n",
       "\n",
       "    .dataframe tbody tr th {\n",
       "        vertical-align: top;\n",
       "    }\n",
       "\n",
       "    .dataframe thead th {\n",
       "        text-align: right;\n",
       "    }\n",
       "</style>\n",
       "<table border=\"1\" class=\"dataframe\">\n",
       "  <thead>\n",
       "    <tr style=\"text-align: right;\">\n",
       "      <th></th>\n",
       "      <th>address</th>\n",
       "      <th>lon,lat</th>\n",
       "    </tr>\n",
       "    <tr>\n",
       "      <th>uid</th>\n",
       "      <th></th>\n",
       "      <th></th>\n",
       "    </tr>\n",
       "  </thead>\n",
       "  <tbody>\n",
       "    <tr>\n",
       "      <th>2443</th>\n",
       "      <td>700 Grand Avenue, El Cajon, CA,</td>\n",
       "      <td>-116.970985,32.785866</td>\n",
       "    </tr>\n",
       "    <tr>\n",
       "      <th>2443</th>\n",
       "      <td>700 Grand Avenue, SAN DIEGO, CA,</td>\n",
       "      <td>-117.255974,32.79445</td>\n",
       "    </tr>\n",
       "    <tr>\n",
       "      <th>2447</th>\n",
       "      <td>4400 59th Street, SAN DIEGO, CA,</td>\n",
       "      <td>-117.07028,32.75826</td>\n",
       "    </tr>\n",
       "    <tr>\n",
       "      <th>2448</th>\n",
       "      <td>4800 NIAGARA AVE, SAN DIEGO, CA,</td>\n",
       "      <td>-117.24846,32.74397</td>\n",
       "    </tr>\n",
       "    <tr>\n",
       "      <th>2449</th>\n",
       "      <td>4500 la jolla village dr, SAN DIEGO, CA,</td>\n",
       "      <td>-117.208534,32.873898</td>\n",
       "    </tr>\n",
       "  </tbody>\n",
       "</table>\n",
       "</div>"
      ],
      "text/plain": [
       "                                        address                lon,lat\n",
       "uid                                                                   \n",
       "2443           700 Grand Avenue, El Cajon, CA,   -116.970985,32.785866\n",
       "2443          700 Grand Avenue, SAN DIEGO, CA,    -117.255974,32.79445\n",
       "2447          4400 59th Street, SAN DIEGO, CA,     -117.07028,32.75826\n",
       "2448          4800 NIAGARA AVE, SAN DIEGO, CA,     -117.24846,32.74397\n",
       "2449  4500 la jolla village dr, SAN DIEGO, CA,   -117.208534,32.873898"
      ]
     },
     "execution_count": 18,
     "metadata": {},
     "output_type": "execute_result"
    }
   ],
   "source": [
    "\n",
    "'''\n",
    "geoCrime_df = geoCrime_df.drop(columns = [\"match?\", \"exact?\", \"full_address\", \"remove\", \"remove.1\"], axis=1)\n",
    "\n",
    "duplicates_to_delete = geoCrime_df.index.get_level_values('uid').get_duplicates()\n",
    "geoCrime_df = geoCrime_df.drop(duplicates_to_delete)\n",
    "geoCrime_df.head()\n",
    "'''\n"
   ]
  },
  {
   "cell_type": "code",
   "execution_count": 19,
   "metadata": {},
   "outputs": [
    {
     "data": {
      "text/plain": [
       "Int64Index([ 2443,  2543,  2658,  2729,  2774,  2985,  2995,  3031,  3062,\n",
       "             3137,\n",
       "            ...\n",
       "            82541, 82619, 82801, 82994, 83054, 83067, 83104, 83105, 83109,\n",
       "            83150],\n",
       "           dtype='int64', name='uid', length=1371)"
      ]
     },
     "execution_count": 19,
     "metadata": {},
     "output_type": "execute_result"
    }
   ],
   "source": []
  },
  {
   "cell_type": "code",
   "execution_count": 20,
   "metadata": {},
   "outputs": [],
   "source": []
  },
  {
   "cell_type": "code",
   "execution_count": 21,
   "metadata": {},
   "outputs": [
    {
     "data": {
      "text/html": [
       "<div>\n",
       "<style scoped>\n",
       "    .dataframe tbody tr th:only-of-type {\n",
       "        vertical-align: middle;\n",
       "    }\n",
       "\n",
       "    .dataframe tbody tr th {\n",
       "        vertical-align: top;\n",
       "    }\n",
       "\n",
       "    .dataframe thead th {\n",
       "        text-align: right;\n",
       "    }\n",
       "</style>\n",
       "<table border=\"1\" class=\"dataframe\">\n",
       "  <thead>\n",
       "    <tr style=\"text-align: right;\">\n",
       "      <th></th>\n",
       "      <th>address</th>\n",
       "      <th>lon,lat</th>\n",
       "    </tr>\n",
       "    <tr>\n",
       "      <th>uid</th>\n",
       "      <th></th>\n",
       "      <th></th>\n",
       "    </tr>\n",
       "  </thead>\n",
       "  <tbody>\n",
       "    <tr>\n",
       "      <th>2447</th>\n",
       "      <td>4400 59th Street, SAN DIEGO, CA,</td>\n",
       "      <td>-117.07028,32.75826</td>\n",
       "    </tr>\n",
       "    <tr>\n",
       "      <th>2448</th>\n",
       "      <td>4800 NIAGARA AVE, SAN DIEGO, CA,</td>\n",
       "      <td>-117.24846,32.74397</td>\n",
       "    </tr>\n",
       "    <tr>\n",
       "      <th>2449</th>\n",
       "      <td>4500 la jolla village dr, SAN DIEGO, CA,</td>\n",
       "      <td>-117.208534,32.873898</td>\n",
       "    </tr>\n",
       "    <tr>\n",
       "      <th>2451</th>\n",
       "      <td>800 Thomas, SAN DIEGO, CA,</td>\n",
       "      <td>-117.253426,32.793934</td>\n",
       "    </tr>\n",
       "    <tr>\n",
       "      <th>2453</th>\n",
       "      <td>4800 LOGAN AVENUE, SAN DIEGO, CA,</td>\n",
       "      <td>-117.09197,32.696804</td>\n",
       "    </tr>\n",
       "  </tbody>\n",
       "</table>\n",
       "</div>"
      ],
      "text/plain": [
       "                                        address                lon,lat\n",
       "uid                                                                   \n",
       "2447          4400 59th Street, SAN DIEGO, CA,     -117.07028,32.75826\n",
       "2448          4800 NIAGARA AVE, SAN DIEGO, CA,     -117.24846,32.74397\n",
       "2449  4500 la jolla village dr, SAN DIEGO, CA,   -117.208534,32.873898\n",
       "2451                800 Thomas, SAN DIEGO, CA,   -117.253426,32.793934\n",
       "2453         4800 LOGAN AVENUE, SAN DIEGO, CA,    -117.09197,32.696804"
      ]
     },
     "execution_count": 21,
     "metadata": {},
     "output_type": "execute_result"
    }
   ],
   "source": []
  },
  {
   "cell_type": "code",
   "execution_count": 22,
   "metadata": {},
   "outputs": [],
   "source": [
    "\n",
    "\n",
    "df_traffic[\"lon\"] = np.nan\n",
    "df_traffic[\"lat\"] = np.nan\n",
    "df_reasonable[\"lon\"] = np.nan\n",
    "df_reasonable[\"lat\"] = np.nan"
   ]
  },
  {
   "cell_type": "code",
   "execution_count": 23,
   "metadata": {},
   "outputs": [
    {
     "data": {
      "text/plain": [
       "'\\nn = 0\\nfor index, row in geoCrime_df.iterrows() :\\n    did_not_find = False\\n    loc_lat = row[\"lon,lat\"]\\n    try :\\n        df_traffic.at[index, \"lon\"] = loc_lat[0:loc_lat.find(\\',\\')]\\n        df_traffic.at[index, \"lat\"] = loc_lat[loc_lat.find(\\',\\')+1:]\\n    except :\\n        did_not_find = True\\n    try :\\n        df_reasonable.at[index, \"lon\"] = loc_lat[0:loc_lat.find(\\',\\')]\\n        df_reasonable.at[index, \"lat\"] = loc_lat[loc_lat.find(\\',\\')+1:]\\n    except :\\n        if did_not_find :\\n            n = n+1 \\n\\nprint(n)\\n\\ndf_traffic = df_traffic.dropna(subset=[\\'lon\\'])\\nlen(df_traffic)\\n'"
      ]
     },
     "execution_count": 23,
     "metadata": {},
     "output_type": "execute_result"
    }
   ],
   "source": [
    "'''\n",
    "n = 0\n",
    "for index, row in geoCrime_df.iterrows() :\n",
    "    did_not_find = False\n",
    "    loc_lat = row[\"lon,lat\"]\n",
    "    try :\n",
    "        df_traffic.at[index, \"lon\"] = loc_lat[0:loc_lat.find(',')]\n",
    "        df_traffic.at[index, \"lat\"] = loc_lat[loc_lat.find(',')+1:]\n",
    "    except :\n",
    "        did_not_find = True\n",
    "    try :\n",
    "        df_reasonable.at[index, \"lon\"] = loc_lat[0:loc_lat.find(',')]\n",
    "        df_reasonable.at[index, \"lat\"] = loc_lat[loc_lat.find(',')+1:]\n",
    "    except :\n",
    "        if did_not_find :\n",
    "            n = n+1 \n",
    "\n",
    "print(n)\n",
    "\n",
    "df_traffic = df_traffic.dropna(subset=['lon'])\n",
    "len(df_traffic)\n",
    "'''\n"
   ]
  },
  {
   "cell_type": "code",
   "execution_count": 24,
   "metadata": {},
   "outputs": [
    {
     "data": {
      "text/plain": [
       "40405"
      ]
     },
     "execution_count": 24,
     "metadata": {},
     "output_type": "execute_result"
    }
   ],
   "source": [
    "len(df_traffic)"
   ]
  },
  {
   "cell_type": "code",
   "execution_count": null,
   "metadata": {},
   "outputs": [],
   "source": []
  },
  {
   "cell_type": "code",
   "execution_count": null,
   "metadata": {},
   "outputs": [],
   "source": []
  },
  {
   "cell_type": "code",
   "execution_count": 25,
   "metadata": {},
   "outputs": [
    {
     "name": "stderr",
     "output_type": "stream",
     "text": [
      "/opt/conda/lib/python3.6/site-packages/pandas/io/parsers.py:678: UserWarning: Duplicate names specified. This will raise an error in the future.\n",
      "  return _read(filepath_or_buffer, kwds)\n",
      "/opt/conda/lib/python3.6/site-packages/IPython/core/interactiveshell.py:2728: DtypeWarning: Columns (6) have mixed types. Specify dtype option on import or set low_memory=False.\n",
      "  interactivity=interactivity, compiler=compiler, result=result)\n"
     ]
    }
   ],
   "source": [
    "\n",
    "data_file = \"Data/GeoCrimeData/reasonable_loc_result.csv\"\n",
    "\n",
    "# Generate column names (will be 0, 1, 2, ..., largest_column_count - 1)\n",
    "column_names = ['uid', 'address', 'match?', 'exact?', 'full_address', 'lon,lat', 'remove', 'remove']\n",
    "\n",
    "geoCrime_reasonable_df = pd.read_csv(data_file, header=None, names=column_names)\n"
   ]
  },
  {
   "cell_type": "code",
   "execution_count": 26,
   "metadata": {},
   "outputs": [],
   "source": [
    "\n",
    "geoCrime_reasonable_df = geoCrime_reasonable_df.dropna()\n",
    "geoCrime_reasonable_df['uid'] = geoCrime_reasonable_df['uid'].apply(shorten)\n",
    "\n",
    "geoCrime_reasonable_df = geoCrime_reasonable_df.set_index('uid')\n",
    "geoCrime_reasonable_df = geoCrime_reasonable_df.sort_index()\n"
   ]
  },
  {
   "cell_type": "code",
   "execution_count": 27,
   "metadata": {},
   "outputs": [
    {
     "name": "stderr",
     "output_type": "stream",
     "text": [
      "/opt/conda/lib/python3.6/site-packages/ipykernel_launcher.py:1: FutureWarning: 'get_duplicates' is deprecated and will be removed in a future release. You can use idx[idx.duplicated()].unique() instead\n",
      "  \"\"\"Entry point for launching an IPython kernel.\n"
     ]
    },
    {
     "data": {
      "text/plain": [
       "Int64Index([ 2443,  2543,  2658,  2729,  2774,  2995,  3031,  3062,  3137,\n",
       "             3220,\n",
       "            ...\n",
       "            84024, 84039, 84067, 84158, 84272, 84273, 84313, 84352, 84397,\n",
       "            84398],\n",
       "           dtype='int64', name='uid', length=660)"
      ]
     },
     "execution_count": 27,
     "metadata": {},
     "output_type": "execute_result"
    }
   ],
   "source": [
    "duplicates_to_delete = geoCrime_reasonable_df.index.get_level_values('uid').get_duplicates()\n",
    "duplicates_to_delete"
   ]
  },
  {
   "cell_type": "code",
   "execution_count": 28,
   "metadata": {},
   "outputs": [],
   "source": [
    "geoCrime_reasonable_df = geoCrime_reasonable_df.drop(duplicates_to_delete)"
   ]
  },
  {
   "cell_type": "code",
   "execution_count": 29,
   "metadata": {},
   "outputs": [],
   "source": [
    "for index, row in geoCrime_reasonable_df.iterrows() :\n",
    "    df_reasonable.at[index, \"lon\"] = loc_lat[0:loc_lat.find(',')]\n",
    "    df_reasonable.at[index, \"lat\"] = loc_lat[loc_lat.find(',')+1:]\n"
   ]
  },
  {
   "cell_type": "code",
   "execution_count": 31,
   "metadata": {},
   "outputs": [
    {
     "data": {
      "text/plain": [
       "42492"
      ]
     },
     "execution_count": 31,
     "metadata": {},
     "output_type": "execute_result"
    }
   ],
   "source": [
    "len(df_reasonable)"
   ]
  },
  {
   "cell_type": "code",
   "execution_count": 32,
   "metadata": {},
   "outputs": [],
   "source": [
    "df_reasonable = df_reasonable.dropna(subset=['lon'])\n"
   ]
  },
  {
   "cell_type": "code",
   "execution_count": 33,
   "metadata": {},
   "outputs": [
    {
     "data": {
      "text/plain": [
       "31637"
      ]
     },
     "execution_count": 33,
     "metadata": {},
     "output_type": "execute_result"
    }
   ],
   "source": [
    "len(df_reasonable)"
   ]
  },
  {
   "cell_type": "code",
   "execution_count": 34,
   "metadata": {},
   "outputs": [
    {
     "data": {
      "text/html": [
       "<div>\n",
       "<style scoped>\n",
       "    .dataframe tbody tr th:only-of-type {\n",
       "        vertical-align: middle;\n",
       "    }\n",
       "\n",
       "    .dataframe tbody tr th {\n",
       "        vertical-align: top;\n",
       "    }\n",
       "\n",
       "    .dataframe thead th {\n",
       "        text-align: right;\n",
       "    }\n",
       "</style>\n",
       "<table border=\"1\" class=\"dataframe\">\n",
       "  <thead>\n",
       "    <tr style=\"text-align: right;\">\n",
       "      <th></th>\n",
       "      <th>action</th>\n",
       "      <th>assignment</th>\n",
       "      <th>basis_for_search</th>\n",
       "      <th>basis_for_search_explanation</th>\n",
       "      <th>block</th>\n",
       "      <th>cityname</th>\n",
       "      <th>code</th>\n",
       "      <th>contraband</th>\n",
       "      <th>exp_years</th>\n",
       "      <th>gend</th>\n",
       "      <th>...</th>\n",
       "      <th>resulttext</th>\n",
       "      <th>stop_in_response_to_cfs</th>\n",
       "      <th>stopdate</th>\n",
       "      <th>stopduration</th>\n",
       "      <th>stoptime</th>\n",
       "      <th>street</th>\n",
       "      <th>uid</th>\n",
       "      <th>crime_type</th>\n",
       "      <th>lon</th>\n",
       "      <th>lat</th>\n",
       "    </tr>\n",
       "    <tr>\n",
       "      <th>stop_id</th>\n",
       "      <th></th>\n",
       "      <th></th>\n",
       "      <th></th>\n",
       "      <th></th>\n",
       "      <th></th>\n",
       "      <th></th>\n",
       "      <th></th>\n",
       "      <th></th>\n",
       "      <th></th>\n",
       "      <th></th>\n",
       "      <th></th>\n",
       "      <th></th>\n",
       "      <th></th>\n",
       "      <th></th>\n",
       "      <th></th>\n",
       "      <th></th>\n",
       "      <th></th>\n",
       "      <th></th>\n",
       "      <th></th>\n",
       "      <th></th>\n",
       "      <th></th>\n",
       "    </tr>\n",
       "  </thead>\n",
       "  <tbody>\n",
       "    <tr>\n",
       "      <th>2447</th>\n",
       "      <td>Curbside detention</td>\n",
       "      <td>Other</td>\n",
       "      <td>NaN</td>\n",
       "      <td>NaN</td>\n",
       "      <td>4400.0</td>\n",
       "      <td>SAN DIEGO</td>\n",
       "      <td>NaN</td>\n",
       "      <td>None</td>\n",
       "      <td>1</td>\n",
       "      <td>1</td>\n",
       "      <td>...</td>\n",
       "      <td>NaN</td>\n",
       "      <td>1</td>\n",
       "      <td>2018-07-01 00:00:00</td>\n",
       "      <td>15</td>\n",
       "      <td>00:05:43</td>\n",
       "      <td>59th Street</td>\n",
       "      <td>2447_1</td>\n",
       "      <td>*fight / battery*</td>\n",
       "      <td>-117.005226</td>\n",
       "      <td>32.74516</td>\n",
       "    </tr>\n",
       "    <tr>\n",
       "      <th>2447</th>\n",
       "      <td>Curbside detention</td>\n",
       "      <td>Other</td>\n",
       "      <td>NaN</td>\n",
       "      <td>NaN</td>\n",
       "      <td>4400.0</td>\n",
       "      <td>SAN DIEGO</td>\n",
       "      <td>NaN</td>\n",
       "      <td>None</td>\n",
       "      <td>1</td>\n",
       "      <td>2</td>\n",
       "      <td>...</td>\n",
       "      <td>NaN</td>\n",
       "      <td>1</td>\n",
       "      <td>2018-07-01 00:00:00</td>\n",
       "      <td>15</td>\n",
       "      <td>00:05:43</td>\n",
       "      <td>59th Street</td>\n",
       "      <td>2447_2</td>\n",
       "      <td>*fight / battery*</td>\n",
       "      <td>-117.005226</td>\n",
       "      <td>32.74516</td>\n",
       "    </tr>\n",
       "    <tr>\n",
       "      <th>2449</th>\n",
       "      <td>Search of person was conducted</td>\n",
       "      <td>Patrol, traffic enforcement, field operations</td>\n",
       "      <td>Incident to arrest</td>\n",
       "      <td>subject was transported to detox and was searc...</td>\n",
       "      <td>4500.0</td>\n",
       "      <td>SAN DIEGO</td>\n",
       "      <td>64005.0</td>\n",
       "      <td>None</td>\n",
       "      <td>1</td>\n",
       "      <td>1</td>\n",
       "      <td>...</td>\n",
       "      <td>647(F) PC - DISORD CONDUCT:ALCOHOL (M) 64005</td>\n",
       "      <td>1</td>\n",
       "      <td>2018-07-01 00:00:00</td>\n",
       "      <td>15</td>\n",
       "      <td>00:03:00</td>\n",
       "      <td>la jolla village dr</td>\n",
       "      <td>2449_1</td>\n",
       "      <td>*fight / battery*</td>\n",
       "      <td>-117.005226</td>\n",
       "      <td>32.74516</td>\n",
       "    </tr>\n",
       "    <tr>\n",
       "      <th>2451</th>\n",
       "      <td>Handcuffed or flex cuffed</td>\n",
       "      <td>Other</td>\n",
       "      <td>NaN</td>\n",
       "      <td>NaN</td>\n",
       "      <td>800.0</td>\n",
       "      <td>SAN DIEGO</td>\n",
       "      <td>64005.0</td>\n",
       "      <td>None</td>\n",
       "      <td>24</td>\n",
       "      <td>1</td>\n",
       "      <td>...</td>\n",
       "      <td>647(F) PC - DISORD CONDUCT:ALCOHOL (M) 64005</td>\n",
       "      <td>0</td>\n",
       "      <td>2018-07-01 00:00:00</td>\n",
       "      <td>20</td>\n",
       "      <td>00:24:02</td>\n",
       "      <td>Thomas</td>\n",
       "      <td>2451_1</td>\n",
       "      <td>*alcohol*</td>\n",
       "      <td>-117.005226</td>\n",
       "      <td>32.74516</td>\n",
       "    </tr>\n",
       "    <tr>\n",
       "      <th>2453</th>\n",
       "      <td>Handcuffed or flex cuffed</td>\n",
       "      <td>Patrol, traffic enforcement, field operations</td>\n",
       "      <td>Incident to arrest</td>\n",
       "      <td>INCIDENT TO ARREST</td>\n",
       "      <td>4800.0</td>\n",
       "      <td>SAN DIEGO</td>\n",
       "      <td>13219.0</td>\n",
       "      <td>Other Contraband or evidence</td>\n",
       "      <td>1</td>\n",
       "      <td>1</td>\n",
       "      <td>...</td>\n",
       "      <td>245(A)(1) PC - ADW NOT FIREARM (F) 13219</td>\n",
       "      <td>0</td>\n",
       "      <td>2018-07-01 00:00:00</td>\n",
       "      <td>120</td>\n",
       "      <td>00:31:19</td>\n",
       "      <td>LOGAN AVENUE</td>\n",
       "      <td>2453_1</td>\n",
       "      <td>*deadly weapon / terrorize*</td>\n",
       "      <td>-117.005226</td>\n",
       "      <td>32.74516</td>\n",
       "    </tr>\n",
       "  </tbody>\n",
       "</table>\n",
       "<p>5 rows × 41 columns</p>\n",
       "</div>"
      ],
      "text/plain": [
       "                                 action  \\\n",
       "stop_id                                   \n",
       "2447                 Curbside detention   \n",
       "2447                 Curbside detention   \n",
       "2449     Search of person was conducted   \n",
       "2451          Handcuffed or flex cuffed   \n",
       "2453          Handcuffed or flex cuffed   \n",
       "\n",
       "                                            assignment    basis_for_search  \\\n",
       "stop_id                                                                      \n",
       "2447                                             Other                 NaN   \n",
       "2447                                             Other                 NaN   \n",
       "2449     Patrol, traffic enforcement, field operations  Incident to arrest   \n",
       "2451                                             Other                 NaN   \n",
       "2453     Patrol, traffic enforcement, field operations  Incident to arrest   \n",
       "\n",
       "                              basis_for_search_explanation   block   cityname  \\\n",
       "stop_id                                                                         \n",
       "2447                                                   NaN  4400.0  SAN DIEGO   \n",
       "2447                                                   NaN  4400.0  SAN DIEGO   \n",
       "2449     subject was transported to detox and was searc...  4500.0  SAN DIEGO   \n",
       "2451                                                   NaN   800.0  SAN DIEGO   \n",
       "2453                                    INCIDENT TO ARREST  4800.0  SAN DIEGO   \n",
       "\n",
       "            code                    contraband  exp_years  gend    ...     \\\n",
       "stop_id                                                            ...      \n",
       "2447         NaN                          None          1     1    ...      \n",
       "2447         NaN                          None          1     2    ...      \n",
       "2449     64005.0                          None          1     1    ...      \n",
       "2451     64005.0                          None         24     1    ...      \n",
       "2453     13219.0  Other Contraband or evidence          1     1    ...      \n",
       "\n",
       "                                           resulttext stop_in_response_to_cfs  \\\n",
       "stop_id                                                                         \n",
       "2447                                              NaN                       1   \n",
       "2447                                              NaN                       1   \n",
       "2449     647(F) PC - DISORD CONDUCT:ALCOHOL (M) 64005                       1   \n",
       "2451     647(F) PC - DISORD CONDUCT:ALCOHOL (M) 64005                       0   \n",
       "2453         245(A)(1) PC - ADW NOT FIREARM (F) 13219                       0   \n",
       "\n",
       "                    stopdate stopduration  stoptime               street  \\\n",
       "stop_id                                                                    \n",
       "2447     2018-07-01 00:00:00           15  00:05:43          59th Street   \n",
       "2447     2018-07-01 00:00:00           15  00:05:43          59th Street   \n",
       "2449     2018-07-01 00:00:00           15  00:03:00  la jolla village dr   \n",
       "2451     2018-07-01 00:00:00           20  00:24:02               Thomas   \n",
       "2453     2018-07-01 00:00:00          120  00:31:19         LOGAN AVENUE   \n",
       "\n",
       "            uid                   crime_type         lon       lat  \n",
       "stop_id                                                             \n",
       "2447     2447_1            *fight / battery* -117.005226  32.74516  \n",
       "2447     2447_2            *fight / battery* -117.005226  32.74516  \n",
       "2449     2449_1            *fight / battery* -117.005226  32.74516  \n",
       "2451     2451_1                    *alcohol* -117.005226  32.74516  \n",
       "2453     2453_1  *deadly weapon / terrorize* -117.005226  32.74516  \n",
       "\n",
       "[5 rows x 41 columns]"
      ]
     },
     "execution_count": 34,
     "metadata": {},
     "output_type": "execute_result"
    }
   ],
   "source": [
    "df_reasonable.head()"
   ]
  },
  {
   "cell_type": "code",
   "execution_count": null,
   "metadata": {},
   "outputs": [],
   "source": []
  }
 ],
 "metadata": {
  "kernelspec": {
   "display_name": "Python 3",
   "language": "python",
   "name": "python3"
  },
  "language_info": {
   "codemirror_mode": {
    "name": "ipython",
    "version": 3
   },
   "file_extension": ".py",
   "mimetype": "text/x-python",
   "name": "python",
   "nbconvert_exporter": "python",
   "pygments_lexer": "ipython3",
   "version": "3.6.7"
  }
 },
 "nbformat": 4,
 "nbformat_minor": 2
}
