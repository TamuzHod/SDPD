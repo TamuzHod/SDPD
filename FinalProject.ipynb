{
 "cells": [
  {
   "cell_type": "markdown",
   "metadata": {},
   "source": [
    "# COGS 108 - Final Project "
   ]
  },
  {
   "cell_type": "markdown",
   "metadata": {},
   "source": [
    "# Overview"
   ]
  },
  {
   "cell_type": "markdown",
   "metadata": {},
   "source": [
    "*Fill in your overview here*"
   ]
  },
  {
   "cell_type": "markdown",
   "metadata": {},
   "source": [
    "# Names\n",
    "\n",
    "- Les Wang\n",
    "- Sebastian Troncoso\n",
    "- Tamuz Hod\n",
    "- Josh Freilich\n",
    "- Baizhou Xu"
   ]
  },
  {
   "cell_type": "markdown",
   "metadata": {},
   "source": [
    "# Group Members IDs\n",
    "\n",
    "- A12985002\n",
    "- A14217903\n",
    "- A15230380\n",
    "- A13837230\n",
    "- U08254404"
   ]
  },
  {
   "cell_type": "markdown",
   "metadata": {},
   "source": [
    "# Research Question"
   ]
  },
  {
   "cell_type": "markdown",
   "metadata": {},
   "source": [
    "How does the type of business affect the type of crime in the area?"
   ]
  },
  {
   "cell_type": "markdown",
   "metadata": {},
   "source": [
    "## Background and Prior Work"
   ]
  },
  {
   "cell_type": "markdown",
   "metadata": {},
   "source": [
    "*Fill in your background and prior work here* \n",
    "\n",
    "References (include links):\n",
    "- 1)\n",
    "- 2)"
   ]
  },
  {
   "cell_type": "markdown",
   "metadata": {},
   "source": [
    "# Hypothesis\n"
   ]
  },
  {
   "cell_type": "markdown",
   "metadata": {},
   "source": [
    "We predict that the more family friendly businesses in an area reduces the crimes relating to fighting and consume alcoholic beverages rate in the neighborhood whereas the less family friendly businesses will increase theis crime rate."
   ]
  },
  {
   "cell_type": "markdown",
   "metadata": {},
   "source": [
    "# Dataset(s)"
   ]
  },
  {
   "cell_type": "markdown",
   "metadata": {},
   "source": [
    "*Fill in your dataset information here*\n",
    "\n",
    "(Copy this information for each dataset)\n",
    "- Dataset Name:\n",
    "- Link to the dataset:\n",
    "- Number of observations:\n",
    "\n",
    "1-2 sentences describing each dataset. \n",
    "\n",
    "If you plan to use multiple datasets, add 1-2 sentences about how you plan to combine these datasets."
   ]
  },
  {
   "cell_type": "markdown",
   "metadata": {},
   "source": [
    "# Setup"
   ]
  },
  {
   "cell_type": "code",
   "execution_count": 1,
   "metadata": {},
   "outputs": [],
   "source": [
    "import numpy as np\n",
    "import pandas as pd\n",
    "import matplotlib.pyplot as plt\n",
    "import seaborn as sns\n",
    "import math\n",
    "import geopy.distance\n",
    "import sklearn\n",
    "\n",
    "from sklearn.neighbors import kneighbors_graph\n",
    "from sklearn.neighbors import KNeighborsClassifier\n",
    "from sklearn.metrics import classification_report, precision_recall_fscore_support"
   ]
  },
  {
   "cell_type": "markdown",
   "metadata": {},
   "source": [
    "# Data Cleaning"
   ]
  },
  {
   "cell_type": "markdown",
   "metadata": {},
   "source": [
    "In this step the datasets are imported and a universal identifier (uid) is created from the stop_id and pid columns."
   ]
  },
  {
   "cell_type": "code",
   "execution_count": 2,
   "metadata": {},
   "outputs": [],
   "source": [
    "reason_df = pd.read_csv(\"Datasets/reason_for_stop.csv\")\n",
    "reason_df['uid'] = reason_df.stop_id.astype(str).str.cat(reason_df.pid.astype(str), sep='_')\n",
    "details_df = pd.read_csv(\"Datasets/basic_details.csv\",low_memory=False)\n",
    "details_df['uid'] = details_df.stop_id.astype(str).str.cat(details_df.pid.astype(str), sep='_')\n"
   ]
  },
  {
   "cell_type": "markdown",
   "metadata": {},
   "source": [
    "Next the datasets are merged on the <b>uid</b> and all columns that are not relevant to this analysis are dropped."
   ]
  },
  {
   "cell_type": "code",
   "execution_count": 3,
   "metadata": {},
   "outputs": [],
   "source": [
    "totalStop_df = pd.merge(reason_df, details_df, on='uid')\n",
    "totalStop_df = totalStop_df.drop([\"agency\", \"beat\", \"beat_name\", \"isschool\",\"school_name\", \"isstudent\"], axis=1)"
   ]
  },
  {
   "cell_type": "code",
   "execution_count": null,
   "metadata": {},
   "outputs": [],
   "source": []
  },
  {
   "cell_type": "markdown",
   "metadata": {},
   "source": [
    "###### This section will foucus on how we extracted the address information from this df and the use of the US cencus georecorder tool.\n"
   ]
  },
  {
   "cell_type": "markdown",
   "metadata": {},
   "source": [
    "Step 1)\n",
    "Get the address infromation from the data sets so it can be used in the US census geocoder tool.\n",
    "\n",
    "The US census geocoder is accepts csv sheets of up to 10,000 lines where each line is formated in the follwing way:\n",
    "\"street number street name, City, State, \" \n",
    "ex:\n",
    "\"4800 NIAGARA AVE, SAN DIEGO, CA,\""
   ]
  },
  {
   "cell_type": "code",
   "execution_count": null,
   "metadata": {},
   "outputs": [],
   "source": [
    "dfA_L = pd.read_csv('Data/tr_active1.csv')\n",
    "dfL_Z = pd.read_csv('Data/tr_active2.csv')\n",
    "df_business = pd.concat([dfA_L,dfL_Z])\n",
    "df_business.head()"
   ]
  },
  {
   "cell_type": "markdown",
   "metadata": {},
   "source": [
    "We discovered that the CITY coulmn was \"SAN DIEGO\" even when address were located in \"La Jolla\" or \"El Cajon\"\n",
    "So we tried each address for both of these city names as well "
   ]
  },
  {
   "cell_type": "code",
   "execution_count": null,
   "metadata": {},
   "outputs": [],
   "source": [
    "def generateCSVadresses() :\n",
    "    for j in range(0,18):\n",
    "        f= open(\"business_loc\"+str(j)+\".csv\",\"w+\")\n",
    "        print(j)\n",
    "        for i in range(3333*j, 3333 * (j+1)):\n",
    "            if(i >= len(df_business) -1):\n",
    "                break\n",
    "            row = df_business.iloc[i]\n",
    "            try:\n",
    "                f.write(str(i) + '001,' + row['ADDRESS'] + ',' + row['CITY'] + ',CA,\\n')\n",
    "                if(row['CITY'] == \"SAN DIEGO\") : \n",
    "                    f.write(str(i) + '002,' + row['ADDRESS'] + ',' + 'La Jolla' + ',CA,\\n')\n",
    "                    f.write(str(i) + '003,' + row['ADDRESS'] + ',' + 'El Cajon' + ',CA,\\n')\n",
    "            except:\n",
    "                print(\"Error on line \", i)\n",
    "        f.close()\n",
    "# generateCSVadresses()"
   ]
  },
  {
   "cell_type": "markdown",
   "metadata": {},
   "source": [
    "We then manuly inputed this into the georecorder (https://geocoding.geo.census.gov/geocoder/locations/addressbatch?form)\n",
    "as this was to be done only once."
   ]
  },
  {
   "cell_type": "markdown",
   "metadata": {},
   "source": [
    "We than combinded the csv files using the command line and uploded the result to our data folder"
   ]
  },
  {
   "cell_type": "code",
   "execution_count": null,
   "metadata": {},
   "outputs": [],
   "source": [
    "# Input\n",
    "data_file = \"Data/GeoBusinessData/geoBusinessData.csv\"\n",
    "\n",
    "# Generate column names (will be 0, 1, 2, ..., largest_column_count - 1)\n",
    "column_names = ['uid', 'address', 'match?', 'exact?', 'full_address', 'lon,lat', 'remove', 'LR']\n",
    "geoBusiness_df = pd.read_csv(data_file, header=None, names=column_names)\n",
    "geoBusiness_df.count()"
   ]
  },
  {
   "cell_type": "markdown",
   "metadata": {},
   "source": [
    "We proceded to drop any row that was not a match\n",
    "and get back the orginal index location"
   ]
  },
  {
   "cell_type": "code",
   "execution_count": null,
   "metadata": {},
   "outputs": [],
   "source": [
    "geoBusiness_df = geoBusiness_df.dropna()\n",
    "def shorten(uid) :\n",
    "    return int(str(uid)[0:len(str(uid)) - 3])\n",
    "geoBusiness_df['uid'] = geoBusiness_df['uid'].apply(shorten)\n",
    "\n",
    "geoBusiness_df = geoBusiness_df.set_index('uid')\n",
    "geoBusiness_df = geoBusiness_df.sort_index()\n",
    "geoBusiness_df.head()"
   ]
  },
  {
   "cell_type": "markdown",
   "metadata": {},
   "source": [
    "Since we got the addresses form a concated df of the bussines A_L and L_Z we had to match the index the foloing way:"
   ]
  },
  {
   "cell_type": "code",
   "execution_count": null,
   "metadata": {},
   "outputs": [],
   "source": [
    "dfA_L[\"lon\"] = np.nan\n",
    "dfA_L[\"lat\"] = np.nan\n",
    "dfL_Z[\"lon\"] = np.nan\n",
    "dfL_Z[\"lat\"] = np.nan"
   ]
  },
  {
   "cell_type": "code",
   "execution_count": null,
   "metadata": {},
   "outputs": [],
   "source": [
    "for i in range (0,len(dfA_L)) :\n",
    "    try :\n",
    "        loc_lat = geoBusiness_df.loc[i,:][\"lon,lat\"]\n",
    "        dfA_L.iat[i, len(dfA_L.columns) - 2] = loc_lat[0:loc_lat.find(',')]\n",
    "        dfA_L.iat[i, len(dfA_L.columns) - 1] = loc_lat[loc_lat.find(',')+1:]\n",
    "    except :\n",
    "        continue\n",
    "\n",
    "for i in range (0,len(dfL_Z)) :\n",
    "    try :\n",
    "        loc_lat = geoBusiness_df.loc[28302 + i,:][\"lon,lat\"]\n",
    "        dfL_Z.iat[i, len(dfL_Z.columns) - 2] = loc_lat[0:loc_lat.find(',')]\n",
    "        dfL_Z.iat[i, len(dfL_Z.columns) - 1] = loc_lat[loc_lat.find(',')+1:]\n",
    "    except :\n",
    "        continue"
   ]
  },
  {
   "cell_type": "markdown",
   "metadata": {},
   "source": [
    "We than got rid of the bussinesses form whom we did not find an address and recombined them"
   ]
  },
  {
   "cell_type": "code",
   "execution_count": null,
   "metadata": {},
   "outputs": [],
   "source": [
    "dfA_L.dropna(inplace = True)\n",
    "dfL_Z.dropna(inplace = True)\n",
    "\n",
    "business_df = pd.concat([dfA_L, dfL_Z]).reset_index(drop=True)\n",
    "business_df.head()"
   ]
  },
  {
   "cell_type": "markdown",
   "metadata": {},
   "source": [
    "Finaly we got rid of everything that was not bussiness type and the location data"
   ]
  },
  {
   "cell_type": "code",
   "execution_count": null,
   "metadata": {},
   "outputs": [],
   "source": [
    "business_df = business_df[[\"ACTIVITY DESC\", \"lon\", \"lat\"]]\n",
    "business_df.head()"
   ]
  },
  {
   "cell_type": "markdown",
   "metadata": {},
   "source": [
    "The same process was done to the crime data"
   ]
  },
  {
   "cell_type": "code",
   "execution_count": null,
   "metadata": {},
   "outputs": [],
   "source": [
    "data_file = \"Data/GeoCrimeData/reasonable_loc_result.csv\"\n",
    "column_names = ['uid', 'address', 'match?', 'exact?', 'full_address', 'lon,lat', 'remove', 'remove']\n",
    "geoCrime_reasonable_df = pd.read_csv(data_file, header=None, names=column_names)\n",
    "\n",
    "geoCrime_reasonable_df = geoCrime_reasonable_df.dropna()\n",
    "geoCrime_reasonable_df['uid'] = geoCrime_reasonable_df['uid'].apply(shorten)\n",
    "\n",
    "geoCrime_reasonable_df = geoCrime_reasonable_df.set_index('uid')\n",
    "geoCrime_reasonable_df = geoCrime_reasonable_df.sort_index()\n",
    "\n",
    "df_reasonable = pd.read_csv(\"reasonable.csv\", header=0,index_col=0)\n",
    "\n"
   ]
  },
  {
   "cell_type": "code",
   "execution_count": null,
   "metadata": {},
   "outputs": [],
   "source": []
  },
  {
   "cell_type": "code",
   "execution_count": null,
   "metadata": {},
   "outputs": [],
   "source": []
  },
  {
   "cell_type": "code",
   "execution_count": null,
   "metadata": {},
   "outputs": [],
   "source": [
    "for index, row in geoCrime_reasonable_df.iterrows() :\n",
    "    loc_lat = row[\"lon,lat\"]\n",
    "    df_reasonable.at[index, \"lon\"] = loc_lat[0:loc_lat.find(',')]\n",
    "    df_reasonable.at[index, \"lat\"] = loc_lat[loc_lat.find(',')+1:]"
   ]
  },
  {
   "cell_type": "code",
   "execution_count": null,
   "metadata": {},
   "outputs": [],
   "source": [
    "df_reasonable = df_reasonable[[\"crime_type\", \"lon\", \"lat\"]]\n",
    "df_reasonable = df_reasonable.dropna()\n",
    "df_reasonable.head()"
   ]
  },
  {
   "cell_type": "code",
   "execution_count": null,
   "metadata": {},
   "outputs": [],
   "source": [
    "reasonable_crime_csv = df_reasonable.to_csv (r'reasonable_crime.csv', header=True)\n",
    "business_df_csv = business_df.to_csv (r'business_df.csv', header=True)"
   ]
  },
  {
   "cell_type": "markdown",
   "metadata": {},
   "source": [
    "We then combined our bussiness and crime data"
   ]
  },
  {
   "cell_type": "code",
   "execution_count": null,
   "metadata": {},
   "outputs": [],
   "source": [
    "business_df = pd.read_csv(\"business_df.csv\", index_col=0)\n",
    "business_df = business_df.loc[:, ~business_df.columns.str.contains('^Unnamed')]\n",
    "\n",
    "reasonable_df = pd.read_csv(\"reasonable_crime.csv\")\n",
    "reasonable_df = reasonable_df.set_index(\"stop_id\")\n",
    "\n",
    "reasonable_df.drop_duplicates(keep=\"last\",inplace=True)\n",
    "\n",
    "alc_fight_df = reasonable_df.loc[reasonable_df[\"crime_type\"].isin([\"*fight / battery*\", \"*alcohol*\"])]"
   ]
  },
  {
   "cell_type": "markdown",
   "metadata": {},
   "source": [
    "Since the distances we are intrested in are all within a reletevly small geographic area we used the  Euclidean distance between tow points based on the understanding that in distanes of less than 5km the error will be minimal (~0.04%)\n",
    "http://jonisalonen.com/2014/computing-distance-between-coordinates-can-be-simple-and-fast/"
   ]
  },
  {
   "cell_type": "code",
   "execution_count": null,
   "metadata": {},
   "outputs": [],
   "source": [
    "def getDistance(row,lat0,lon0) :\n",
    "    deglen = 110.25\n",
    "    x = row[\"lat\"] - lat0\n",
    "    y = (row[\"lon\"] - lon0) * math.cos(lat0)\n",
    "    return deglen * math.sqrt(x*x + y*y)\n",
    "busi_alc_fight_df = business_df\n"
   ]
  },
  {
   "cell_type": "markdown",
   "metadata": {},
   "source": [
    "This was calculation was time consuming so it was done in batches using the liberary's GIS lab \"datacrancher\" computer"
   ]
  },
  {
   "cell_type": "code",
   "execution_count": null,
   "metadata": {},
   "outputs": [],
   "source": [
    "'''\n",
    "binNumber = 100\n",
    "binSize = int(len(alc_fight_df)/binNumber)\n",
    "\n",
    "for i in range(0,binNumber) :\n",
    "    n=0\n",
    "    print(i)\n",
    "    for row in alc_fight_df.itertuples() :\n",
    "        n=n+1\n",
    "        if(n<i*binSize):\n",
    "            continue \n",
    "        if(n>=(i+1)*binSize) :\n",
    "            break\n",
    "        try :\n",
    "            busi_alc_fight_df[row[0]] = busi_alc_fight_df.apply(getDistanceTo_reasonable,axis=1,args=(row[3],row[2],))\n",
    "        except :\n",
    "            print(index1, \"Did not work\")\n",
    "    busi_alc_fight_csv = busi_alc_fight_df.to_csv (r'busi_alc_fight_df3.csv', header=True) \n",
    "'''\n",
    "\n",
    "\n",
    "\n"
   ]
  },
  {
   "cell_type": "markdown",
   "metadata": {},
   "source": [
    "The next step is to add the type of the crime to the column head"
   ]
  },
  {
   "cell_type": "code",
   "execution_count": null,
   "metadata": {},
   "outputs": [],
   "source": [
    "pre_procesising_df = pd.read_csv(\"business_alc_fight_df.csv\", index_col=0)\n",
    "\n",
    "reasonable_df = pd.read_csv(\"reasonable_crime.csv\", engine = \"python\")\n",
    "reasonable_df = reasonable_df.set_index(\"stop_id\")\n",
    "reasonable_df.drop_duplicates(keep=\"last\",inplace=True) \n",
    "\n"
   ]
  },
  {
   "cell_type": "code",
   "execution_count": null,
   "metadata": {},
   "outputs": [],
   "source": [
    "business_df = pre_procesising_df.copy(deep=True)\n",
    "business_df.head()\n",
    "\n",
    "business_df.drop(\"lat\", axis=1, inplace = True)\n",
    "business_df.drop(\"lon\", axis=1, inplace = True)\n",
    "business_df.rename({\"ACTIVITY DESC\" : \"ACTIVITY_DESC\"},axis=1, inplace = True)\n"
   ]
  },
  {
   "cell_type": "code",
   "execution_count": null,
   "metadata": {},
   "outputs": [],
   "source": [
    "\n",
    "def renameCrimeType(id) :\n",
    "    if(str(id).isnumeric()):\n",
    "        try :\n",
    "            return id + \"_\" + alc_fight_df.loc[int(id)][\"crime_type\"][1:6]\n",
    "        except :\n",
    "            pass\n",
    "    return id\n",
    "\n",
    "business_df.rename(columns = lambda x: renameCrimeType(x), inplace = True)\n",
    "business_df.head()"
   ]
  },
  {
   "cell_type": "code",
   "execution_count": null,
   "metadata": {},
   "outputs": [],
   "source": [
    "\n",
    "business_df.set_index(\"ACTIVITY_DESC\", inplace = True)\n",
    "\n"
   ]
  },
  {
   "cell_type": "code",
   "execution_count": null,
   "metadata": {},
   "outputs": [],
   "source": [
    "business_df = business_df.groupby(business_df.index).filter(lambda x : len(x)>99)\n",
    "business_df.index.value_counts()"
   ]
  },
  {
   "cell_type": "code",
   "execution_count": null,
   "metadata": {},
   "outputs": [],
   "source": [
    "type_counts = business_df.index.value_counts()\n",
    "business_df"
   ]
  },
  {
   "cell_type": "markdown",
   "metadata": {},
   "source": [
    "# Data Analysis & Results"
   ]
  },
  {
   "cell_type": "markdown",
   "metadata": {},
   "source": [
    "# Analysis using 3 nearest neighbors on crime: Alcohol, Drugs and fight\n",
    "## 1. Basic idea\n",
    "The idea is simple: crimes are not uniformly destributed. It can be reflected by the businesses around it and be affected by the type of business. A fight happens more often in bars than in offices, a gun is more likely to be found by a shooting range, a car stealing is more likely to be reflected by wealth of surroundings.  \n",
    "In this part I want to investigate **alcohol, drugs and fights** and its connection to **3 nearset shops**. \n",
    "## 2. My approach outline\n",
    "`def closest_3_business(lon, lat)` is a function that takes a point as an input, output 3 cloest shops types, as well as its distance.  \n",
    "  \n",
    "1. **filter out** alcohol crime stops from `reasonable_df`\n",
    "2. find 3 **cloest shops** for all the data\n",
    "3. **sum up** the count for every kind of shops\n",
    "4. **eliminate the offset**: divide all the counts by the number of shops in San Diego\n",
    "5. **compare the final value** that reflect the correation between business types and alcochol crimes\n",
    "6. execute same process on **Drug data** and **fight**\n",
    "\n",
    "\n",
    "\n",
    "### 2.2 How did I implemented `def closest_3_business(lon, lat)`\n",
    "It is very time consuming to get distance based on latitude and longitude because this is not Euclidean distance and both latitude & longitude are not straight lines.  \n",
    "Based on this, I used a threshold to judge wether this point is likely to be closest point or not. This simple method works really well, ruling about 99% points out and, with the help of tuple calculaiton, pushing the speed of one iteration from **7 second** to **20 ms**"
   ]
  },
  {
   "cell_type": "code",
   "execution_count": 38,
   "metadata": {},
   "outputs": [],
   "source": [
    "traffic_df = pd.read_csv(\"traffic_crime.csv\")\n",
    "traffic_df = traffic_df.set_index(\"stop_id\")\n",
    "business_df = pd.read_csv(\"business_clean_df.csv\")\n",
    "reasonable_df = pd.read_csv(\"reasonable_crime.csv\")\n",
    "reasonable_df = reasonable_df.set_index(\"stop_id\")\n",
    "business_df = business_df[[\"ACTIVITY DESC\", \"lon\", \"lat\"]]"
   ]
  },
  {
   "cell_type": "code",
   "execution_count": 44,
   "metadata": {},
   "outputs": [],
   "source": [
    "def getDistanceTo(lon1, lat1, lon2, lat2) :\n",
    "    coords_1 = (lat1, lon1)\n",
    "    coords_2 = (lat2, lon2)\n",
    "    return geopy.distance.distance(coords_1, coords_2).miles"
   ]
  },
  {
   "cell_type": "code",
   "execution_count": 45,
   "metadata": {},
   "outputs": [],
   "source": [
    "def substitute(li, newPair):\n",
    "    for i in range(3):\n",
    "        if li[i][1] > newPair[1]:\n",
    "            li[i] = newPair\n",
    "            break\n",
    "    return li\n",
    "\n",
    "import math\n",
    "def closest_3_business(lon, lat, threshold=0.003):\n",
    "    li = [('-', 10000000), ('-', 10000000), ('-', 10000000)]\n",
    "    hit = 0\n",
    "    lon = float(lon)\n",
    "    lat = float(lat)\n",
    "    for row in business_df.itertuples():\n",
    "        lon2 = row[2]\n",
    "        lat2 = row[3]\n",
    "        if abs(lon - lon2) > threshold or abs(lat - lat2) > threshold:\n",
    "            continue\n",
    "        else:\n",
    "            distance = getDistanceTo(lon1=lon, lat1=lat, lon2=lon2, lat2=lat2)\n",
    "            hit += 1\n",
    "            # biggest index\n",
    "            biggest_index = 0\n",
    "            for i in range(3):\n",
    "                if li[i][1] > li[biggest_index][1]:\n",
    "                    biggest_index = i\n",
    "\n",
    "            # modify the list\n",
    "            if distance < li[biggest_index][1]:\n",
    "                li[biggest_index] = (row[1], distance)\n",
    "    \n",
    "    if ('-', 10000000) in  li:\n",
    "        return closest_3_business(lon, lat, threshold+0.1)\n",
    "                \n",
    "#     print(hit)\n",
    "    return li\n",
    "\n",
    "def insert_adapter(business1, business2, business3, distance1, distance2, distance3, target):\n",
    "    # ready to insert into dataframe\n",
    "    business1.append(target[0][0])\n",
    "    business2.append(target[1][0])\n",
    "    business3.append(target[2][0])\n",
    "    distance1.append(target[0][1])\n",
    "    distance2.append(target[1][1])\n",
    "    distance3.append(target[2][1])"
   ]
  },
  {
   "cell_type": "code",
   "execution_count": 46,
   "metadata": {},
   "outputs": [
    {
     "data": {
      "text/plain": [
       "*local ordinance violation*     4891\n",
       "*others*                        4148\n",
       "*trespassing*                   3675\n",
       "*alcohol*                       3303\n",
       "*lodge without consent*         3063\n",
       "*fight / battery*               2389\n",
       "*burglary / theft / robbery*    2132\n",
       "*drugs*                         1860\n",
       "*caretaking*                    1237\n",
       "*trivial*                       1123\n",
       "*spouse question*               1069\n",
       "*noise*                         1047\n",
       "*deadly weapon / terrorize*      815\n",
       "*fail to pay for transit*        659\n",
       "*vandalism*                      416\n",
       "*vehicle robbery*                392\n",
       "*prostitution*                    96\n",
       "*murder / kidnapping*             60\n",
       "Name: crime_type, dtype: int64"
      ]
     },
     "execution_count": 46,
     "metadata": {},
     "output_type": "execute_result"
    }
   ],
   "source": [
    "reasonable_df['crime_type'].value_counts()"
   ]
  },
  {
   "cell_type": "markdown",
   "metadata": {},
   "source": [
    "# Alcohol\n",
    "### Obtain alcohol_df"
   ]
  },
  {
   "cell_type": "code",
   "execution_count": 47,
   "metadata": {},
   "outputs": [
    {
     "data": {
      "text/html": [
       "<div>\n",
       "<style scoped>\n",
       "    .dataframe tbody tr th:only-of-type {\n",
       "        vertical-align: middle;\n",
       "    }\n",
       "\n",
       "    .dataframe tbody tr th {\n",
       "        vertical-align: top;\n",
       "    }\n",
       "\n",
       "    .dataframe thead th {\n",
       "        text-align: right;\n",
       "    }\n",
       "</style>\n",
       "<table border=\"1\" class=\"dataframe\">\n",
       "  <thead>\n",
       "    <tr style=\"text-align: right;\">\n",
       "      <th></th>\n",
       "      <th>crime_type</th>\n",
       "      <th>lon</th>\n",
       "      <th>lat</th>\n",
       "    </tr>\n",
       "    <tr>\n",
       "      <th>stop_id</th>\n",
       "      <th></th>\n",
       "      <th></th>\n",
       "      <th></th>\n",
       "    </tr>\n",
       "  </thead>\n",
       "  <tbody>\n",
       "    <tr>\n",
       "      <th>2443</th>\n",
       "      <td>*alcohol*</td>\n",
       "      <td>-116.970985</td>\n",
       "      <td>32.785866</td>\n",
       "    </tr>\n",
       "    <tr>\n",
       "      <th>2451</th>\n",
       "      <td>*alcohol*</td>\n",
       "      <td>-117.253426</td>\n",
       "      <td>32.793934</td>\n",
       "    </tr>\n",
       "    <tr>\n",
       "      <th>2459</th>\n",
       "      <td>*alcohol*</td>\n",
       "      <td>-117.18236</td>\n",
       "      <td>32.69584</td>\n",
       "    </tr>\n",
       "  </tbody>\n",
       "</table>\n",
       "</div>"
      ],
      "text/plain": [
       "        crime_type          lon        lat\n",
       "stop_id                                   \n",
       "2443     *alcohol*  -116.970985  32.785866\n",
       "2451     *alcohol*  -117.253426  32.793934\n",
       "2459     *alcohol*   -117.18236   32.69584"
      ]
     },
     "execution_count": 47,
     "metadata": {},
     "output_type": "execute_result"
    }
   ],
   "source": [
    "alcohol_df = reasonable_df[reasonable_df['crime_type']=='*alcohol*']\n",
    "alcohol_df.head(3)"
   ]
  },
  {
   "cell_type": "markdown",
   "metadata": {},
   "source": [
    "### Obtain distance data"
   ]
  },
  {
   "cell_type": "code",
   "execution_count": 48,
   "metadata": {},
   "outputs": [],
   "source": [
    "# this block may take 3 min\n",
    "business1 = []\n",
    "business2 = []\n",
    "business3 = []\n",
    "distance1 = []\n",
    "distance2 = []\n",
    "distance3 = []\n",
    "\n",
    "tmp = 0\n",
    "for row in alcohol_df.itertuples():\n",
    "    target = closest_3_business(row[2], row[3])\n",
    "    insert_adapter(business1, business2, business3, distance1, distance2, distance3, target)"
   ]
  },
  {
   "cell_type": "code",
   "execution_count": null,
   "metadata": {},
   "outputs": [],
   "source": [
    "alcohol_df.loc[:,'busi_1'] = business1\n",
    "alcohol_df.loc[:,'busi_2'] = business2\n",
    "alcohol_df.loc[:,'busi_3'] = business3\n",
    "alcohol_df.loc[:,'distance_1'] = distance1\n",
    "alcohol_df.loc[:,'distance_2'] = distance2\n",
    "alcohol_df.loc[:,'distance_3'] = distance3"
   ]
  },
  {
   "cell_type": "code",
   "execution_count": null,
   "metadata": {
    "scrolled": true
   },
   "outputs": [],
   "source": [
    "alcohol_near_business = pd.DataFrame()\n",
    "alcohol_near_business['ACTIVITY DESC'] = pd.Series(business1+business2+business3).value_counts().index\n",
    "alcohol_near_business['counts'] = pd.Series(business1+business2+business3).value_counts().tolist()\n",
    "alcohol_near_business[:10]"
   ]
  },
  {
   "cell_type": "markdown",
   "metadata": {},
   "source": [
    "### 2.1 Offset Step\n",
    "An offset is implemented in order to assign a correct weight to each calculations. For example there are 2657 construction sites in San Diego, while there are only 6 data processing centers. There is no double that construction site appears more often near the crime only because they have more pin on the map.It is the type of busines that affect the crime, not the number of sites."
   ]
  },
  {
   "cell_type": "code",
   "execution_count": null,
   "metadata": {},
   "outputs": [],
   "source": [
    "# business_df.value_counts()\n",
    "busi_value_counts = pd.DataFrame()\n",
    "busi_value_counts['ACTIVITY DESC'] = business_df['ACTIVITY DESC'].value_counts().index\n",
    "busi_value_counts['counts'] = business_df['ACTIVITY DESC'].value_counts().tolist()\n",
    "busi_value_counts.head(10).T"
   ]
  },
  {
   "cell_type": "code",
   "execution_count": null,
   "metadata": {},
   "outputs": [],
   "source": [
    "li = []\n",
    "for row in alcohol_near_business.itertuples():\n",
    "    busi_type = row[1]\n",
    "    near_count = row[2]\n",
    "    busi_amount = busi_value_counts[busi_value_counts['ACTIVITY DESC'] == busi_type].iloc[0,1]\n",
    "    li.append(near_count/busi_amount)\n",
    "alcohol_near_business['offsetted_count'] = li\n",
    "alcohol_near_business.sort_values(by='offsetted_count', inplace=True, ascending=False)\n",
    "alcohol_near_business = alcohol_near_business[alcohol_near_business['counts']>20]\n",
    "alcohol_near_business[:10]"
   ]
  },
  {
   "cell_type": "code",
   "execution_count": null,
   "metadata": {},
   "outputs": [],
   "source": [
    "numbers_shown = 10\n",
    "\n",
    "plt.figure(figsize=(11,5))\n",
    "\n",
    "plt.barh(y=[i for i in range(1,numbers_shown+1)],\n",
    "        height=0.5,\n",
    "        width=alcohol_near_business['offsetted_count'][:numbers_shown],\n",
    "        tick_label=alcohol_near_business['ACTIVITY DESC'][:numbers_shown],\n",
    "        color='pink',\n",
    "        edgecolor='blue')\n",
    "\n",
    "plt.title('Most influencial business types on ALCOHOL');"
   ]
  },
  {
   "cell_type": "code",
   "execution_count": null,
   "metadata": {},
   "outputs": [],
   "source": []
  },
  {
   "cell_type": "code",
   "execution_count": null,
   "metadata": {},
   "outputs": [],
   "source": []
  },
  {
   "cell_type": "code",
   "execution_count": null,
   "metadata": {},
   "outputs": [],
   "source": []
  },
  {
   "cell_type": "markdown",
   "metadata": {},
   "source": [
    "One approch we used is assume bussiness have a gravity like force that couses crime to happen around them. We than tried to find the magnatiud of this force for each business type."
   ]
  },
  {
   "cell_type": "markdown",
   "metadata": {},
   "source": [
    "We started by transforming each distance to its inverse squred"
   ]
  },
  {
   "cell_type": "code",
   "execution_count": null,
   "metadata": {},
   "outputs": [],
   "source": [
    "weights_df = (1 / business_df) * (1 / business_df)"
   ]
  },
  {
   "cell_type": "code",
   "execution_count": null,
   "metadata": {},
   "outputs": [],
   "source": [
    "weights_df.head()"
   ]
  },
  {
   "cell_type": "markdown",
   "metadata": {},
   "source": [
    "We decided to divide our data by crime type to see if this force acts diffrently on alcoholic crimes vs fighting"
   ]
  },
  {
   "cell_type": "code",
   "execution_count": null,
   "metadata": {},
   "outputs": [],
   "source": [
    "fight_df = weights_df.filter(like='fight')\n",
    "alcoh_df = weights_df.filter(like='alcoh')"
   ]
  },
  {
   "cell_type": "code",
   "execution_count": null,
   "metadata": {},
   "outputs": [],
   "source": [
    "fight_df.head()\n",
    "fight_df.groupby(fight_df.index).sum()"
   ]
  },
  {
   "cell_type": "code",
   "execution_count": null,
   "metadata": {},
   "outputs": [],
   "source": [
    "fight_df.index.value_counts()"
   ]
  },
  {
   "cell_type": "code",
   "execution_count": null,
   "metadata": {},
   "outputs": [],
   "source": [
    "MASSAGE_df = weights_df.filter(like='MASSAGE THERAPY')\n",
    "JANITORIAL_df = weights_df.filter(like='JANITORIAL SERVICES')"
   ]
  },
  {
   "cell_type": "code",
   "execution_count": null,
   "metadata": {},
   "outputs": [],
   "source": [
    "JANITORIAL_df"
   ]
  },
  {
   "cell_type": "code",
   "execution_count": null,
   "metadata": {},
   "outputs": [],
   "source": []
  },
  {
   "cell_type": "code",
   "execution_count": null,
   "metadata": {},
   "outputs": [],
   "source": []
  },
  {
   "cell_type": "code",
   "execution_count": null,
   "metadata": {},
   "outputs": [],
   "source": []
  },
  {
   "cell_type": "markdown",
   "metadata": {},
   "source": [
    "# Ethics & Privacy"
   ]
  },
  {
   "cell_type": "markdown",
   "metadata": {},
   "source": [
    "*Fill in your ethics & privacy discussion here*"
   ]
  },
  {
   "cell_type": "markdown",
   "metadata": {},
   "source": [
    "# Conclusion & Discussion"
   ]
  },
  {
   "cell_type": "markdown",
   "metadata": {},
   "source": [
    "*Fill in your discussion information here*"
   ]
  },
  {
   "cell_type": "code",
   "execution_count": null,
   "metadata": {},
   "outputs": [],
   "source": []
  },
  {
   "cell_type": "code",
   "execution_count": null,
   "metadata": {},
   "outputs": [],
   "source": []
  },
  {
   "cell_type": "code",
   "execution_count": null,
   "metadata": {},
   "outputs": [],
   "source": []
  },
  {
   "cell_type": "code",
   "execution_count": null,
   "metadata": {},
   "outputs": [],
   "source": []
  }
 ],
 "metadata": {
  "kernelspec": {
   "display_name": "Python 3",
   "language": "python",
   "name": "python3"
  },
  "language_info": {
   "codemirror_mode": {
    "name": "ipython",
    "version": 3
   },
   "file_extension": ".py",
   "mimetype": "text/x-python",
   "name": "python",
   "nbconvert_exporter": "python",
   "pygments_lexer": "ipython3",
   "version": "3.6.7"
  }
 },
 "nbformat": 4,
 "nbformat_minor": 2
}
