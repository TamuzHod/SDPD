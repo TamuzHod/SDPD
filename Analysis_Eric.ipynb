{
 "cells": [
  {
   "cell_type": "code",
   "execution_count": 1,
   "metadata": {
    "ExecuteTime": {
     "end_time": "2019-06-03T00:50:19.491403Z",
     "start_time": "2019-06-03T00:49:57.495450Z"
    },
    "code_folding": [
     8
    ]
   },
   "outputs": [
    {
     "name": "stdout",
     "output_type": "stream",
     "text": [
      "<class 'pandas.core.frame.DataFrame'>\n",
      "Int64Index: 89470 entries, 0 to 89469\n",
      "Data columns (total 49 columns):\n",
      "action                          89470 non-null object\n",
      "agency                          89470 non-null object\n",
      "assignment                      89470 non-null object\n",
      "basis_for_search                89470 non-null object\n",
      "basis_for_search_explanation    89470 non-null object\n",
      "basisforpropertyseizure         89470 non-null object\n",
      "beat                            89470 non-null object\n",
      "beat_name                       89470 non-null object\n",
      "block                           89470 non-null object\n",
      "cityname                        89470 non-null object\n",
      "code                            89470 non-null object\n",
      "consented                       89470 non-null object\n",
      "contraband                      89470 non-null object\n",
      "disability                      89470 non-null object\n",
      "exp_years                       89470 non-null object\n",
      "gend                            89470 non-null object\n",
      "gend_nc                         89470 non-null object\n",
      "gender                          89470 non-null object\n",
      "gender_nonconforming            89470 non-null object\n",
      "highway_exit                    89470 non-null object\n",
      "intersection                    89470 non-null object\n",
      "isschool                        89470 non-null object\n",
      "isstudent                       89470 non-null object\n",
      "land_mark                       89470 non-null object\n",
      "officer_assignment_key          89470 non-null object\n",
      "ori                             89470 non-null object\n",
      "perceived_age                   89470 non-null object\n",
      "perceived_gender                89470 non-null object\n",
      "perceived_lgbt                  89470 non-null object\n",
      "perceived_limited_english       89470 non-null object\n",
      "pid                             89470 non-null object\n",
      "race                            89470 non-null object\n",
      "reason_for_stop                 89470 non-null object\n",
      "reason_for_stop_code_text       89470 non-null object\n",
      "reason_for_stop_detail          89470 non-null object\n",
      "reason_for_stop_explanation     89470 non-null object\n",
      "reason_for_stopcode             89470 non-null object\n",
      "result                          89470 non-null object\n",
      "resultkey                       89470 non-null object\n",
      "resulttext                      89470 non-null object\n",
      "school_name                     89470 non-null object\n",
      "stop_id                         89470 non-null object\n",
      "stop_in_response_to_cfs         89470 non-null object\n",
      "stopdate                        89470 non-null object\n",
      "stopduration                    89470 non-null object\n",
      "stoptime                        89470 non-null object\n",
      "street                          89470 non-null object\n",
      "type_of_property_seized         89470 non-null object\n",
      "uid                             89470 non-null object\n",
      "dtypes: object(49)\n",
      "memory usage: 34.1+ MB\n",
      "data.columns:49\n",
      "df.columns:47\n"
     ]
    }
   ],
   "source": [
    "import csv\n",
    "import numpy as np\n",
    "import pandas as pd\n",
    "import matplotlib.pyplot as plt\n",
    "import seaborn as sns\n",
    "\n",
    "\n",
    "# Data Wrangling : creates indexed dict with compiled data from files listed\n",
    "files = ['actions_taken', 'basic_details', 'basis_of_search', 'basis_property_seizure', 'disability', 'evidence_found', 'gender', 'property_seized', 'race', 'reason_for_stop', 'stop_result']\n",
    "\n",
    "def getFileData( filename ) :\n",
    "    data = csv.reader(open('Data/' + filename + '.csv'))\n",
    "    fields = data.__next__()\n",
    "    rows = {}\n",
    "    for (index, row) in enumerate(data) :\n",
    "        items = zip(fields, row)\n",
    "        item = {}\n",
    "        for (name, value) in items :\n",
    "            item[name] = value.strip()\n",
    "        rows[index] = item\n",
    "    return rows\n",
    "\n",
    "def getFileData( filename ) :\n",
    "    data = csv.reader(open(\"Data/\" + filename + '.csv'))\n",
    "    fields = data.__next__()\n",
    "    rows = {}\n",
    "    for (index, row) in enumerate(data) :\n",
    "        items = zip(fields, row)\n",
    "        item = {}\n",
    "        for (name, value) in items :\n",
    "            item[name] = value.strip()\n",
    "        rows[index] = item\n",
    "    return rows\n",
    "\n",
    "def getUidDict( files ) :\n",
    "    uid_dict = {}\n",
    "    for file in files :\n",
    "        fileData = getFileData( file )\n",
    "        for rowIndex in fileData :\n",
    "            row = fileData[rowIndex]\n",
    "            stop_id = row['stop_id']\n",
    "            pid = row['pid']\n",
    "            uid = stop_id + \"_\" + pid\n",
    "            uid_dict[uid] = {}\n",
    "    for file in files :\n",
    "        fileData = getFileData( file )\n",
    "        for rowIndex in fileData :\n",
    "            row = fileData[rowIndex]\n",
    "            stop_id = row['stop_id']\n",
    "            pid = row['pid']\n",
    "            uid = stop_id + \"_\" + pid\n",
    "            for field in row :\n",
    "                uid_dict[uid][field] = row[field]\n",
    "    return uid_dict\n",
    "\n",
    "def getIndexedDict( uid_dict ) :\n",
    "    dict = {}\n",
    "    for (index, uid) in enumerate( uid_dict ) :\n",
    "        dict[index] = uid_dict[ uid ]\n",
    "        dict[index]['uid'] = uid\n",
    "    return dict\n",
    "\n",
    "\n",
    "data = pd.DataFrame(getIndexedDict( getUidDict(files)))\n",
    "data = data.T\n",
    "\n",
    "\n",
    "# ## 1.3 Take a look at the data\n",
    "\n",
    "# In[4]:\n",
    "\n",
    "\n",
    "data.head(7).T\n",
    "\n",
    "\n",
    "# ## 1.4 All the rows\n",
    "\n",
    "# In[5]:\n",
    "\n",
    "\n",
    "# show basic infomation of data\n",
    "data.info()\n",
    "\n",
    "\n",
    "# ## 2.1 Brief introduction to data\n",
    "# 1. count  - how many rows in the data\n",
    "# 2. unique - number of different values\n",
    "# 3. top    - largest value\n",
    "# 4. freq   - count of top value\n",
    "\n",
    "df = data.copy(deep=True)\n",
    "df = df.drop([\"agency\",\"ori\"],axis = 1)\n",
    "print(\"data.columns:\" + str(len(data.columns)))\n",
    "print(\"df.columns:\" + str(len(df.columns)))\n",
    "\n"
   ]
  },
  {
   "cell_type": "code",
   "execution_count": 2,
   "metadata": {
    "ExecuteTime": {
     "end_time": "2019-06-03T00:50:19.894075Z",
     "start_time": "2019-06-03T00:50:19.494432Z"
    }
   },
   "outputs": [],
   "source": [
    "df = data.copy(deep=True)"
   ]
  },
  {
   "cell_type": "code",
   "execution_count": 3,
   "metadata": {
    "ExecuteTime": {
     "end_time": "2019-06-03T00:50:20.320073Z",
     "start_time": "2019-06-03T00:50:19.896609Z"
    }
   },
   "outputs": [],
   "source": [
    "df.T;"
   ]
  },
  {
   "cell_type": "markdown",
   "metadata": {
    "ExecuteTime": {
     "end_time": "2019-05-15T04:15:30.388754Z",
     "start_time": "2019-05-15T04:15:30.385533Z"
    }
   },
   "source": [
    "## A1 Relationship between age and crime\n",
    "### 1.1 age distribution"
   ]
  },
  {
   "cell_type": "code",
   "execution_count": 4,
   "metadata": {
    "ExecuteTime": {
     "end_time": "2019-06-03T00:50:20.333247Z",
     "start_time": "2019-06-03T00:50:20.324227Z"
    }
   },
   "outputs": [],
   "source": [
    "# Configure libraries\n",
    "# The seaborn library makes plots look nicer\n",
    "sns.set()\n",
    "sns.set_context('talk')\n",
    "\n",
    "# Don't display too many rows/cols of DataFrames\n",
    "pd.options.display.max_rows = 300\n",
    "pd.options.display.max_columns = 300\n",
    "\n",
    "# Round decimals when displaying DataFrames\n",
    "pd.set_option('precision', 2)"
   ]
  },
  {
   "cell_type": "code",
   "execution_count": 5,
   "metadata": {
    "ExecuteTime": {
     "end_time": "2019-06-03T00:50:20.348473Z",
     "start_time": "2019-06-03T00:50:20.335718Z"
    }
   },
   "outputs": [],
   "source": [
    "df = data['perceived_age'].copy(deep=True)"
   ]
  },
  {
   "cell_type": "code",
   "execution_count": 6,
   "metadata": {
    "ExecuteTime": {
     "end_time": "2019-06-03T00:50:22.023010Z",
     "start_time": "2019-06-03T00:50:20.350868Z"
    }
   },
   "outputs": [
    {
     "data": {
      "text/plain": [
       "count     89470\n",
       "unique      105\n",
       "top          30\n",
       "freq      12594\n",
       "Name: perceived_age, dtype: int64"
      ]
     },
     "execution_count": 6,
     "metadata": {},
     "output_type": "execute_result"
    }
   ],
   "source": [
    "#convert to int\n",
    "for i in range(len(df)):\n",
    "    df.at[i] = int(df[i])\n",
    "df.describe()"
   ]
  },
  {
   "cell_type": "code",
   "execution_count": 7,
   "metadata": {
    "ExecuteTime": {
     "end_time": "2019-06-03T00:50:22.335484Z",
     "start_time": "2019-06-03T00:50:22.025664Z"
    }
   },
   "outputs": [
    {
     "data": {
      "image/png": "[encoded data removed]",
      "text/plain": [
       "<Figure size 432x288 with 1 Axes>"
      ]
     },
     "metadata": {},
     "output_type": "display_data"
    }
   ],
   "source": [
    "plt.figure();\n",
    "df.plot.hist(bins = 30);\n",
    "plt.xlabel('age');\n",
    "plt.ylabel('count');"
   ]
  },
  {
   "cell_type": "markdown",
   "metadata": {},
   "source": [
    "### 1.2 age - crime type\n",
    "We split age into different groups\n",
    "1. 19- , 1\n",
    "1. 20-29 , 2\n",
    "1. 30-39 , 3\n",
    "1. 40-49 , 4\n",
    "1. 50+ , 5"
   ]
  },
  {
   "cell_type": "code",
   "execution_count": 8,
   "metadata": {
    "ExecuteTime": {
     "end_time": "2019-06-03T00:50:22.347991Z",
     "start_time": "2019-06-03T00:50:22.338321Z"
    }
   },
   "outputs": [],
   "source": [
    "stop_words = {'i', 'me', 'am', 'my', 'myself', 'we', 'our', 'ours', 'ourselves', 'you', \"you're\", \"you've\", \"you'll\", \"you'd\", 'your', 'yours', 'yourself', 'yourselves', 'he', 'him', 'his', 'himself', 'she', \"she's\", 'her', 'hers', 'herself', 'it', \"it's\", 'its', 'itself', 'they', 'them', 'their', 'theirs', 'themselves', 'what', 'which', 'who', 'whom', 'this', 'that', \"that'll\", 'these', 'those', 'am', 'is', 'are', 'was', 'were', 'be', 'been', 'being', 'have', 'has', 'had', 'having', 'do', 'does', 'did', 'doing', 'a', 'an', 'the', 'and', 'but', 'if', 'or', 'because', 'as', 'until', 'while', 'of', 'at', 'by', 'for', 'with', 'about', 'against', 'between', 'into', 'through', 'during', 'before', 'after', 'above', 'below', 'to', 'from', 'up', 'down', 'in', 'out', 'on', 'off', 'over', 'under', 'again', 'further', 'then', 'once', 'here', 'there', 'when', 'where', 'why', 'how', 'all', 'any', 'both', 'each', 'few', 'more', 'most', 'other', 'some', 'such', 'no', 'nor', 'not', 'only', 'own', 'same', 'so', 'than', 'too', 'very', 's', 't', 'can', 'will', 'just', 'don', \"don't\", 'should', \"should've\", 'now', 'd', 'll', 'm', 'o', 're', 've', 'y', 'ain', 'aren', \"aren't\", 'couldn', \"couldn't\", 'didn', \"didn't\", 'doesn', \"doesn't\", 'hadn', \"hadn't\", 'hasn', \"hasn't\", 'haven', \"haven't\", 'isn', \"isn't\", 'ma', 'mightn', \"mightn't\", 'mustn', \"mustn't\", 'needn', \"needn't\", 'shan', \"shan't\", 'shouldn', \"shouldn't\", 'wasn', \"wasn't\", 'weren', \"weren't\", 'won', \"won't\", 'wouldn', \"wouldn't\"}"
   ]
  },
  {
   "cell_type": "code",
   "execution_count": 9,
   "metadata": {
    "ExecuteTime": {
     "end_time": "2019-06-03T00:50:22.459082Z",
     "start_time": "2019-06-03T00:50:22.351211Z"
    },
    "code_folding": [
     2
    ]
   },
   "outputs": [],
   "source": [
    "wordDic = dict()\n",
    "\n",
    "def sentence2dic(s):\n",
    "    \n",
    "    s = s.lower()\n",
    "    s = s.replace('.','')\n",
    "    s = s.replace('\\'','')\n",
    "    s = s.replace('/','')\n",
    "    s = s.replace('\\\\','')\n",
    "    s = s.replace('*','')\n",
    "    words = s.split()\n",
    "    \n",
    "    for word in words:\n",
    "        if word in stop_words:\n",
    "            continue\n",
    "        if '0' in word:\n",
    "            continue\n",
    "        if '1' in word:\n",
    "            continue\n",
    "        if '2' in word:\n",
    "            continue\n",
    "        if '3' in word:\n",
    "            continue\n",
    "        if '4' in word:\n",
    "            continue\n",
    "        if '5' in word:\n",
    "            continue\n",
    "        if '6' in word:\n",
    "            continue\n",
    "        if '7' in word:\n",
    "            continue\n",
    "        if '8' in word:\n",
    "            continue\n",
    "        if '9' in word:\n",
    "            continue\n",
    "            \n",
    "        if word in wordDic:\n",
    "            wordDic[word]+=1\n",
    "        else :\n",
    "            wordDic[word] = 1\n",
    "\n",
    "def cleanStr(s):\n",
    "    s = s.lower()\n",
    "    s = s.replace('/','')\n",
    "    s = s.replace('\\\\','')\n",
    "    s = s.replace('\\'','')\n",
    "    s = s.replace('#','')\n",
    "    s = s.replace('.','')\n",
    "    s = s.replace(',','')\n",
    "    s = s.replace('*','')\n",
    "    \n",
    "    return s\n",
    "    "
   ]
  },
  {
   "cell_type": "code",
   "execution_count": 10,
   "metadata": {
    "ExecuteTime": {
     "end_time": "2019-06-03T00:50:22.953898Z",
     "start_time": "2019-06-03T00:50:22.461973Z"
    }
   },
   "outputs": [],
   "source": [
    "df = data.copy(deep=True)\n",
    "df['reason_for_stop_explanation'] = df['reason_for_stop_explanation'].apply(cleanStr)"
   ]
  },
  {
   "cell_type": "code",
   "execution_count": 11,
   "metadata": {
    "ExecuteTime": {
     "end_time": "2019-06-03T00:50:22.994172Z",
     "start_time": "2019-06-03T00:50:22.956488Z"
    }
   },
   "outputs": [
    {
     "data": {
      "text/html": [
       "<div>\n",
       "<style scoped>\n",
       "    .dataframe tbody tr th:only-of-type {\n",
       "        vertical-align: middle;\n",
       "    }\n",
       "\n",
       "    .dataframe tbody tr th {\n",
       "        vertical-align: top;\n",
       "    }\n",
       "\n",
       "    .dataframe thead th {\n",
       "        text-align: right;\n",
       "    }\n",
       "</style>\n",
       "<table border=\"1\" class=\"dataframe\">\n",
       "  <thead>\n",
       "    <tr style=\"text-align: right;\">\n",
       "      <th></th>\n",
       "      <th>reason_for_stop</th>\n",
       "    </tr>\n",
       "  </thead>\n",
       "  <tbody>\n",
       "    <tr>\n",
       "      <th>Reasonable Suspicion</th>\n",
       "      <td>42492</td>\n",
       "    </tr>\n",
       "    <tr>\n",
       "      <th>Traffic Violation</th>\n",
       "      <td>40405</td>\n",
       "    </tr>\n",
       "    <tr>\n",
       "      <th>Consensual Encounter resulting in a search</th>\n",
       "      <td>2190</td>\n",
       "    </tr>\n",
       "    <tr>\n",
       "      <th>Investigation to determine whether the person was truant</th>\n",
       "      <td>1917</td>\n",
       "    </tr>\n",
       "    <tr>\n",
       "      <th>Known to be on Parole / Probation / PRCS / Mandatory Supervision</th>\n",
       "      <td>1430</td>\n",
       "    </tr>\n",
       "    <tr>\n",
       "      <th>Knowledge of outstanding arrest warrant/wanted person</th>\n",
       "      <td>1030</td>\n",
       "    </tr>\n",
       "    <tr>\n",
       "      <th>Possible conduct warranting discipline under Education Code sections 48900, 48900.2, 48900.3, 48900.4 and 48900.7</th>\n",
       "      <td>3</td>\n",
       "    </tr>\n",
       "    <tr>\n",
       "      <th>Determine whether the student violated school policy</th>\n",
       "      <td>3</td>\n",
       "    </tr>\n",
       "  </tbody>\n",
       "</table>\n",
       "</div>"
      ],
      "text/plain": [
       "                                                    reason_for_stop\n",
       "Reasonable Suspicion                                          42492\n",
       "Traffic Violation                                             40405\n",
       "Consensual Encounter resulting in a search                     2190\n",
       "Investigation to determine whether the person w...             1917\n",
       "Known to be on Parole / Probation / PRCS / Mand...             1430\n",
       "Knowledge of outstanding arrest warrant/wanted ...             1030\n",
       "Possible conduct warranting discipline under Ed...                3\n",
       "Determine whether the student violated school p...                3"
      ]
     },
     "execution_count": 11,
     "metadata": {},
     "output_type": "execute_result"
    }
   ],
   "source": [
    "pd.DataFrame(df['reason_for_stop'].value_counts())"
   ]
  },
  {
   "cell_type": "code",
   "execution_count": 12,
   "metadata": {
    "ExecuteTime": {
     "end_time": "2019-06-03T00:50:23.074010Z",
     "start_time": "2019-06-03T00:50:22.998069Z"
    }
   },
   "outputs": [],
   "source": [
    "pd.DataFrame(df['reason_for_stop_code_text'].value_counts());"
   ]
  },
  {
   "cell_type": "code",
   "execution_count": 13,
   "metadata": {
    "ExecuteTime": {
     "end_time": "2019-06-03T00:50:23.146303Z",
     "start_time": "2019-06-03T00:50:23.077971Z"
    }
   },
   "outputs": [
    {
     "data": {
      "text/plain": [
       "42492"
      ]
     },
     "execution_count": 13,
     "metadata": {},
     "output_type": "execute_result"
    }
   ],
   "source": [
    "df_reasonable = df[df['reason_for_stop'] == 'Reasonable Suspicion']\n",
    "len(df_reasonable)"
   ]
  },
  {
   "cell_type": "code",
   "execution_count": 14,
   "metadata": {
    "ExecuteTime": {
     "end_time": "2019-06-03T00:50:23.464757Z",
     "start_time": "2019-06-03T00:50:23.149065Z"
    },
    "scrolled": true
   },
   "outputs": [],
   "source": [
    "df_reasonable = df[df['reason_for_stop'] == 'Reasonable Suspicion'].copy(deep=True);\n",
    "df_reasonable['reason_for_stop_code_text'].value_counts();"
   ]
  },
  {
   "cell_type": "code",
   "execution_count": 15,
   "metadata": {
    "ExecuteTime": {
     "end_time": "2019-06-03T00:50:24.006295Z",
     "start_time": "2019-06-03T00:50:23.469563Z"
    }
   },
   "outputs": [
    {
     "data": {
      "text/html": [
       "<div>\n",
       "<style scoped>\n",
       "    .dataframe tbody tr th:only-of-type {\n",
       "        vertical-align: middle;\n",
       "    }\n",
       "\n",
       "    .dataframe tbody tr th {\n",
       "        vertical-align: top;\n",
       "    }\n",
       "\n",
       "    .dataframe thead th {\n",
       "        text-align: right;\n",
       "    }\n",
       "</style>\n",
       "<table border=\"1\" class=\"dataframe\">\n",
       "  <thead>\n",
       "    <tr style=\"text-align: right;\">\n",
       "      <th></th>\n",
       "      <th>crime_type</th>\n",
       "    </tr>\n",
       "  </thead>\n",
       "  <tbody>\n",
       "    <tr>\n",
       "      <th>*local ordinance violation*</th>\n",
       "      <td>6510</td>\n",
       "    </tr>\n",
       "    <tr>\n",
       "      <th>*others*</th>\n",
       "      <td>5552</td>\n",
       "    </tr>\n",
       "    <tr>\n",
       "      <th>*trespassing*</th>\n",
       "      <td>4738</td>\n",
       "    </tr>\n",
       "    <tr>\n",
       "      <th>*alcohol*</th>\n",
       "      <td>4268</td>\n",
       "    </tr>\n",
       "    <tr>\n",
       "      <th>*lodge without consent*</th>\n",
       "      <td>4045</td>\n",
       "    </tr>\n",
       "    <tr>\n",
       "      <th>*fight / battery*</th>\n",
       "      <td>3148</td>\n",
       "    </tr>\n",
       "    <tr>\n",
       "      <th>*burglary / theft / robbery*</th>\n",
       "      <td>2814</td>\n",
       "    </tr>\n",
       "    <tr>\n",
       "      <th>*drugs*</th>\n",
       "      <td>2427</td>\n",
       "    </tr>\n",
       "    <tr>\n",
       "      <th>*caretaking*</th>\n",
       "      <td>1619</td>\n",
       "    </tr>\n",
       "    <tr>\n",
       "      <th>*trivial*</th>\n",
       "      <td>1585</td>\n",
       "    </tr>\n",
       "    <tr>\n",
       "      <th>*noise*</th>\n",
       "      <td>1332</td>\n",
       "    </tr>\n",
       "    <tr>\n",
       "      <th>*spouse question*</th>\n",
       "      <td>1309</td>\n",
       "    </tr>\n",
       "    <tr>\n",
       "      <th>*deadly weapon / terrorize*</th>\n",
       "      <td>1075</td>\n",
       "    </tr>\n",
       "    <tr>\n",
       "      <th>*fail to pay for transit*</th>\n",
       "      <td>859</td>\n",
       "    </tr>\n",
       "    <tr>\n",
       "      <th>*vandalism*</th>\n",
       "      <td>521</td>\n",
       "    </tr>\n",
       "    <tr>\n",
       "      <th>*vehicle robbery*</th>\n",
       "      <td>494</td>\n",
       "    </tr>\n",
       "    <tr>\n",
       "      <th>*prostitution*</th>\n",
       "      <td>117</td>\n",
       "    </tr>\n",
       "    <tr>\n",
       "      <th>*murder / kidnapping*</th>\n",
       "      <td>79</td>\n",
       "    </tr>\n",
       "  </tbody>\n",
       "</table>\n",
       "</div>"
      ],
      "text/plain": [
       "                              crime_type\n",
       "*local ordinance violation*         6510\n",
       "*others*                            5552\n",
       "*trespassing*                       4738\n",
       "*alcohol*                           4268\n",
       "*lodge without consent*             4045\n",
       "*fight / battery*                   3148\n",
       "*burglary / theft / robbery*        2814\n",
       "*drugs*                             2427\n",
       "*caretaking*                        1619\n",
       "*trivial*                           1585\n",
       "*noise*                             1332\n",
       "*spouse question*                   1309\n",
       "*deadly weapon / terrorize*         1075\n",
       "*fail to pay for transit*            859\n",
       "*vandalism*                          521\n",
       "*vehicle robbery*                    494\n",
       "*prostitution*                       117\n",
       "*murder / kidnapping*                 79"
      ]
     },
     "execution_count": 15,
     "metadata": {},
     "output_type": "execute_result"
    }
   ],
   "source": [
    "'''\n",
    "CONFUSED:\n",
    "COMMUNITY CARETAKING\n",
    "\n",
    "'''\n",
    "df_reasonable = df[df['reason_for_stop'] == 'Reasonable Suspicion'].copy(deep=True)\n",
    "def categorizeType_reasonable(s):\n",
    "    violationDic = {\n",
    "        'lodge without consent' : ['lodge w'],\n",
    "        'local ordinance violation' : ['local ordinance'],\n",
    "        'alcohol' : ['alcohol'],\n",
    "        'drugs' : ['drug','CNTL SUB','CONTROLLED SUBSTANCE','MARIJUANA'],\n",
    "        'fight / battery' : ['fight','battery','assult','hit'],\n",
    "        'trespassing' : ['trespas','NO LOITERING','LOITER/ETC PRIVATE PROP'],\n",
    "        'burglary / theft / robbery' : ['burglary','theft','robbery','shoplifting','THFT','LOST PROP',' TAKE VEH W/O OWNER CONSNT'],\n",
    "        'noise' : ['noise'],\n",
    "        'fail to pay for transit' : ['FAIL PAY:PUB TRANSIT SYS'],\n",
    "        'deadly weapon / terrorize' : ['F/ARM','FIREARM','shooting','TERRORIZE'],\n",
    "        'murder / kidnapping' : ['murder','kidnapping'],\n",
    "        'vandalism' : ['VANDALISM'],\n",
    "        'spouse question' : ['spouse','SPOUS','cohab'],\n",
    "        'trivial' : ['smok','SKATEBOARD','jaywalking','OFFENSIVE WORDS','SCOOTR','speed','drive','BIKE','highway'],\n",
    "        'prostitution' : ['PROSTITUTION'],\n",
    "        'caretaking' : ['caretak'],\n",
    "        'vehicle robbery' : ['TAMPER WITH VEHICLE']\n",
    "    }\n",
    "    \n",
    "    for key in violationDic:\n",
    "        for word in violationDic[key]:\n",
    "            if word.upper() in s:\n",
    "                return '*'+key+'*'\n",
    "    \n",
    "#     return '*others*'\n",
    "    return '*others*'\n",
    "\n",
    "df_reasonable['crime_type'] = df_reasonable['reason_for_stop_code_text'].apply(categorizeType_reasonable)\n",
    "\n",
    "pd.DataFrame(df_reasonable['crime_type'].value_counts())\n"
   ]
  },
  {
   "cell_type": "markdown",
   "metadata": {
    "ExecuteTime": {
     "end_time": "2019-05-16T01:51:08.082843Z",
     "start_time": "2019-05-16T01:51:07.901824Z"
    }
   },
   "source": [
    "## Here I generalize some classes for traffic violation\n",
    "1. speeding\n",
    "2. resictration violation\n",
    "3. helmet\n",
    "4. phone / text\n",
    "5. traffic sign\n",
    "6. plate\n",
    "7. turn\n",
    "8. container\n",
    "9. scooter\n",
    "10. lane\n"
   ]
  },
  {
   "cell_type": "code",
   "execution_count": 16,
   "metadata": {
    "ExecuteTime": {
     "end_time": "2019-06-03T00:50:24.068276Z",
     "start_time": "2019-06-03T00:50:24.009605Z"
    }
   },
   "outputs": [
    {
     "data": {
      "text/plain": [
       "40405"
      ]
     },
     "execution_count": 16,
     "metadata": {},
     "output_type": "execute_result"
    }
   ],
   "source": [
    "df_traffic = df[df['reason_for_stop'] == 'Traffic Violation']\n",
    "len(df_traffic)\n",
    "# pd.DataFrame(df_traffic['reason_for_stop_explanation'].value_counts())"
   ]
  },
  {
   "cell_type": "code",
   "execution_count": 17,
   "metadata": {
    "ExecuteTime": {
     "end_time": "2019-06-03T00:50:24.438854Z",
     "start_time": "2019-06-03T00:50:24.073222Z"
    },
    "code_folding": []
   },
   "outputs": [
    {
     "name": "stderr",
     "output_type": "stream",
     "text": [
      "/opt/conda/lib/python3.6/site-packages/ipykernel_launcher.py:39: SettingWithCopyWarning: \n",
      "A value is trying to be set on a copy of a slice from a DataFrame.\n",
      "Try using .loc[row_indexer,col_indexer] = value instead\n",
      "\n",
      "See the caveats in the documentation: http://pandas.pydata.org/pandas-docs/stable/indexing.html#indexing-view-versus-copy\n"
     ]
    }
   ],
   "source": [
    "def categorizeType(s):\n",
    "    violationDic = {\n",
    "        'speeding' : ['speed','fast'],\n",
    "        'expire or fake liscence' : ['exp','reg','lisence'],\n",
    "        'helmet' : ['helmet'],\n",
    "        'phone' : ['phone','text','call','wireless','cell','mobile'],\n",
    "        'sign' : ['sign'],\n",
    "        'plate' : ['plate'],\n",
    "        'turn' : ['turn'],\n",
    "        'container' : ['container','open'],\n",
    "        'scooter' : ['scooter'],\n",
    "        'bike' : ['bike'],\n",
    "        'sidewalk' : ['sidewalk','side'],\n",
    "        'lane' : ['lane','wrong way','line','yellow'],\n",
    "        'tinted window' : ['tint'],\n",
    "        'red light' : ['red'],\n",
    "        'traffic jam' : ['busy','jam','traffic'],\n",
    "        'jaywalking' : ['jaywalking'],\n",
    "        'seatbelt' : ['seatbelt','belt'],\n",
    "        'stopping violation' : ['stop','tstop','lodging'],\n",
    "        'unsafe movement' : ['unsafe','reckless'],\n",
    "        'driving equipment violaiton' : ['equip'],\n",
    "        'alcohol' : ['alchol','wine' ,'drink' ,'drunk','alcohol'],\n",
    "        'highway voilation' : ['hwy','high'],\n",
    "        'passenger' : ['passenger'],\n",
    "        'sleep' : ['island','sleep'],\n",
    "        'hands free' : ['hand','off'],\n",
    "        'collision' : ['collis' ,'hit' , 'crash'],\n",
    "        'car problem' : ['crack' ,'broken','light','noise','loud']\n",
    "    }\n",
    "    \n",
    "    for key in violationDic:\n",
    "        for word in violationDic[key]:\n",
    "            if word in s:\n",
    "                return '*'+key+'*'\n",
    "    \n",
    "    return '*others*'\n",
    "\n",
    "df_traffic['crime_type'] = df_traffic['reason_for_stop_explanation'].apply(categorizeType)"
   ]
  },
  {
   "cell_type": "code",
   "execution_count": 18,
   "metadata": {
    "ExecuteTime": {
     "end_time": "2019-06-03T00:50:24.462220Z",
     "start_time": "2019-06-03T00:50:24.441600Z"
    }
   },
   "outputs": [],
   "source": [
    "#pd.DataFrame(df_traffic['crime_type'].value_counts())"
   ]
  },
  {
   "cell_type": "code",
   "execution_count": 19,
   "metadata": {},
   "outputs": [],
   "source": [
    "df_traffic = df_traffic.drop([\"agency\", \"beat\", \"beat_name\", \"consented\", \"basisforpropertyseizure\", \"disability\", \"isschool\",\"school_name\", \"isstudent\", \"type_of_property_seized\"], axis=1)\n",
    "df_traffic = df_traffic.set_index(\"stop_id\")"
   ]
  },
  {
   "cell_type": "code",
   "execution_count": 20,
   "metadata": {},
   "outputs": [],
   "source": [
    "df_reasonable = df_reasonable.drop([\"agency\", \"beat\", \"beat_name\", \"consented\", \"basisforpropertyseizure\", \"disability\", \"isschool\",\"school_name\", \"isstudent\", \"type_of_property_seized\"], axis=1)\n",
    "df_reasonable = df_reasonable.set_index(\"stop_id\")"
   ]
  },
  {
   "cell_type": "code",
   "execution_count": 21,
   "metadata": {},
   "outputs": [],
   "source": [
    "df_reasonable_loc = df_reasonable[[\"block\", \"street\", \"cityname\", \"intersection\", \"highway_exit\"]]\n",
    "df_traffic_loc = df_traffic[[\"block\", \"street\", \"cityname\", \"intersection\", \"highway_exit\"]]"
   ]
  },
  {
   "cell_type": "code",
   "execution_count": null,
   "metadata": {},
   "outputs": [],
   "source": []
  },
  {
   "cell_type": "code",
   "execution_count": 37,
   "metadata": {},
   "outputs": [],
   "source": [
    "f= open(\"reasonable_loc\"+\".csv\",\"w+\")\n",
    "for index, row in df_reasonable_loc.iterrows() :\n",
    "    if (row[\"street\"] != \"\" and row[\"intersection\"] != \"\") :\n",
    "        try:\n",
    "            f.write(str(index) + '001,' + row['street'] + ' and ' + row['intersection'] + ',' + row['cityname'] + ',CA,\\n')\n",
    "            f.write(str(index) + '002,' + row['street'] + ' and ' + row['intersection'] + ',' + 'La Jolla' + ',CA,\\n')\n",
    "            f.write(str(index) + '003,' + row['street'] + ' and ' + row['intersection'] + ',' + 'El Cajon' + ',CA,\\n')\n",
    "        except:\n",
    "            print(\"Error on line \", index)\n",
    "    elif (row[\"block\"] != \"\" and row[\"street\"] != \"\") :\n",
    "        try:\n",
    "            f.write(str(index) + '001,' + row['block'] + ' ' + row['street'] + ',' + row['cityname'] + ',CA,\\n')\n",
    "            f.write(str(index) + '002,' + row['block'] + ' ' + row['street'] + ',' + 'La Jolla' + ',CA,\\n')\n",
    "            f.write(str(index) + '003,' + row['block'] + ' ' + row['street'] + ',' + 'El Cajon' + ',CA,\\n')\n",
    "        except:\n",
    "            print(\"Error on line \", index)\n",
    "f.close()"
   ]
  },
  {
   "cell_type": "code",
   "execution_count": 38,
   "metadata": {},
   "outputs": [],
   "source": [
    "f= open(\"traffic_loc\"+\".csv\",\"w+\")\n",
    "for index, row in df_traffic.iterrows() :\n",
    "    if (row[\"street\"] != \"\" and row[\"intersection\"] != \"\") :\n",
    "        try:\n",
    "            f.write(str(index) + '001,' + row['street'] + ' and ' + row['intersection'] + ',' + row['cityname'] + ',CA,\\n')\n",
    "            f.write(str(index) + '002,' + row['street'] + ' and ' + row['intersection'] + ',' + 'La Jolla' + ',CA,\\n')\n",
    "            f.write(str(index) + '003,' + row['street'] + ' and ' + row['intersection'] + ',' + 'El Cajon' + ',CA,\\n')\n",
    "        except:\n",
    "            print(\"Error on line \", index)\n",
    "    elif (row[\"block\"] != \"\" and row[\"street\"] != \"\") :\n",
    "        try:\n",
    "            f.write(str(index) + '001,' + row['block'] + ' ' + row['street'] + ',' + row['cityname'] + ',CA,\\n')\n",
    "            f.write(str(index) + '002,' + row['block'] + ' ' + row['street'] + ',' + 'La Jolla' + ',CA,\\n')\n",
    "            f.write(str(index) + '003,' + row['block'] + ' ' + row['street'] + ',' + 'El Cajon' + ',CA,\\n')\n",
    "        except:\n",
    "            print(\"Error on line \", index)\n",
    "f.close()"
   ]
  },
  {
   "cell_type": "code",
   "execution_count": null,
   "metadata": {},
   "outputs": [],
   "source": []
  },
  {
   "cell_type": "code",
   "execution_count": null,
   "metadata": {},
   "outputs": [],
   "source": []
  },
  {
   "cell_type": "code",
   "execution_count": null,
   "metadata": {},
   "outputs": [],
   "source": []
  },
  {
   "cell_type": "code",
   "execution_count": null,
   "metadata": {},
   "outputs": [],
   "source": []
  },
  {
   "cell_type": "code",
   "execution_count": null,
   "metadata": {},
   "outputs": [],
   "source": []
  },
  {
   "cell_type": "code",
   "execution_count": null,
   "metadata": {},
   "outputs": [],
   "source": [
    "export_traffic_csv = df_traffic.to_csv (r'traffic.csv', header=True) #Don't forget to add '.csv' at the end of the path\n",
    "export_reasonable_csv = df_reasonable.to_csv (r'reasonable.csv', header=True) #Don't forget to add '.csv' at the end of the path\n"
   ]
  }
 ],
 "metadata": {
  "kernelspec": {
   "display_name": "Python 3",
   "language": "python",
   "name": "python3"
  },
  "language_info": {
   "codemirror_mode": {
    "name": "ipython",
    "version": 3
   },
   "file_extension": ".py",
   "mimetype": "text/x-python",
   "name": "python",
   "nbconvert_exporter": "python",
   "pygments_lexer": "ipython3",
   "version": "3.6.7"
  },
  "latex_envs": {
   "LaTeX_envs_menu_present": true,
   "autoclose": false,
   "autocomplete": true,
   "bibliofile": "biblio.bib",
   "cite_by": "apalike",
   "current_citInitial": 1,
   "eqLabelWithNumbers": true,
   "eqNumInitial": 1,
   "hotkeys": {
    "equation": "Ctrl-E",
    "itemize": "Ctrl-I"
   },
   "labels_anchors": false,
   "latex_user_defs": false,
   "report_style_numbering": false,
   "user_envs_cfg": false
  },
  "varInspector": {
   "cols": {
    "lenName": 16,
    "lenType": 16,
    "lenVar": 40
   },
   "kernels_config": {
    "python": {
     "delete_cmd_postfix": "",
     "delete_cmd_prefix": "del ",
     "library": "var_list.py",
     "varRefreshCmd": "print(var_dic_list())"
    },
    "r": {
     "delete_cmd_postfix": ") ",
     "delete_cmd_prefix": "rm(",
     "library": "var_list.r",
     "varRefreshCmd": "cat(var_dic_list()) "
    }
   },
   "types_to_exclude": [
    "module",
    "function",
    "builtin_function_or_method",
    "instance",
    "_Feature"
   ],
   "window_display": false
  }
 },
 "nbformat": 4,
 "nbformat_minor": 2
}
