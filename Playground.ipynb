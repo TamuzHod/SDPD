{
 "cells": [
  {
   "cell_type": "code",
   "execution_count": 1,
   "metadata": {
    "ExecuteTime": {
     "end_time": "2019-04-24T18:29:38.872760Z",
     "start_time": "2019-04-24T18:29:38.867955Z"
    }
   },
   "outputs": [],
   "source": [
    "#Hello This is our test file\n",
    "# Hello My name is Eric\n",
    "# Hello this is sebastian!"
   ]
  },
  {
   "cell_type": "code",
   "execution_count": null,
   "metadata": {},
   "outputs": [],
   "source": [
    "# created by TEAM SDPD Pull Over\n",
    "\n",
    "import csv\n",
    "\n",
    "files = ['actions_taken', 'basic_details', 'basis_of_search', 'basis_property_seizure', 'disability', 'evidence_found', 'gender', 'property_seized', 'race', 'reason_for_stop', 'stop_result']\n",
    "\n",
    "def getFileData( filename ) :\n",
    "    data = csv.reader(open(filename + '.csv'))\n",
    "    fields = data.__next__()\n",
    "    rows = {}\n",
    "    for (index, row) in enumerate(data) :\n",
    "        items = zip(fields, row)\n",
    "        item = {}\n",
    "        for (name, value) in items :\n",
    "            item[name] = value.strip()\n",
    "        rows[index] = item\n",
    "    return rows\n",
    "\n",
    "for file in files :\n",
    "    getFileData( file )\n"
   ]
  }
 ],
 "metadata": {
  "kernelspec": {
   "display_name": "Python 3",
   "language": "python",
   "name": "python3"
  },
  "language_info": {
   "codemirror_mode": {
    "name": "ipython",
    "version": 3
   },
   "file_extension": ".py",
   "mimetype": "text/x-python",
   "name": "python",
   "nbconvert_exporter": "python",
   "pygments_lexer": "ipython3",
   "version": "3.6.7"
  },
  "latex_envs": {
   "LaTeX_envs_menu_present": true,
   "autoclose": false,
   "autocomplete": true,
   "bibliofile": "biblio.bib",
   "cite_by": "apalike",
   "current_citInitial": 1,
   "eqLabelWithNumbers": true,
   "eqNumInitial": 1,
   "hotkeys": {
    "equation": "Ctrl-E",
    "itemize": "Ctrl-I"
   },
   "labels_anchors": false,
   "latex_user_defs": false,
   "report_style_numbering": false,
   "user_envs_cfg": false
  }
 },
 "nbformat": 4,
 "nbformat_minor": 2
}
