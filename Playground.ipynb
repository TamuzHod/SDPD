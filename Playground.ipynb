{
 "cells": [
  {
   "cell_type": "code",
   "execution_count": 1,
   "metadata": {
    "ExecuteTime": {
     "end_time": "2019-04-24T18:29:38.872760Z",
     "start_time": "2019-04-24T18:29:38.867955Z"
    }
   },
   "outputs": [],
   "source": [
    "#Hello This is our test file\n",
    "# Hello My name is Eric"
   ]
  },
  {
   "cell_type": "code",
   "execution_count": null,
   "metadata": {},
   "outputs": [],
   "source": [
    "# created by TEAM SDPD Pull Over\n",
    "\n",
    "import csv\n",
    "\n",
    "files = ['actions_taken', 'basic_details', 'basis_of_search', 'basis_property_seizure', 'disability', 'evidence_found', 'gender', 'property_seized', 'race', 'reason_for_stop', 'stop_result']\n",
    "\n",
    "def getFileData( filename ) :\n",
    "    data = csv.reader(open(filename + '.csv'))\n",
    "    fields = data.__next__()\n",
    "    rows = {}\n",
    "    for (index, row) in enumerate(data) :\n",
    "        items = zip(fields, row)\n",
    "        item = {}\n",
    "        for (name, value) in items :\n",
    "            item[name] = value.strip()\n",
    "        rows[index] = item\n",
    "    return rows\n",
    "\n",
    "for file in files :\n",
    "    getFileData( file )\n"
   ]
  },
  {
   "cell_type": "code",
   "execution_count": 2,
   "metadata": {},
   "outputs": [
    {
     "name": "stdout",
     "output_type": "stream",
     "text": [
      "printing\n",
      "{'stop_id': '2443', 'pid': '1', 'action': 'None', 'consented': '', 'ori': 'CA0371100', 'agency': 'SD', 'exp_years': '10', 'stopdate': '2018-07-01 00:00:00', 'stoptime': '00:01:37', 'stopduration': '30', 'stop_in_response_to_cfs': '0', 'officer_assignment_key': '1', 'assignment': 'Patrol, traffic enforcement, field operations', 'intersection': '', 'block': '700', 'land_mark': '', 'street': 'Grand Avenue', 'highway_exit': '', 'isschool': '0', 'school_name': '', 'cityname': 'SAN DIEGO', 'beat': '122', 'beat_name': 'Pacific Beach 122', 'isstudent': '0', 'perceived_limited_english': '0', 'perceived_age': '25', 'perceived_gender': 'Male', 'gender_nonconforming': '0', 'gend': '1', 'gend_nc': '', 'perceived_lgbt': 'No', 'basis_for_search': '', 'basis_for_search_explanation': '', 'basisforpropertyseizure': '', 'disability': 'None', 'contraband': 'None', 'gender': 'Male', 'type_of_property_seized': '', 'race': 'White', 'reason_for_stop': 'Reasonable Suspicion', 'reason_for_stopcode': '64005', 'reason_for_stop_code_text': '647(F) PC - DISORD CONDUCT:ALCOHOL (M) 64005', 'reason_for_stop_detail': 'Officer witnessed commission of a crime', 'reason_for_stop_explanation': 'staggering, unable to safely walk', 'resultkey': '6', 'result': 'Custodial Arrest without warrant', 'code': '64005', 'resulttext': '647(F) PC - DISORD CONDUCT:ALCOHOL (M) 64005', 'uid': '2443_1'}\n"
     ]
    }
   ],
   "source": [
    "# Data Wrangling : creates indexed dict with compiled data from files listed\n",
    "import csv\n",
    "\n",
    "files = ['actions_taken', 'basic_details', 'basis_of_search', 'basis_property_seizure', 'disability', 'evidence_found', 'gender', 'property_seized', 'race', 'reason_for_stop', 'stop_result']\n",
    "\n",
    "def getFileData( filename ) :\n",
    "    data = csv.reader(open(\"Data/Data/\" + filename + '.csv'))\n",
    "    fields = data.__next__()\n",
    "    rows = {}\n",
    "    for (index, row) in enumerate(data) :\n",
    "        items = zip(fields, row)\n",
    "        item = {}\n",
    "        for (name, value) in items :\n",
    "            item[name] = value.strip()\n",
    "        rows[index] = item\n",
    "    return rows\n",
    "\n",
    "def getUidDict( files ) :\n",
    "    uid_dict = {}\n",
    "    for file in files :\n",
    "        fileData = getFileData( file )\n",
    "        for rowIndex in fileData :\n",
    "            row = fileData[rowIndex]\n",
    "            stop_id = row['stop_id']\n",
    "            pid = row['pid']\n",
    "            uid = stop_id + \"_\" + pid\n",
    "            uid_dict[uid] = {}\n",
    "    for file in files :\n",
    "        fileData = getFileData( file )\n",
    "        for rowIndex in fileData :\n",
    "            row = fileData[rowIndex]\n",
    "            stop_id = row['stop_id']\n",
    "            pid = row['pid']\n",
    "            uid = stop_id + \"_\" + pid\n",
    "            for field in row :\n",
    "                uid_dict[uid][field] = row[field]\n",
    "    return uid_dict\n",
    "\n",
    "def getIndexedDict( uid_dict ) :\n",
    "    dict = {}\n",
    "    for (index, uid) in enumerate( uid_dict ) :\n",
    "        dict[index] = uid_dict[ uid ]\n",
    "        dict[index]['uid'] = uid\n",
    "    return dict\n",
    "\n",
    "# Example of how to get first index of data\n",
    "print(getIndexedDict( getUidDict(files) )[0])\n"
   ]
  },
  {
   "cell_type": "code",
   "execution_count": null,
   "metadata": {},
   "outputs": [],
   "source": []
  }
 ],
 "metadata": {
  "kernelspec": {
   "display_name": "Python 3",
   "language": "python",
   "name": "python3"
  },
  "language_info": {
   "codemirror_mode": {
    "name": "ipython",
    "version": 3
   },
   "file_extension": ".py",
   "mimetype": "text/x-python",
   "name": "python",
   "nbconvert_exporter": "python",
   "pygments_lexer": "ipython3",
   "version": "3.6.7"
  },
  "latex_envs": {
   "LaTeX_envs_menu_present": true,
   "autoclose": false,
   "autocomplete": true,
   "bibliofile": "biblio.bib",
   "cite_by": "apalike",
   "current_citInitial": 1,
   "eqLabelWithNumbers": true,
   "eqNumInitial": 1,
   "hotkeys": {
    "equation": "Ctrl-E",
    "itemize": "Ctrl-I"
   },
   "labels_anchors": false,
   "latex_user_defs": false,
   "report_style_numbering": false,
   "user_envs_cfg": false
  }
 },
 "nbformat": 4,
 "nbformat_minor": 2
}
