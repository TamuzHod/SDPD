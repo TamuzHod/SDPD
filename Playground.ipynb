{
 "cells": [
  {
   "cell_type": "code",
   "execution_count": 1,
   "metadata": {
    "ExecuteTime": {
     "end_time": "2019-04-24T18:29:38.872760Z",
     "start_time": "2019-04-24T18:29:38.867955Z"
    }
   },
   "outputs": [],
   "source": [
    "#Hello This is our test file\n"
   ]
  },
  {
   "cell_type": "code",
   "execution_count": 6,
   "metadata": {},
   "outputs": [],
   "source": [
    "# created by TEAM SDPD Pull Over\n",
    "\n",
    "import csv\n",
    "\n",
    "files = ['actions_taken', 'basic_details', 'basis_of_search', 'basis_property_seizure', 'disability', 'evidence_found', 'gender', 'property_seized', 'race', 'reason_for_stop', 'stop_result']\n",
    "\n",
    "def getFileData( filename ) :\n",
    "    data = csv.reader(open('Data/' + filename + '.csv'))\n",
    "    fields = data.__next__()\n",
    "    rows = {}\n",
    "    for (index, row) in enumerate(data) :\n",
    "        items = zip(fields, row)\n",
    "        item = {}\n",
    "        for (name, value) in items :\n",
    "            item[name] = value.strip()\n",
    "        rows[index] = item\n",
    "    return rows\n",
    "\n",
    "for file in files :\n",
    "    getFileData( file )\n"
   ]
  },
  {
   "cell_type": "code",
   "execution_count": 7,
   "metadata": {},
   "outputs": [
    {
     "ename": "FileNotFoundError",
     "evalue": "[Errno 2] No such file or directory: 'Data/Data/actions_taken.csv'",
     "output_type": "error",
     "traceback": [
      "\u001b[0;31m---------------------------------------------------------------------------\u001b[0m",
      "\u001b[0;31mFileNotFoundError\u001b[0m                         Traceback (most recent call last)",
      "\u001b[0;32m<ipython-input-7-9a08de1df835>\u001b[0m in \u001b[0;36m<module>\u001b[0;34m()\u001b[0m\n\u001b[1;32m     45\u001b[0m \u001b[0;34m\u001b[0m\u001b[0m\n\u001b[1;32m     46\u001b[0m \u001b[0;31m# Example of how to get first index of data\u001b[0m\u001b[0;34m\u001b[0m\u001b[0;34m\u001b[0m\u001b[0;34m\u001b[0m\u001b[0m\n\u001b[0;32m---> 47\u001b[0;31m \u001b[0mprint\u001b[0m\u001b[0;34m(\u001b[0m\u001b[0mgetIndexedDict\u001b[0m\u001b[0;34m(\u001b[0m \u001b[0mgetUidDict\u001b[0m\u001b[0;34m(\u001b[0m\u001b[0mfiles\u001b[0m\u001b[0;34m)\u001b[0m \u001b[0;34m)\u001b[0m\u001b[0;34m[\u001b[0m\u001b[0;36m0\u001b[0m\u001b[0;34m]\u001b[0m\u001b[0;34m)\u001b[0m\u001b[0;34m\u001b[0m\u001b[0;34m\u001b[0m\u001b[0m\n\u001b[0m",
      "\u001b[0;32m<ipython-input-7-9a08de1df835>\u001b[0m in \u001b[0;36mgetUidDict\u001b[0;34m(files)\u001b[0m\n\u001b[1;32m     19\u001b[0m     \u001b[0muid_dict\u001b[0m \u001b[0;34m=\u001b[0m \u001b[0;34m{\u001b[0m\u001b[0;34m}\u001b[0m\u001b[0;34m\u001b[0m\u001b[0;34m\u001b[0m\u001b[0m\n\u001b[1;32m     20\u001b[0m     \u001b[0;32mfor\u001b[0m \u001b[0mfile\u001b[0m \u001b[0;32min\u001b[0m \u001b[0mfiles\u001b[0m \u001b[0;34m:\u001b[0m\u001b[0;34m\u001b[0m\u001b[0;34m\u001b[0m\u001b[0m\n\u001b[0;32m---> 21\u001b[0;31m         \u001b[0mfileData\u001b[0m \u001b[0;34m=\u001b[0m \u001b[0mgetFileData\u001b[0m\u001b[0;34m(\u001b[0m \u001b[0mfile\u001b[0m \u001b[0;34m)\u001b[0m\u001b[0;34m\u001b[0m\u001b[0;34m\u001b[0m\u001b[0m\n\u001b[0m\u001b[1;32m     22\u001b[0m         \u001b[0;32mfor\u001b[0m \u001b[0mrowIndex\u001b[0m \u001b[0;32min\u001b[0m \u001b[0mfileData\u001b[0m \u001b[0;34m:\u001b[0m\u001b[0;34m\u001b[0m\u001b[0;34m\u001b[0m\u001b[0m\n\u001b[1;32m     23\u001b[0m             \u001b[0mrow\u001b[0m \u001b[0;34m=\u001b[0m \u001b[0mfileData\u001b[0m\u001b[0;34m[\u001b[0m\u001b[0mrowIndex\u001b[0m\u001b[0;34m]\u001b[0m\u001b[0;34m\u001b[0m\u001b[0;34m\u001b[0m\u001b[0m\n",
      "\u001b[0;32m<ipython-input-7-9a08de1df835>\u001b[0m in \u001b[0;36mgetFileData\u001b[0;34m(filename)\u001b[0m\n\u001b[1;32m      5\u001b[0m \u001b[0;34m\u001b[0m\u001b[0m\n\u001b[1;32m      6\u001b[0m \u001b[0;32mdef\u001b[0m \u001b[0mgetFileData\u001b[0m\u001b[0;34m(\u001b[0m \u001b[0mfilename\u001b[0m \u001b[0;34m)\u001b[0m \u001b[0;34m:\u001b[0m\u001b[0;34m\u001b[0m\u001b[0;34m\u001b[0m\u001b[0m\n\u001b[0;32m----> 7\u001b[0;31m     \u001b[0mdata\u001b[0m \u001b[0;34m=\u001b[0m \u001b[0mcsv\u001b[0m\u001b[0;34m.\u001b[0m\u001b[0mreader\u001b[0m\u001b[0;34m(\u001b[0m\u001b[0mopen\u001b[0m\u001b[0;34m(\u001b[0m\u001b[0;34m\"Data/Data/\"\u001b[0m \u001b[0;34m+\u001b[0m \u001b[0mfilename\u001b[0m \u001b[0;34m+\u001b[0m \u001b[0;34m'.csv'\u001b[0m\u001b[0;34m)\u001b[0m\u001b[0;34m)\u001b[0m\u001b[0;34m\u001b[0m\u001b[0;34m\u001b[0m\u001b[0m\n\u001b[0m\u001b[1;32m      8\u001b[0m     \u001b[0mfields\u001b[0m \u001b[0;34m=\u001b[0m \u001b[0mdata\u001b[0m\u001b[0;34m.\u001b[0m\u001b[0m__next__\u001b[0m\u001b[0;34m(\u001b[0m\u001b[0;34m)\u001b[0m\u001b[0;34m\u001b[0m\u001b[0;34m\u001b[0m\u001b[0m\n\u001b[1;32m      9\u001b[0m     \u001b[0mrows\u001b[0m \u001b[0;34m=\u001b[0m \u001b[0;34m{\u001b[0m\u001b[0;34m}\u001b[0m\u001b[0;34m\u001b[0m\u001b[0;34m\u001b[0m\u001b[0m\n",
      "\u001b[0;31mFileNotFoundError\u001b[0m: [Errno 2] No such file or directory: 'Data/Data/actions_taken.csv'"
     ]
    }
   ],
   "source": [
    "# Data Wrangling : creates indexed dict with compiled data from files listed\n",
    "import csv\n",
    "\n",
    "files = ['actions_taken', 'basic_details', 'basis_of_search', 'basis_property_seizure', 'disability', 'evidence_found', 'gender', 'property_seized', 'race', 'reason_for_stop', 'stop_result']\n",
    "\n",
    "def getFileData( filename ) :\n",
    "    data = csv.reader(open(\"Data/Data/\" + filename + '.csv'))\n",
    "    fields = data.__next__()\n",
    "    rows = {}\n",
    "    for (index, row) in enumerate(data) :\n",
    "        items = zip(fields, row)\n",
    "        item = {}\n",
    "        for (name, value) in items :\n",
    "            item[name] = value.strip()\n",
    "        rows[index] = item\n",
    "    return rows\n",
    "\n",
    "def getUidDict( files ) :\n",
    "    uid_dict = {}\n",
    "    for file in files :\n",
    "        fileData = getFileData( file )\n",
    "        for rowIndex in fileData :\n",
    "            row = fileData[rowIndex]\n",
    "            stop_id = row['stop_id']\n",
    "            pid = row['pid']\n",
    "            uid = stop_id + \"_\" + pid\n",
    "            uid_dict[uid] = {}\n",
    "    for file in files :\n",
    "        fileData = getFileData( file )\n",
    "        for rowIndex in fileData :\n",
    "            row = fileData[rowIndex]\n",
    "            stop_id = row['stop_id']\n",
    "            pid = row['pid']\n",
    "            uid = stop_id + \"_\" + pid\n",
    "            for field in row :\n",
    "                uid_dict[uid][field] = row[field]\n",
    "    return uid_dict\n",
    "\n",
    "def getIndexedDict( uid_dict ) :\n",
    "    dict = {}\n",
    "    for (index, uid) in enumerate( uid_dict ) :\n",
    "        dict[index] = uid_dict[ uid ]\n",
    "        dict[index]['uid'] = uid\n",
    "    return dict\n",
    "\n",
    "# Example of how to get first index of data\n",
    "print(getIndexedDict( getUidDict(files) )[0])\n"
   ]
  },
  {
   "cell_type": "code",
   "execution_count": null,
   "metadata": {},
   "outputs": [],
   "source": []
  }
 ],
 "metadata": {
  "kernelspec": {
   "display_name": "Python 3",
   "language": "python",
   "name": "python3"
  },
  "language_info": {
   "codemirror_mode": {
    "name": "ipython",
    "version": 3
   },
   "file_extension": ".py",
   "mimetype": "text/x-python",
   "name": "python",
   "nbconvert_exporter": "python",
   "pygments_lexer": "ipython3",
   "version": "3.6.7"
  },
  "latex_envs": {
   "LaTeX_envs_menu_present": true,
   "autoclose": false,
   "autocomplete": true,
   "bibliofile": "biblio.bib",
   "cite_by": "apalike",
   "current_citInitial": 1,
   "eqLabelWithNumbers": true,
   "eqNumInitial": 1,
   "hotkeys": {
    "equation": "Ctrl-E",
    "itemize": "Ctrl-I"
   },
   "labels_anchors": false,
   "latex_user_defs": false,
   "report_style_numbering": false,
   "user_envs_cfg": false
  }
 },
 "nbformat": 4,
 "nbformat_minor": 2
}
