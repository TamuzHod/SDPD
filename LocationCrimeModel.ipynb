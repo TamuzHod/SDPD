{
 "cells": [
  {
   "cell_type": "code",
   "execution_count": 40,
   "metadata": {
    "ExecuteTime": {
     "end_time": "2019-04-24T18:29:38.872760Z",
     "start_time": "2019-04-24T18:29:38.867955Z"
    }
   },
   "outputs": [],
   "source": [
    "import numpy as np\n",
    "import pandas as pd\n",
    "import matplotlib.pyplot as plt\n",
    "import seaborn as sns\n",
    "from sklearn.neighbors import kneighbors_graph\n",
    "from sklearn.neighbors import KNeighborsClassifier\n",
    "from sklearn.metrics import classification_report, precision_recall_fscore_support\n"
   ]
  },
  {
   "cell_type": "code",
   "execution_count": 55,
   "metadata": {},
   "outputs": [],
   "source": [
    "df = pd.read_csv(\"traffic_crime.csv\")\n",
    "df = df.sample(frac=1)\n"
   ]
  },
  {
   "cell_type": "code",
   "execution_count": 56,
   "metadata": {},
   "outputs": [
    {
     "data": {
      "text/plain": [
       "28"
      ]
     },
     "execution_count": 56,
     "metadata": {},
     "output_type": "execute_result"
    }
   ],
   "source": [
    "len(df[\"crime_type\"].unique())"
   ]
  },
  {
   "cell_type": "code",
   "execution_count": 57,
   "metadata": {},
   "outputs": [],
   "source": [
    "num_training =int(0.8 * len(df.index))\n",
    "df_train = df[:num_training]\n",
    "\n",
    "df_test = df[num_training:]\n"
   ]
  },
  {
   "cell_type": "code",
   "execution_count": 58,
   "metadata": {},
   "outputs": [],
   "source": [
    "tp,fp = df_train[\"lat\"].values,df_train[\"lon\"].values\n",
    "X_train = np.vstack((tp, fp)).T\n",
    "y_train = df_train[\"crime_type\"]"
   ]
  },
  {
   "cell_type": "code",
   "execution_count": 60,
   "metadata": {},
   "outputs": [
    {
     "data": {
      "text/plain": [
       "KNeighborsClassifier(algorithm='auto', leaf_size=30, metric='minkowski',\n",
       "           metric_params=None, n_jobs=1, n_neighbors=28, p=2,\n",
       "           weights='uniform')"
      ]
     },
     "execution_count": 60,
     "metadata": {},
     "output_type": "execute_result"
    }
   ],
   "source": [
    "NUMBER_OF_NEIGHBOURS = 28\n",
    "knn_model = KNeighborsClassifier(n_neighbors=NUMBER_OF_NEIGHBOURS)\n",
    "knn_model.fit(X_train, y_train)"
   ]
  },
  {
   "cell_type": "code",
   "execution_count": 62,
   "metadata": {},
   "outputs": [],
   "source": [
    "predicted_train = knn_model.predict(X_train)"
   ]
  },
  {
   "cell_type": "code",
   "execution_count": 63,
   "metadata": {
    "scrolled": true
   },
   "outputs": [
    {
     "name": "stdout",
     "output_type": "stream",
     "text": [
      "                               precision    recall  f1-score   support\n",
      "\n",
      "                    *alcohol*       0.00      0.00      0.00        55\n",
      "                       *bike*       0.27      0.13      0.18       491\n",
      "                *car problem*       0.22      0.36      0.27      1786\n",
      "                  *collision*       0.00      0.00      0.00       112\n",
      "                  *container*       0.00      0.00      0.00        58\n",
      "*driving equipment violaiton*       0.00      0.00      0.00        51\n",
      "    *expire or fake liscence*       0.24      0.36      0.29      1815\n",
      "                 *hands free*       0.00      0.00      0.00       107\n",
      "                     *helmet*       0.39      0.54      0.45       517\n",
      "          *highway voilation*       0.40      0.51      0.45       213\n",
      "                 *jaywalking*       0.00      0.00      0.00        37\n",
      "                       *lane*       0.34      0.21      0.26       587\n",
      "                     *others*       0.26      0.29      0.28      1870\n",
      "                  *passenger*       0.00      0.00      0.00        94\n",
      "                      *phone*       0.41      0.53      0.46      1684\n",
      "                      *plate*       0.24      0.15      0.18      1054\n",
      "                  *red light*       0.27      0.13      0.17       977\n",
      "                    *scooter*       0.31      0.31      0.31       270\n",
      "                   *seatbelt*       1.00      0.01      0.01       148\n",
      "                   *sidewalk*       0.24      0.02      0.04       291\n",
      "                       *sign*       0.43      0.59      0.50      2616\n",
      "                      *sleep*       0.28      0.19      0.23       109\n",
      "                   *speeding*       0.61      0.58      0.60      2164\n",
      "         *stopping violation*       0.26      0.12      0.17       535\n",
      "              *tinted window*       0.27      0.02      0.04       393\n",
      "                *traffic jam*       0.21      0.07      0.10       594\n",
      "                       *turn*       0.30      0.12      0.17       652\n",
      "            *unsafe movement*       0.00      0.00      0.00       143\n",
      "\n",
      "                  avg / total       0.33      0.34      0.32     19423\n",
      "\n"
     ]
    },
    {
     "name": "stderr",
     "output_type": "stream",
     "text": [
      "/opt/conda/lib/python3.6/site-packages/sklearn/metrics/classification.py:1135: UndefinedMetricWarning: Precision and F-score are ill-defined and being set to 0.0 in labels with no predicted samples.\n",
      "  'precision', 'predicted', average, warn_for)\n"
     ]
    }
   ],
   "source": [
    "print(classification_report(y_train,predicted_train))"
   ]
  },
  {
   "cell_type": "code",
   "execution_count": 64,
   "metadata": {},
   "outputs": [],
   "source": [
    "X_test = np.vstack((df_test[\"lat\"].values,df_test[\"lon\"].values)).T\n",
    "y_test = df_test[\"crime_type\"]"
   ]
  },
  {
   "cell_type": "code",
   "execution_count": 65,
   "metadata": {},
   "outputs": [],
   "source": [
    "predicted_test = knn_model.predict(X_test)"
   ]
  },
  {
   "cell_type": "code",
   "execution_count": 66,
   "metadata": {},
   "outputs": [
    {
     "name": "stdout",
     "output_type": "stream",
     "text": [
      "                               precision    recall  f1-score   support\n",
      "\n",
      "                    *alcohol*       0.00      0.00      0.00        13\n",
      "                       *bike*       0.17      0.08      0.11       127\n",
      "                *car problem*       0.15      0.23      0.18       442\n",
      "                  *collision*       0.00      0.00      0.00        28\n",
      "                  *container*       0.00      0.00      0.00        18\n",
      "*driving equipment violaiton*       0.00      0.00      0.00         6\n",
      "    *expire or fake liscence*       0.20      0.28      0.23       485\n",
      "                 *hands free*       0.00      0.00      0.00        20\n",
      "                     *helmet*       0.37      0.57      0.45       127\n",
      "          *highway voilation*       0.41      0.44      0.42        57\n",
      "                 *jaywalking*       0.00      0.00      0.00        17\n",
      "                       *lane*       0.34      0.23      0.28       155\n",
      "                     *others*       0.17      0.19      0.18       427\n",
      "                  *passenger*       0.00      0.00      0.00        20\n",
      "                      *phone*       0.36      0.52      0.43       417\n",
      "                      *plate*       0.14      0.09      0.11       265\n",
      "                  *red light*       0.19      0.10      0.13       230\n",
      "                    *scooter*       0.39      0.32      0.35        73\n",
      "                   *seatbelt*       0.00      0.00      0.00        27\n",
      "                   *sidewalk*       0.18      0.04      0.06        80\n",
      "                       *sign*       0.39      0.57      0.47       623\n",
      "                      *sleep*       0.53      0.30      0.38        27\n",
      "                   *speeding*       0.60      0.56      0.58       571\n",
      "         *stopping violation*       0.31      0.13      0.18       166\n",
      "              *tinted window*       0.22      0.02      0.03       112\n",
      "                *traffic jam*       0.11      0.03      0.04       144\n",
      "                       *turn*       0.27      0.13      0.18       144\n",
      "            *unsafe movement*       0.00      0.00      0.00        35\n",
      "\n",
      "                  avg / total       0.29      0.30      0.28      4856\n",
      "\n"
     ]
    },
    {
     "name": "stderr",
     "output_type": "stream",
     "text": [
      "/opt/conda/lib/python3.6/site-packages/sklearn/metrics/classification.py:1135: UndefinedMetricWarning: Precision and F-score are ill-defined and being set to 0.0 in labels with no predicted samples.\n",
      "  'precision', 'predicted', average, warn_for)\n"
     ]
    }
   ],
   "source": [
    "print(classification_report(y_test,predicted_test))"
   ]
  },
  {
   "cell_type": "code",
   "execution_count": 18,
   "metadata": {},
   "outputs": [
    {
     "data": {
      "text/plain": [
       "Male                      64586\n",
       "Female                    24542\n",
       "Transgender man/boy         188\n",
       "Transgender woman/girl      102\n",
       "                             52\n",
       "Name: perceived_gender, dtype: int64"
      ]
     },
     "execution_count": 18,
     "metadata": {},
     "output_type": "execute_result"
    }
   ],
   "source": [
    "df.perceived_gender.value_counts()"
   ]
  },
  {
   "cell_type": "code",
   "execution_count": 19,
   "metadata": {},
   "outputs": [
    {
     "data": {
      "text/plain": [
       "     89387\n",
       "5       83\n",
       "Name: gend_nc, dtype: int64"
      ]
     },
     "execution_count": 19,
     "metadata": {},
     "output_type": "execute_result"
    }
   ],
   "source": [
    "df.gend_nc.value_counts()"
   ]
  },
  {
   "cell_type": "code",
   "execution_count": null,
   "metadata": {},
   "outputs": [],
   "source": []
  }
 ],
 "metadata": {
  "kernelspec": {
   "display_name": "Python 3",
   "language": "python",
   "name": "python3"
  },
  "language_info": {
   "codemirror_mode": {
    "name": "ipython",
    "version": 3
   },
   "file_extension": ".py",
   "mimetype": "text/x-python",
   "name": "python",
   "nbconvert_exporter": "python",
   "pygments_lexer": "ipython3",
   "version": "3.6.7"
  },
  "latex_envs": {
   "LaTeX_envs_menu_present": true,
   "autoclose": false,
   "autocomplete": true,
   "bibliofile": "biblio.bib",
   "cite_by": "apalike",
   "current_citInitial": 1,
   "eqLabelWithNumbers": true,
   "eqNumInitial": 1,
   "hotkeys": {
    "equation": "Ctrl-E",
    "itemize": "Ctrl-I"
   },
   "labels_anchors": false,
   "latex_user_defs": false,
   "report_style_numbering": false,
   "user_envs_cfg": false
  }
 },
 "nbformat": 4,
 "nbformat_minor": 2
}
