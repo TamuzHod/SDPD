{
 "cells": [
  {
   "cell_type": "code",
   "execution_count": null,
   "metadata": {},
   "outputs": [],
   "source": [
    "import csv\n",
    "import numpy as np\n",
    "import pandas as pd\n",
    "import matplotlib.pyplot as plt\n",
    "import seaborn as sns\n",
    "import geopy.distance\n"
   ]
  },
  {
   "cell_type": "code",
   "execution_count": null,
   "metadata": {},
   "outputs": [],
   "source": [
    "traffic_df = pd.read_csv(\"traffic_crime.csv\")\n",
    "traffic_df = traffic_df.set_index(\"stop_id\")\n",
    "\n",
    "business_df = pd.read_csv(\"business_df.csv\")\n",
    "\n",
    "reasonable_df = pd.read_csv(\"reasonable_crime.csv\")\n",
    "reasonable_df = reasonable_df.set_index(\"stop_id\")\n",
    "\n",
    "\n",
    "reasonable_df.drop_duplicates(keep=\"first\",inplace=True) \n",
    "traffic_df.drop_duplicates(keep=\"first\",inplace=True) \n"
   ]
  },
  {
   "cell_type": "code",
   "execution_count": null,
   "metadata": {},
   "outputs": [],
   "source": [
    "traffic_df.head()"
   ]
  },
  {
   "cell_type": "code",
   "execution_count": null,
   "metadata": {},
   "outputs": [],
   "source": [
    "reasonable_df.head()"
   ]
  },
  {
   "cell_type": "code",
   "execution_count": null,
   "metadata": {},
   "outputs": [
    {
     "data": {
      "text/html": [
       "<div>\n",
       "<style scoped>\n",
       "    .dataframe tbody tr th:only-of-type {\n",
       "        vertical-align: middle;\n",
       "    }\n",
       "\n",
       "    .dataframe tbody tr th {\n",
       "        vertical-align: top;\n",
       "    }\n",
       "\n",
       "    .dataframe thead th {\n",
       "        text-align: right;\n",
       "    }\n",
       "</style>\n",
       "<table border=\"1\" class=\"dataframe\">\n",
       "  <thead>\n",
       "    <tr style=\"text-align: right;\">\n",
       "      <th></th>\n",
       "      <th>ACTIVITY DESC</th>\n",
       "      <th>lon</th>\n",
       "      <th>lat</th>\n",
       "    </tr>\n",
       "  </thead>\n",
       "  <tbody>\n",
       "    <tr>\n",
       "      <th>0</th>\n",
       "      <td>INFORMATION SERVICES</td>\n",
       "      <td>-117.073740</td>\n",
       "      <td>32.704464</td>\n",
       "    </tr>\n",
       "    <tr>\n",
       "      <th>1</th>\n",
       "      <td>ALL OTHER HEALTH &amp; PERSONAL CARE STORES</td>\n",
       "      <td>-117.101830</td>\n",
       "      <td>32.737766</td>\n",
       "    </tr>\n",
       "    <tr>\n",
       "      <th>2</th>\n",
       "      <td>REAL ESTATE</td>\n",
       "      <td>-117.149460</td>\n",
       "      <td>32.749218</td>\n",
       "    </tr>\n",
       "    <tr>\n",
       "      <th>3</th>\n",
       "      <td>OTHER INDIVIDUAL &amp; FAMILY SERVICES</td>\n",
       "      <td>-117.089806</td>\n",
       "      <td>32.738430</td>\n",
       "    </tr>\n",
       "    <tr>\n",
       "      <th>4</th>\n",
       "      <td>INVESTIGATION SERVICES</td>\n",
       "      <td>-117.116520</td>\n",
       "      <td>32.809334</td>\n",
       "    </tr>\n",
       "  </tbody>\n",
       "</table>\n",
       "</div>"
      ],
      "text/plain": [
       "                             ACTIVITY DESC         lon        lat\n",
       "0                     INFORMATION SERVICES -117.073740  32.704464\n",
       "1  ALL OTHER HEALTH & PERSONAL CARE STORES -117.101830  32.737766\n",
       "2                              REAL ESTATE -117.149460  32.749218\n",
       "3       OTHER INDIVIDUAL & FAMILY SERVICES -117.089806  32.738430\n",
       "4                   INVESTIGATION SERVICES -117.116520  32.809334"
      ]
     },
     "execution_count": 5,
     "metadata": {},
     "output_type": "execute_result"
    }
   ],
   "source": [
    "business_df = business_df[[\"ACTIVITY DESC\", \"lon\", \"lat\"]]\n",
    "business_df.head()"
   ]
  },
  {
   "cell_type": "code",
   "execution_count": null,
   "metadata": {},
   "outputs": [],
   "source": [
    "business_reasonable_df = business_df"
   ]
  },
  {
   "cell_type": "code",
   "execution_count": null,
   "metadata": {},
   "outputs": [],
   "source": [
    "\n",
    "def getDistanceTo_reasonable(row,lat2,lon2) :\n",
    "    lat1 = row[\"lat\"]\n",
    "    lon1 = row[\"lon\"]\n",
    "    coords_1 = (lat1, lon1)\n",
    "    coords_2 = (lat2, lon2)\n",
    "    return geopy.distance.vincenty(coords_1, coords_2).miles"
   ]
  },
  {
   "cell_type": "code",
   "execution_count": null,
   "metadata": {},
   "outputs": [
    {
     "name": "stderr",
     "output_type": "stream",
     "text": [
      "/opt/conda/lib/python3.6/site-packages/ipykernel_launcher.py:7: DeprecationWarning: Vincenty is deprecated and is going to be removed in geopy 2.0. Use `geopy.distance.geodesic` (or the default `geopy.distance.distance`) instead, which is more accurate and always converges.\n",
      "  import sys\n"
     ]
    },
    {
     "name": "stdout",
     "output_type": "stream",
     "text": [
      "2533 Did not work\n"
     ]
    }
   ],
   "source": [
    "\n",
    "n=0\n",
    "for index1, row in reasonable_df.iterrows() :\n",
    "    n=n+1\n",
    "    if(n==2500) :\n",
    "        break\n",
    "    lat2 = reasonable_df.loc[index1][\"lat\"]\n",
    "    lon2 = reasonable_df.loc[index1][\"lon\"]\n",
    "    try :\n",
    "        business_reasonable_df[index1] = business_reasonable_df.apply(getDistanceTo_reasonable,axis=1,args=(lat2,lon2,))\n",
    "    except :\n",
    "        print(index1, \"Did not work\")\n",
    "'''\n",
    "    for i in range(0,len(business_reasonable_df)) :\n",
    "        lat = business_reasonable_df.loc[i][\"lat\"]\n",
    "        lon = business_reasonable_df.loc[i][\"lon\"]\n",
    "        business_reasonable_df.at[i, str(index1)] = getDistanceTo_reasonable(lat,lon,lat2,lon2)\n",
    "'''\n"
   ]
  },
  {
   "cell_type": "code",
   "execution_count": null,
   "metadata": {},
   "outputs": [],
   "source": [
    "'''\n",
    "index = 2447\n",
    "lat = business_reasonable_df.loc[0][\"lat\"]\n",
    "lon = business_reasonable_df.loc[0][\"lon\"]\n",
    "lat2 = reasonable_df.loc[index][\"lat\"]\n",
    "lon2 = reasonable_df.loc[index][\"lon\"]\n",
    "getDistanceTo_reasonable(lat,lon,lat2,lon2)\n",
    "'''\n",
    "\n",
    "#business_reasonable_df[index] = business_reasonable_df.apply(getDistanceTo(business_reasonable_df[\"lat\"],business_reasonable_df[\"lon\"], lat, lon ), axis=1)"
   ]
  },
  {
   "cell_type": "code",
   "execution_count": null,
   "metadata": {},
   "outputs": [],
   "source": [
    "\n"
   ]
  },
  {
   "cell_type": "code",
   "execution_count": null,
   "metadata": {},
   "outputs": [],
   "source": [
    "business_df_csv = business_reasonable_df.to_csv (r'business_reasonable_df.csv', header=True) #Don't forget to add '.csv' at the end of the path\n",
    "\n",
    "business_reasonable_df.shape()"
   ]
  },
  {
   "cell_type": "code",
   "execution_count": null,
   "metadata": {},
   "outputs": [],
   "source": [
    "n=0\n",
    "for index1, row in reasonable_df.iterrows() :\n",
    "    n=n+1\n",
    "    if(n<2500) :\n",
    "        continue\n",
    "    if(n==5000) :\n",
    "        break\n",
    "    lat2 = reasonable_df.loc[index1][\"lat\"]\n",
    "    lon2 = reasonable_df.loc[index1][\"lon\"]\n",
    "    try :\n",
    "        business_reasonable_df[index1] = business_reasonable_df.apply(getDistanceTo_reasonable,axis=1,args=(lat2,lon2,))\n",
    "    except :\n",
    "        print(index1, \"Did not work\")"
   ]
  },
  {
   "cell_type": "code",
   "execution_count": null,
   "metadata": {},
   "outputs": [],
   "source": [
    "business_df_csv = business_reasonable_df.to_csv (r'business_reasonable_df2.csv', header=True) #Don't forget to add '.csv' at the end of the path\n"
   ]
  },
  {
   "cell_type": "code",
   "execution_count": null,
   "metadata": {},
   "outputs": [],
   "source": []
  },
  {
   "cell_type": "code",
   "execution_count": null,
   "metadata": {},
   "outputs": [],
   "source": []
  }
 ],
 "metadata": {
  "kernelspec": {
   "display_name": "Python 3",
   "language": "python",
   "name": "python3"
  },
  "language_info": {
   "codemirror_mode": {
    "name": "ipython",
    "version": 3
   },
   "file_extension": ".py",
   "mimetype": "text/x-python",
   "name": "python",
   "nbconvert_exporter": "python",
   "pygments_lexer": "ipython3",
   "version": "3.6.7"
  }
 },
 "nbformat": 4,
 "nbformat_minor": 2
}
