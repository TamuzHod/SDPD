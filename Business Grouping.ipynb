{
 "cells": [
  {
   "cell_type": "code",
   "execution_count": null,
   "metadata": {},
   "outputs": [],
   "source": [
    "import csv\n",
    "import numpy as np\n",
    "import pandas as pd\n",
    "import matplotlib.pyplot as plt\n",
    "import seaborn as sns"
   ]
  },
  {
   "cell_type": "code",
   "execution_count": null,
   "metadata": {},
   "outputs": [],
   "source": [
    "dfA = pd.read_csv(\"Data/business_A_K.csv\")"
   ]
  },
  {
   "cell_type": "code",
   "execution_count": null,
   "metadata": {},
   "outputs": [],
   "source": [
    "dfK = pd.read_csv(\"Data/business_K_Z.csv\")"
   ]
  },
  {
   "cell_type": "code",
   "execution_count": null,
   "metadata": {},
   "outputs": [],
   "source": [
    "df = pd.concat([dfA, dfK])"
   ]
  },
  {
   "cell_type": "code",
   "execution_count": 368,
   "metadata": {},
   "outputs": [],
   "source": [
    "threshold = 5 # Anything that occurs less than this will be removed.\n",
    "value_counts = df[\"ACTIVITY DESC\"].value_counts() # Entire DataFrame \n",
    "to_remove = value_counts[value_counts <= threshold].index\n",
    "df.replace(to_remove, np.nan, inplace=True)\n"
   ]
  },
  {
   "cell_type": "code",
   "execution_count": 369,
   "metadata": {},
   "outputs": [],
   "source": [
    "df = df.dropna(subset=['ACTIVITY DESC'])"
   ]
  },
  {
   "cell_type": "code",
   "execution_count": 398,
   "metadata": {},
   "outputs": [],
   "source": [
    "df2 = df"
   ]
  },
  {
   "cell_type": "code",
   "execution_count": 413,
   "metadata": {},
   "outputs": [],
   "source": [
    "def standardize_activity(string):\n",
    "   \n",
    "    string = string.lower()\n",
    "    string = string.strip()\n",
    "    if \"mfg\" in string:\n",
    "        output = \"MANUFACTURING\"\n",
    "    elif \"insurance\" in string:\n",
    "        output = \"INSURANCE\"\n",
    "    elif \"waste\" in string:\n",
    "        output = \"WASTE SERVICES\"\n",
    "    elif \"food\" in string and \"service\" in string:\n",
    "        output = \"FOOD SERVICES\"\n",
    "    elif \"food\" in string:\n",
    "        output = \"FOOD SUPPLIER\"\n",
    "    elif \"auto\" in string or \"vehicle\" in string or \"car \" in string:\n",
    "        output = \"AUTOMOTIVE\"\n",
    "    elif \"whsle\" in string or \"wholesale\" in string:\n",
    "        output = \"WHOLESALE\"\n",
    "    # Otherwise, if uncaught - keep as is\n",
    "    elif \"health\" in string:\n",
    "        output = \"HEALTH SERVICES\"\n",
    "    elif \"drinking places\" in string or \"bars\" in string or \"liquor\" in string:\n",
    "        output = \"BARS\"\n",
    "    elif \"nonalcoholic\" in string or \"restaurant\" in string:\n",
    "        output = \"FOOD SERVICES\"\n",
    "    elif \"property\" in string or \"lessor\" in string or \"estate\" in string or \"rent\" in string or \"lease\" in string:\n",
    "        output = \"PROPERTY SERVICES\"\n",
    "    elif \"bank\" in string or \"account\" in string or \"mortage\" in string or \"financ\" in string or \"credit\" in string or \"broker\" in string:\n",
    "        output = \"FINANCE SERVICES\"\n",
    "    elif \"medic\" in string or \"hospital\" in string or \"patient\" in string:\n",
    "        output = \"MEDICAL\"\n",
    "    elif \"transport\" in string or \"truck\" in string or \"taxi\" in string or \"limo\" in string:\n",
    "        output = \"TRANSPORTATION\"\n",
    "    elif \"construct\" in string or \"contractor\" in string:\n",
    "        output = \"CONSTRUCTION\"\n",
    "    elif \"tax\" in string and \"exempt\" in string:\n",
    "        output = \"NON-PROFIT\"\n",
    "    elif \"non-profit\" in string:\n",
    "        output = \"NON-PROFIT\"\n",
    "    elif \"legal\" in string or \"lawyer\" in string:\n",
    "        output = \"LEGAL\"\n",
    "    elif \"computer\" in string:\n",
    "        output = \"COMPUTERS\"\n",
    "    elif \"school\" in string or \"education\" in string or \"training\" in string:\n",
    "        output = \"EDUCATION\"\n",
    "    elif \"furniture\" in string:\n",
    "        output = \"FURNITURE\"\n",
    "    elif \"electric\" in string:\n",
    "        output = \"ELECTRICAL\"\n",
    "    elif \"fitness\" in string:\n",
    "        output = \"FITNESS SERVICES\"\n",
    "    elif \"sports\" in string or \"sporting\" in string:\n",
    "        output = \"SPORTS\"\n",
    "    elif \"scien\" in string:\n",
    "        output = \"SCIENCE\"\n",
    "    elif \"lab\" in string:\n",
    "        output = \"LABS\"\n",
    "    elif \"r&m\" in string or \"repair\" in string:\n",
    "        output = \"REPAIR SERVICES\"\n",
    "    elif \"clean\" in string:\n",
    "        output = \"CLEANING SERVICES\"\n",
    "    elif \"pet\" in string or \"vet\" in string:\n",
    "        output = \"PET SERVICES\"\n",
    "    elif \"clothing\" in string:\n",
    "        output = \"CLOTHING\"\n",
    "    elif \"book\" in string:\n",
    "        output = \"BOOK\"\n",
    "    elif \"store\" in string or \"retail\" in string:\n",
    "        output = \"RETAILERS\"\n",
    "    elif \"art\" in string or \"photo\" in string or \"picture\" in string:\n",
    "        output = \"ART AND PHOTOGRAPHY\"\n",
    "    elif \"studio\" in string or \"instructor\" in string:\n",
    "        output = \"FITNESS SERVICES\"\n",
    "    elif \"massage\" in string:\n",
    "        output = \"MASSAGE\"\n",
    "    elif \"travel\" in string:\n",
    "        output = \"TRAVEL\"\n",
    "    else:\n",
    "        output = string\n",
    "    \n",
    "    return output"
   ]
  },
  {
   "cell_type": "code",
   "execution_count": 414,
   "metadata": {},
   "outputs": [],
   "source": [
    "df2['ACTIVITY DESC'] = df2[\"ACTIVITY DESC\"].apply(standardize_activity)"
   ]
  },
  {
   "cell_type": "code",
   "execution_count": 409,
   "metadata": {},
   "outputs": [
    {
     "data": {
      "text/plain": [
       "array(['FOOD SERVICES', 'information services', 'HEALTH SERVICES',\n",
       "       'FINANCE SERVICES', 'PROPERTY SERVICES',\n",
       "       'other individual & family services', 'investigation services',\n",
       "       'all other transit & ground passenger trans', 'INSURANCE',\n",
       "       'consulting services', 'ART AND PHOTOGRAPHY', 'WHOLESALE',\n",
       "       'FURNITURE', 'CONSTRUCTION', 'RETAILERS', 'TRANSPORTATION',\n",
       "       'other personal services', 'AUTOMOTIVE', 'BARS',\n",
       "       'graphic design services', 'marketing consulting services',\n",
       "       'other services to buildings & dwellings', 'architectural services',\n",
       "       'SCIENCE', 'CLOTHING', 'REPAIR SERVICES',\n",
       "       'management consulting services', 'beauty salons', 'NON-PROFIT',\n",
       "       'SPORTS', 'massage therapy', 'COMPUTERS', 'mobile detailing',\n",
       "       'building, developing & general contracting',\n",
       "       'investigation & security services', 'other support services',\n",
       "       'electronic shopping & mail-order houses', 'engineering services',\n",
       "       'all other personal services', 'FITNESS SERVICES',\n",
       "       'personal care services', 'janitorial services', 'tattoo parlors',\n",
       "       'used household & office goods moving',\n",
       "       'individual & family services', 'other business services',\n",
       "       'gasoline stations', 'manufacturing', 'breweries',\n",
       "       'interior design services', 'CLEANING SERVICES',\n",
       "       'offices of dentists', 'management, sci & tech consulting services',\n",
       "       'local messengers & local delivery', 'religious organizations',\n",
       "       'PET SERVICES', 'animal production support activities',\n",
       "       'advertising & related services', 'business support services',\n",
       "       'all other information services', 'EDUCATION',\n",
       "       'other services related to advertising',\n",
       "       'other building material dealers', 'offices of optometrists',\n",
       "       'other direct selling establishments',\n",
       "       'all other business support services',\n",
       "       'building inspection services', 'nail salons', 'boat dealers',\n",
       "       'other personal care services', 'FOOD SUPPLIER',\n",
       "       'landscaping services', 'general warehousing & storage',\n",
       "       'limited-service eating places', 'civic & social organizations',\n",
       "       'services for elderly & disabled persons',\n",
       "       'management of companies & enterprises', 'parking lots & garages',\n",
       "       'tire dealers', 'services to buildings & dwellings',\n",
       "       'on-line information services', 'tax preparation services',\n",
       "       'hair, nail & skin care services', 'LEGAL', 'MEDICAL',\n",
       "       'diagnostic imaging centers',\n",
       "       'other management consulting services', 'child day care services',\n",
       "       'other specialized design services', 'offices of physicians',\n",
       "       'barber shops', 'florists', 'exam preparation & tutoring',\n",
       "       'locksmiths', 'caterers', 'other telecommunications',\n",
       "       'employment services', 'direct selling establishments',\n",
       "       'administrative & support services', 'security systems services',\n",
       "       'warehousing & storage', 'security guards & patrol services',\n",
       "       'carwashes', 'nursing care facilities',\n",
       "       'translation & interpretation services',\n",
       "       'specialized design services', 'collection agencies',\n",
       "       'publishing industries', 'advertising agencies',\n",
       "       'all other amusement & recreation industries',\n",
       "       'exterminating & pest control services',\n",
       "       'nursing & residential care facilities',\n",
       "       'architectural, engineering & related services', 'check cashing',\n",
       "       'swap meet vendor', 'admin & gen management consulting services',\n",
       "       'information', 'travel arrangement & reservation services',\n",
       "       'drafting services', 'other warehousing & storage',\n",
       "       'amusement, gambling & recreation industries',\n",
       "       'other business support services',\n",
       "       'broadcasting & telecommunications', 'offices of chiropractors',\n",
       "       'funeral homes', 'LABS', 'all other support services',\n",
       "       'office administrative services',\n",
       "       'information & data processing services',\n",
       "       'employment placement agencies',\n",
       "       'other amusement & recreation industries',\n",
       "       'offices of pt/ot/speech therapy & audiology',\n",
       "       'marketing research & public opinion polling',\n",
       "       'promoters of entertainment events', 'utilities',\n",
       "       'security systems services, (except locksmiths', 'BOOK',\n",
       "       'environmental consulting services',\n",
       "       'nonferrous (exc alum) production & processing',\n",
       "       'temporary help services',\n",
       "       'oth travel arrangement & reservation services', 'tour operators',\n",
       "       'investment advice', 'massage parlors',\n",
       "       'document preparation services',\n",
       "       'hotels (exc casino hotels) & motels', 'other information services',\n",
       "       'promoters of entertainment events w/o facilit',\n",
       "       'nude entertainment business',\n",
       "       'cellular & other wireless telecommunications', 'printing',\n",
       "       'travel agencies', 'couriers',\n",
       "       'printing & related support activities',\n",
       "       'public relations agencies',\n",
       "       'surveying/mapping (exc geophysical) services',\n",
       "       'massage technician', 'other residential care facilities',\n",
       "       'process, phys dist & log consulting services',\n",
       "       'pedi-cab (individual)', 'apparel manufacturing',\n",
       "       'social assistance', 'it services & support', 'fishing',\n",
       "       'landscape architectural services',\n",
       "       'offices of other holding companies',\n",
       "       'building material & supplies dealers', 'couriers & messengers',\n",
       "       'telecommunications', 'water supply & irrigation systems',\n",
       "       'offices of notaries', 'other gasoline stations',\n",
       "       'vending machine operators', 'land subdivision & land development',\n",
       "       'rooming & boarding houses', 'sound recording industries',\n",
       "       'facilities support services', 'cafeterias', 'tanning salons',\n",
       "       'WASTE SERVICES', 'securities & commodity exchanges',\n",
       "       'kiosk/atm businesses', 'other kiosk related business'], dtype=object)"
      ]
     },
     "execution_count": 409,
     "metadata": {},
     "output_type": "execute_result"
    }
   ],
   "source": [
    "df2['ACTIVITY DESC'].unique()"
   ]
  },
  {
   "cell_type": "code",
   "execution_count": 410,
   "metadata": {},
   "outputs": [
    {
     "data": {
      "text/plain": [
       "183"
      ]
     },
     "execution_count": 410,
     "metadata": {},
     "output_type": "execute_result"
    }
   ],
   "source": [
    "df2['ACTIVITY DESC'].unique().size"
   ]
  },
  {
   "cell_type": "code",
   "execution_count": 362,
   "metadata": {},
   "outputs": [],
   "source": [
    "threshold2 = 5 # Anything that occurs less than this will be removed.\n",
    "value_counts2 = df2[\"ACTIVITY DESC\"].value_counts() # Entire DataFrame \n",
    "to_remove2 = value_counts2[value_counts2 <= threshold2].index\n",
    "df2 = df2.drop(to_remove2)\n",
    "#df2.replace(to_remove2, np.nan, inplace=True)"
   ]
  },
  {
   "cell_type": "code",
   "execution_count": 385,
   "metadata": {},
   "outputs": [],
   "source": [
    "#df2['ACTIVITY DESC'].value_counts()"
   ]
  },
  {
   "cell_type": "code",
   "execution_count": null,
   "metadata": {},
   "outputs": [],
   "source": []
  }
 ],
 "metadata": {
  "kernelspec": {
   "display_name": "Python 3",
   "language": "python",
   "name": "python3"
  },
  "language_info": {
   "codemirror_mode": {
    "name": "ipython",
    "version": 3
   },
   "file_extension": ".py",
   "mimetype": "text/x-python",
   "name": "python",
   "nbconvert_exporter": "python",
   "pygments_lexer": "ipython3",
   "version": "3.6.7"
  }
 },
 "nbformat": 4,
 "nbformat_minor": 2
}
