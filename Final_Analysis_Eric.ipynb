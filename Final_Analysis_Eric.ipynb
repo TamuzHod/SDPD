{
 "cells": [
  {
   "cell_type": "markdown",
   "metadata": {},
   "source": [
    "# Analysis using 3 nearest neighbors on crime: Alcohol, Drugs and fight\n",
    "## 1. Basic idea\n",
    "The idea is simple: crimes are not uniformly destributed. It can be reflected by the businesses around it and be affected by the type of business. A fight happens more often in bars than in offices, a gun is more likely to be found by a shooting range, a car stealing is more likely to be reflected by wealth of surroundings.  \n",
    "In this part I want to investigate **alcohol, drugs and fights** and its connection to **3 nearset shops**. \n",
    "## 2. My approach outline\n",
    "`def closest_3_business(lon, lat)` is a function that takes a point as an input, output 3 cloest shops types, as well as its distance.  \n",
    "  \n",
    "1. **filter out** alcohol crime stops from `reasonable_df`\n",
    "2. find 3 **cloest shops** for all the data\n",
    "3. **sum up** the count for every kind of shops\n",
    "4. **eliminate the offset**: divide all the counts by the number of shops in San Diego\n",
    "5. **compare the final value** that reflect the correation between business types and alcochol crimes\n",
    "6. execute same process on **Drug data** and **fight**\n",
    "\n",
    "### 2.1 Why I do offset on step3?\n",
    "There are 2657 construction sites in San Deigo, while there are only 6 data processing center. There is no double that construction site appears more often near the crime only because they have more pin on the map.  \n",
    "This is what I want to offset. It is the type of busines that affect the crime, not the number of sites.\n",
    "\n",
    "### 2.2 How did I implemented `def closest_3_business(lon, lat)`\n",
    "It is very time consuming to get distance based on latitude and longitude because this is not Euclidean distance and both lat & lon are not strait line.  \n",
    "Based on this, I used a threshold to judge wether this point is likely to be closest point or not. This simple method works really well, ruling about 99% points out and, with the help of tuple calculaiton, pushing the speed of one iteration from **7 second** to **20 ms**"
   ]
  },
  {
   "cell_type": "code",
   "execution_count": 1,
   "metadata": {
    "ExecuteTime": {
     "end_time": "2019-06-12T09:38:52.737422Z",
     "start_time": "2019-06-12T09:38:50.339857Z"
    }
   },
   "outputs": [],
   "source": [
    "import csv\n",
    "import numpy as np\n",
    "import pandas as pd\n",
    "import matplotlib.pyplot as plt\n",
    "import seaborn as sns\n",
    "import geopy.distance\n",
    "import sklearn\n"
   ]
  },
  {
   "cell_type": "code",
   "execution_count": 2,
   "metadata": {
    "ExecuteTime": {
     "end_time": "2019-06-12T09:38:52.881936Z",
     "start_time": "2019-06-12T09:38:52.740440Z"
    }
   },
   "outputs": [],
   "source": [
    "traffic_df = pd.read_csv(\"traffic_crime.csv\")\n",
    "traffic_df = traffic_df.set_index(\"stop_id\")\n",
    "business_df = pd.read_csv(\"business_clean_df.csv\")\n",
    "reasonable_df = pd.read_csv(\"reasonable_crime.csv\")\n",
    "reasonable_df = reasonable_df.set_index(\"stop_id\")\n",
    "business_df = business_df[[\"ACTIVITY DESC\", \"lon\", \"lat\"]]"
   ]
  },
  {
   "cell_type": "code",
   "execution_count": 3,
   "metadata": {
    "ExecuteTime": {
     "end_time": "2019-06-12T09:38:52.889296Z",
     "start_time": "2019-06-12T09:38:52.884599Z"
    }
   },
   "outputs": [],
   "source": [
    "# business_reasonable_df = business_df"
   ]
  },
  {
   "cell_type": "code",
   "execution_count": 4,
   "metadata": {
    "ExecuteTime": {
     "end_time": "2019-06-12T09:38:52.897865Z",
     "start_time": "2019-06-12T09:38:52.892957Z"
    }
   },
   "outputs": [],
   "source": [
    "def getDistanceTo(lon1, lat1, lon2, lat2) :\n",
    "    coords_1 = (lat1, lon1)\n",
    "    coords_2 = (lat2, lon2)\n",
    "    return geopy.distance.vincenty(coords_1, coords_2).miles"
   ]
  },
  {
   "cell_type": "code",
   "execution_count": 5,
   "metadata": {
    "ExecuteTime": {
     "end_time": "2019-06-12T09:38:52.917472Z",
     "start_time": "2019-06-12T09:38:52.902363Z"
    }
   },
   "outputs": [],
   "source": [
    "def substitute(li, newPair):\n",
    "    for i in range(3):\n",
    "        if li[i][1] > newPair[1]:\n",
    "            li[i] = newPair\n",
    "            break\n",
    "    return li\n",
    "\n",
    "import math\n",
    "def closest_3_business(lon, lat, threshold=0.003):\n",
    "    li = [('-', 10000000), ('-', 10000000), ('-', 10000000)]\n",
    "    hit = 0\n",
    "    for row in business_df.itertuples():\n",
    "        lon2 = row[2]\n",
    "        lat2 = row[3]\n",
    "        if abs(lon - lon2) > threshold or abs(lat - lat2) > threshold:\n",
    "            continue\n",
    "        else:\n",
    "            distance = getDistanceTo(lon1=lon, lat1=lat, lon2=lon2, lat2=lat2)\n",
    "            hit += 1\n",
    "            # biggest index\n",
    "            biggest_index = 0\n",
    "            for i in range(3):\n",
    "                if li[i][1] > li[biggest_index][1]:\n",
    "                    biggest_index = i\n",
    "\n",
    "            # modify the list\n",
    "            if distance < li[biggest_index][1]:\n",
    "                li[biggest_index] = (row[1], distance)\n",
    "    \n",
    "    if ('-', 10000000) in  li:\n",
    "        return closest_3_business(lon, lat, threshold+0.1)\n",
    "                \n",
    "#     print(hit)\n",
    "    return li\n",
    "\n",
    "def insert_adapter(business1, business2, business3, distance1, distance2, distance3, target):\n",
    "    # ready to insert into dataframe\n",
    "    business1.append(target[0][0])\n",
    "    business2.append(target[1][0])\n",
    "    business3.append(target[2][0])\n",
    "    distance1.append(target[0][1])\n",
    "    distance2.append(target[1][1])\n",
    "    distance3.append(target[2][1])"
   ]
  },
  {
   "cell_type": "code",
   "execution_count": 6,
   "metadata": {
    "ExecuteTime": {
     "end_time": "2019-06-12T09:38:52.928151Z",
     "start_time": "2019-06-12T09:38:52.922244Z"
    }
   },
   "outputs": [],
   "source": [
    "# test unit. if you have problem executing func: closest_3_businesses(), check whether this block works well.\n",
    "\n",
    "# lon = reasonable_df.iat[(0,1)] #-117.07028000000001\n",
    "# lat = reasonable_df.iat[(0,2)] #32.75826\n",
    "# print(closest_3_business(lon=lon, lat=lat))\n",
    "# print(type(lon))\n",
    "# print(type(lat))\n",
    "# business_df.iat([0,1])\n",
    "# n = 10\n",
    "# for row in business_df.iterrows():\n",
    "# #     print(row[\"lon\"])\n",
    "#     print(row[1  ][\"lon\"])\n",
    "#     n -= 1\n",
    "#     if n <-0:\n",
    "#         break"
   ]
  },
  {
   "cell_type": "code",
   "execution_count": 7,
   "metadata": {
    "ExecuteTime": {
     "end_time": "2019-06-12T09:38:52.974119Z",
     "start_time": "2019-06-12T09:38:52.930860Z"
    }
   },
   "outputs": [
    {
     "data": {
      "text/html": [
       "<div>\n",
       "<style scoped>\n",
       "    .dataframe tbody tr th:only-of-type {\n",
       "        vertical-align: middle;\n",
       "    }\n",
       "\n",
       "    .dataframe tbody tr th {\n",
       "        vertical-align: top;\n",
       "    }\n",
       "\n",
       "    .dataframe thead th {\n",
       "        text-align: right;\n",
       "    }\n",
       "</style>\n",
       "<table border=\"1\" class=\"dataframe\">\n",
       "  <thead>\n",
       "    <tr style=\"text-align: right;\">\n",
       "      <th></th>\n",
       "      <th>crime_type</th>\n",
       "      <th>lon</th>\n",
       "      <th>lat</th>\n",
       "    </tr>\n",
       "  </thead>\n",
       "  <tbody>\n",
       "    <tr>\n",
       "      <th>count</th>\n",
       "      <td>32375</td>\n",
       "      <td>32375</td>\n",
       "      <td>32375</td>\n",
       "    </tr>\n",
       "    <tr>\n",
       "      <th>unique</th>\n",
       "      <td>18</td>\n",
       "      <td>6037</td>\n",
       "      <td>6257</td>\n",
       "    </tr>\n",
       "    <tr>\n",
       "      <th>top</th>\n",
       "      <td>*local ordinance violation*</td>\n",
       "      <td>-117.15366</td>\n",
       "      <td>32.706276</td>\n",
       "    </tr>\n",
       "    <tr>\n",
       "      <th>freq</th>\n",
       "      <td>4891</td>\n",
       "      <td>658</td>\n",
       "      <td>774</td>\n",
       "    </tr>\n",
       "  </tbody>\n",
       "</table>\n",
       "</div>"
      ],
      "text/plain": [
       "                         crime_type         lon        lat\n",
       "count                         32375       32375      32375\n",
       "unique                           18        6037       6257\n",
       "top     *local ordinance violation*  -117.15366  32.706276\n",
       "freq                           4891         658        774"
      ]
     },
     "execution_count": 7,
     "metadata": {},
     "output_type": "execute_result"
    }
   ],
   "source": [
    "reasonable_df.describe()"
   ]
  },
  {
   "cell_type": "code",
   "execution_count": 8,
   "metadata": {
    "ExecuteTime": {
     "end_time": "2019-06-12T09:38:52.995994Z",
     "start_time": "2019-06-12T09:38:52.979500Z"
    }
   },
   "outputs": [
    {
     "data": {
      "text/plain": [
       "*local ordinance violation*     4891\n",
       "*others*                        4148\n",
       "*trespassing*                   3675\n",
       "*alcohol*                       3303\n",
       "*lodge without consent*         3063\n",
       "*fight / battery*               2389\n",
       "*burglary / theft / robbery*    2132\n",
       "*drugs*                         1860\n",
       "*caretaking*                    1237\n",
       "*trivial*                       1123\n",
       "*spouse question*               1069\n",
       "*noise*                         1047\n",
       "*deadly weapon / terrorize*      815\n",
       "*fail to pay for transit*        659\n",
       "*vandalism*                      416\n",
       "*vehicle robbery*                392\n",
       "*prostitution*                    96\n",
       "*murder / kidnapping*             60\n",
       "Name: crime_type, dtype: int64"
      ]
     },
     "execution_count": 8,
     "metadata": {},
     "output_type": "execute_result"
    }
   ],
   "source": [
    "reasonable_df['crime_type'].value_counts()"
   ]
  },
  {
   "cell_type": "markdown",
   "metadata": {},
   "source": [
    "# Alcohol\n",
    "### get alcohol df"
   ]
  },
  {
   "cell_type": "code",
   "execution_count": 9,
   "metadata": {
    "ExecuteTime": {
     "end_time": "2019-06-12T09:38:53.014266Z",
     "start_time": "2019-06-12T09:38:52.999221Z"
    }
   },
   "outputs": [
    {
     "data": {
      "text/html": [
       "<div>\n",
       "<style scoped>\n",
       "    .dataframe tbody tr th:only-of-type {\n",
       "        vertical-align: middle;\n",
       "    }\n",
       "\n",
       "    .dataframe tbody tr th {\n",
       "        vertical-align: top;\n",
       "    }\n",
       "\n",
       "    .dataframe thead th {\n",
       "        text-align: right;\n",
       "    }\n",
       "</style>\n",
       "<table border=\"1\" class=\"dataframe\">\n",
       "  <thead>\n",
       "    <tr style=\"text-align: right;\">\n",
       "      <th></th>\n",
       "      <th>crime_type</th>\n",
       "      <th>lon</th>\n",
       "      <th>lat</th>\n",
       "    </tr>\n",
       "    <tr>\n",
       "      <th>stop_id</th>\n",
       "      <th></th>\n",
       "      <th></th>\n",
       "      <th></th>\n",
       "    </tr>\n",
       "  </thead>\n",
       "  <tbody>\n",
       "    <tr>\n",
       "      <th>2443</th>\n",
       "      <td>*alcohol*</td>\n",
       "      <td>-116.970985</td>\n",
       "      <td>32.785866</td>\n",
       "    </tr>\n",
       "    <tr>\n",
       "      <th>2451</th>\n",
       "      <td>*alcohol*</td>\n",
       "      <td>-117.253426</td>\n",
       "      <td>32.793934</td>\n",
       "    </tr>\n",
       "    <tr>\n",
       "      <th>2459</th>\n",
       "      <td>*alcohol*</td>\n",
       "      <td>-117.18236</td>\n",
       "      <td>32.69584</td>\n",
       "    </tr>\n",
       "  </tbody>\n",
       "</table>\n",
       "</div>"
      ],
      "text/plain": [
       "        crime_type          lon        lat\n",
       "stop_id                                   \n",
       "2443     *alcohol*  -116.970985  32.785866\n",
       "2451     *alcohol*  -117.253426  32.793934\n",
       "2459     *alcohol*   -117.18236   32.69584"
      ]
     },
     "execution_count": 9,
     "metadata": {},
     "output_type": "execute_result"
    }
   ],
   "source": [
    "alcohol_df = reasonable_df[reasonable_df['crime_type']=='*alcohol*']\n",
    "alcohol_df.head(3)"
   ]
  },
  {
   "cell_type": "markdown",
   "metadata": {},
   "source": [
    "### get distance data"
   ]
  },
  {
   "cell_type": "code",
   "execution_count": 10,
   "metadata": {
    "ExecuteTime": {
     "end_time": "2019-06-12T09:41:58.339439Z",
     "start_time": "2019-06-12T09:38:53.016699Z"
    }
   },
   "outputs": [
    {
     "ename": "TypeError",
     "evalue": "unsupported operand type(s) for -: 'str' and 'float'",
     "output_type": "error",
     "traceback": [
      "\u001b[0;31m---------------------------------------------------------------------------\u001b[0m",
      "\u001b[0;31mTypeError\u001b[0m                                 Traceback (most recent call last)",
      "\u001b[0;32m<ipython-input-10-1753e8a99863>\u001b[0m in \u001b[0;36m<module>\u001b[0;34m()\u001b[0m\n\u001b[1;32m      9\u001b[0m \u001b[0mtmp\u001b[0m \u001b[0;34m=\u001b[0m \u001b[0;36m0\u001b[0m\u001b[0;34m\u001b[0m\u001b[0;34m\u001b[0m\u001b[0m\n\u001b[1;32m     10\u001b[0m \u001b[0;32mfor\u001b[0m \u001b[0mrow\u001b[0m \u001b[0;32min\u001b[0m \u001b[0malcohol_df\u001b[0m\u001b[0;34m.\u001b[0m\u001b[0mitertuples\u001b[0m\u001b[0;34m(\u001b[0m\u001b[0;34m)\u001b[0m\u001b[0;34m:\u001b[0m\u001b[0;34m\u001b[0m\u001b[0;34m\u001b[0m\u001b[0m\n\u001b[0;32m---> 11\u001b[0;31m     \u001b[0mtarget\u001b[0m \u001b[0;34m=\u001b[0m \u001b[0mclosest_3_business\u001b[0m\u001b[0;34m(\u001b[0m\u001b[0mrow\u001b[0m\u001b[0;34m[\u001b[0m\u001b[0;36m2\u001b[0m\u001b[0;34m]\u001b[0m\u001b[0;34m,\u001b[0m \u001b[0mrow\u001b[0m\u001b[0;34m[\u001b[0m\u001b[0;36m3\u001b[0m\u001b[0;34m]\u001b[0m\u001b[0;34m)\u001b[0m\u001b[0;34m\u001b[0m\u001b[0;34m\u001b[0m\u001b[0m\n\u001b[0m\u001b[1;32m     12\u001b[0m     \u001b[0minsert_adapter\u001b[0m\u001b[0;34m(\u001b[0m\u001b[0mbusiness1\u001b[0m\u001b[0;34m,\u001b[0m \u001b[0mbusiness2\u001b[0m\u001b[0;34m,\u001b[0m \u001b[0mbusiness3\u001b[0m\u001b[0;34m,\u001b[0m \u001b[0mdistance1\u001b[0m\u001b[0;34m,\u001b[0m \u001b[0mdistance2\u001b[0m\u001b[0;34m,\u001b[0m \u001b[0mdistance3\u001b[0m\u001b[0;34m,\u001b[0m \u001b[0mtarget\u001b[0m\u001b[0;34m)\u001b[0m\u001b[0;34m\u001b[0m\u001b[0;34m\u001b[0m\u001b[0m\n\u001b[1;32m     13\u001b[0m     \u001b[0;32mif\u001b[0m \u001b[0mtmp\u001b[0m \u001b[0;34m%\u001b[0m \u001b[0;36m300\u001b[0m \u001b[0;34m==\u001b[0m \u001b[0;36m0\u001b[0m\u001b[0;34m:\u001b[0m\u001b[0;34m\u001b[0m\u001b[0;34m\u001b[0m\u001b[0m\n",
      "\u001b[0;32m<ipython-input-5-f43a4ac672ff>\u001b[0m in \u001b[0;36mclosest_3_business\u001b[0;34m(lon, lat, threshold)\u001b[0m\n\u001b[1;32m     13\u001b[0m         \u001b[0mlon2\u001b[0m \u001b[0;34m=\u001b[0m \u001b[0mrow\u001b[0m\u001b[0;34m[\u001b[0m\u001b[0;36m2\u001b[0m\u001b[0;34m]\u001b[0m\u001b[0;34m\u001b[0m\u001b[0;34m\u001b[0m\u001b[0m\n\u001b[1;32m     14\u001b[0m         \u001b[0mlat2\u001b[0m \u001b[0;34m=\u001b[0m \u001b[0mrow\u001b[0m\u001b[0;34m[\u001b[0m\u001b[0;36m3\u001b[0m\u001b[0;34m]\u001b[0m\u001b[0;34m\u001b[0m\u001b[0;34m\u001b[0m\u001b[0m\n\u001b[0;32m---> 15\u001b[0;31m         \u001b[0;32mif\u001b[0m \u001b[0mabs\u001b[0m\u001b[0;34m(\u001b[0m\u001b[0mlon\u001b[0m \u001b[0;34m-\u001b[0m \u001b[0mlon2\u001b[0m\u001b[0;34m)\u001b[0m \u001b[0;34m>\u001b[0m \u001b[0mthreshold\u001b[0m \u001b[0;32mor\u001b[0m \u001b[0mabs\u001b[0m\u001b[0;34m(\u001b[0m\u001b[0mlat\u001b[0m \u001b[0;34m-\u001b[0m \u001b[0mlat2\u001b[0m\u001b[0;34m)\u001b[0m \u001b[0;34m>\u001b[0m \u001b[0mthreshold\u001b[0m\u001b[0;34m:\u001b[0m\u001b[0;34m\u001b[0m\u001b[0;34m\u001b[0m\u001b[0m\n\u001b[0m\u001b[1;32m     16\u001b[0m             \u001b[0;32mcontinue\u001b[0m\u001b[0;34m\u001b[0m\u001b[0;34m\u001b[0m\u001b[0m\n\u001b[1;32m     17\u001b[0m         \u001b[0;32melse\u001b[0m\u001b[0;34m:\u001b[0m\u001b[0;34m\u001b[0m\u001b[0;34m\u001b[0m\u001b[0m\n",
      "\u001b[0;31mTypeError\u001b[0m: unsupported operand type(s) for -: 'str' and 'float'"
     ]
    }
   ],
   "source": [
    "# this block may take 3 min\n",
    "business1 = []\n",
    "business2 = []\n",
    "business3 = []\n",
    "distance1 = []\n",
    "distance2 = []\n",
    "distance3 = []\n",
    "\n",
    "tmp = 0\n",
    "for row in alcohol_df.itertuples():\n",
    "    target = closest_3_business(row[2], row[3])\n",
    "    insert_adapter(business1, business2, business3, distance1, distance2, distance3, target)\n",
    "    if tmp % 300 == 0:\n",
    "        print(tmp)\n",
    "    tmp +=1"
   ]
  },
  {
   "cell_type": "code",
   "execution_count": 11,
   "metadata": {},
   "outputs": [
    {
     "name": "stdout",
     "output_type": "stream",
     "text": [
      "3303\n"
     ]
    }
   ],
   "source": [
    "n = 0\n",
    "for row in alcohol_df.itertuples():\n",
    "    n += 1\n",
    "\n",
    "print(n)\n",
    "    "
   ]
  },
  {
   "cell_type": "code",
   "execution_count": 11,
   "metadata": {
    "ExecuteTime": {
     "end_time": "2019-06-12T09:41:58.639387Z",
     "start_time": "2019-06-12T09:41:58.341456Z"
    }
   },
   "outputs": [
    {
     "name": "stderr",
     "output_type": "stream",
     "text": [
      "/anaconda3/lib/python3.6/site-packages/ipykernel_launcher.py:1: SettingWithCopyWarning: \n",
      "A value is trying to be set on a copy of a slice from a DataFrame.\n",
      "Try using .loc[row_indexer,col_indexer] = value instead\n",
      "\n",
      "See the caveats in the documentation: http://pandas.pydata.org/pandas-docs/stable/indexing.html#indexing-view-versus-copy\n",
      "  \"\"\"Entry point for launching an IPython kernel.\n",
      "/anaconda3/lib/python3.6/site-packages/ipykernel_launcher.py:2: SettingWithCopyWarning: \n",
      "A value is trying to be set on a copy of a slice from a DataFrame.\n",
      "Try using .loc[row_indexer,col_indexer] = value instead\n",
      "\n",
      "See the caveats in the documentation: http://pandas.pydata.org/pandas-docs/stable/indexing.html#indexing-view-versus-copy\n",
      "  \n",
      "/anaconda3/lib/python3.6/site-packages/ipykernel_launcher.py:3: SettingWithCopyWarning: \n",
      "A value is trying to be set on a copy of a slice from a DataFrame.\n",
      "Try using .loc[row_indexer,col_indexer] = value instead\n",
      "\n",
      "See the caveats in the documentation: http://pandas.pydata.org/pandas-docs/stable/indexing.html#indexing-view-versus-copy\n",
      "  This is separate from the ipykernel package so we can avoid doing imports until\n",
      "/anaconda3/lib/python3.6/site-packages/ipykernel_launcher.py:4: SettingWithCopyWarning: \n",
      "A value is trying to be set on a copy of a slice from a DataFrame.\n",
      "Try using .loc[row_indexer,col_indexer] = value instead\n",
      "\n",
      "See the caveats in the documentation: http://pandas.pydata.org/pandas-docs/stable/indexing.html#indexing-view-versus-copy\n",
      "  after removing the cwd from sys.path.\n",
      "/anaconda3/lib/python3.6/site-packages/ipykernel_launcher.py:5: SettingWithCopyWarning: \n",
      "A value is trying to be set on a copy of a slice from a DataFrame.\n",
      "Try using .loc[row_indexer,col_indexer] = value instead\n",
      "\n",
      "See the caveats in the documentation: http://pandas.pydata.org/pandas-docs/stable/indexing.html#indexing-view-versus-copy\n",
      "  \"\"\"\n",
      "/anaconda3/lib/python3.6/site-packages/ipykernel_launcher.py:6: SettingWithCopyWarning: \n",
      "A value is trying to be set on a copy of a slice from a DataFrame.\n",
      "Try using .loc[row_indexer,col_indexer] = value instead\n",
      "\n",
      "See the caveats in the documentation: http://pandas.pydata.org/pandas-docs/stable/indexing.html#indexing-view-versus-copy\n",
      "  \n"
     ]
    },
    {
     "data": {
      "text/html": [
       "<div>\n",
       "<style scoped>\n",
       "    .dataframe tbody tr th:only-of-type {\n",
       "        vertical-align: middle;\n",
       "    }\n",
       "\n",
       "    .dataframe tbody tr th {\n",
       "        vertical-align: top;\n",
       "    }\n",
       "\n",
       "    .dataframe thead th {\n",
       "        text-align: right;\n",
       "    }\n",
       "</style>\n",
       "<table border=\"1\" class=\"dataframe\">\n",
       "  <thead>\n",
       "    <tr style=\"text-align: right;\">\n",
       "      <th></th>\n",
       "      <th>crime_type</th>\n",
       "      <th>lon</th>\n",
       "      <th>lat</th>\n",
       "      <th>busi_1</th>\n",
       "      <th>busi_2</th>\n",
       "      <th>busi_3</th>\n",
       "      <th>distance_1</th>\n",
       "      <th>distance_2</th>\n",
       "      <th>distance_3</th>\n",
       "    </tr>\n",
       "    <tr>\n",
       "      <th>stop_id</th>\n",
       "      <th></th>\n",
       "      <th></th>\n",
       "      <th></th>\n",
       "      <th></th>\n",
       "      <th></th>\n",
       "      <th></th>\n",
       "      <th></th>\n",
       "      <th></th>\n",
       "      <th></th>\n",
       "    </tr>\n",
       "  </thead>\n",
       "  <tbody>\n",
       "    <tr>\n",
       "      <th>2451</th>\n",
       "      <td>*alcohol*</td>\n",
       "      <td>-117.253426</td>\n",
       "      <td>32.793934</td>\n",
       "      <td>COMPUTERS</td>\n",
       "      <td>nail salons</td>\n",
       "      <td>WHOLESALE</td>\n",
       "      <td>0.017611</td>\n",
       "      <td>0.055100</td>\n",
       "      <td>0.003718</td>\n",
       "    </tr>\n",
       "    <tr>\n",
       "      <th>2459</th>\n",
       "      <td>*alcohol*</td>\n",
       "      <td>-117.182360</td>\n",
       "      <td>32.695840</td>\n",
       "      <td>ART AND PHOTOGRAPHY</td>\n",
       "      <td>FINANCE SERVICES</td>\n",
       "      <td>WHOLESALE</td>\n",
       "      <td>0.117930</td>\n",
       "      <td>0.097674</td>\n",
       "      <td>0.072525</td>\n",
       "    </tr>\n",
       "    <tr>\n",
       "      <th>2483</th>\n",
       "      <td>*alcohol*</td>\n",
       "      <td>-117.255806</td>\n",
       "      <td>32.793500</td>\n",
       "      <td>PROPERTY SERVICES</td>\n",
       "      <td>RETAILERS</td>\n",
       "      <td>FOOD SERVICES</td>\n",
       "      <td>0.049331</td>\n",
       "      <td>0.054528</td>\n",
       "      <td>0.006551</td>\n",
       "    </tr>\n",
       "    <tr>\n",
       "      <th>2485</th>\n",
       "      <td>*alcohol*</td>\n",
       "      <td>-117.009780</td>\n",
       "      <td>32.814140</td>\n",
       "      <td>COMPUTERS</td>\n",
       "      <td>services for elderly &amp; disabled persons</td>\n",
       "      <td>CONSTRUCTION</td>\n",
       "      <td>0.058403</td>\n",
       "      <td>0.005634</td>\n",
       "      <td>0.005634</td>\n",
       "    </tr>\n",
       "    <tr>\n",
       "      <th>2502</th>\n",
       "      <td>*alcohol*</td>\n",
       "      <td>-117.160150</td>\n",
       "      <td>32.712650</td>\n",
       "      <td>LEGAL</td>\n",
       "      <td>LEGAL</td>\n",
       "      <td>FOOD SERVICES</td>\n",
       "      <td>0.038387</td>\n",
       "      <td>0.034827</td>\n",
       "      <td>0.049707</td>\n",
       "    </tr>\n",
       "  </tbody>\n",
       "</table>\n",
       "</div>"
      ],
      "text/plain": [
       "        crime_type         lon        lat               busi_1  \\\n",
       "stop_id                                                          \n",
       "2451     *alcohol* -117.253426  32.793934            COMPUTERS   \n",
       "2459     *alcohol* -117.182360  32.695840  ART AND PHOTOGRAPHY   \n",
       "2483     *alcohol* -117.255806  32.793500    PROPERTY SERVICES   \n",
       "2485     *alcohol* -117.009780  32.814140            COMPUTERS   \n",
       "2502     *alcohol* -117.160150  32.712650                LEGAL   \n",
       "\n",
       "                                          busi_2         busi_3  distance_1  \\\n",
       "stop_id                                                                       \n",
       "2451                                 nail salons      WHOLESALE    0.017611   \n",
       "2459                            FINANCE SERVICES      WHOLESALE    0.117930   \n",
       "2483                                   RETAILERS  FOOD SERVICES    0.049331   \n",
       "2485     services for elderly & disabled persons   CONSTRUCTION    0.058403   \n",
       "2502                                       LEGAL  FOOD SERVICES    0.038387   \n",
       "\n",
       "         distance_2  distance_3  \n",
       "stop_id                          \n",
       "2451       0.055100    0.003718  \n",
       "2459       0.097674    0.072525  \n",
       "2483       0.054528    0.006551  \n",
       "2485       0.005634    0.005634  \n",
       "2502       0.034827    0.049707  "
      ]
     },
     "execution_count": 11,
     "metadata": {},
     "output_type": "execute_result"
    }
   ],
   "source": [
    "alcohol_df['busi_1'] = business1\n",
    "alcohol_df['busi_2'] = business2\n",
    "alcohol_df['busi_3'] = business3\n",
    "alcohol_df['distance_1'] = distance1\n",
    "alcohol_df['distance_2'] = distance2\n",
    "alcohol_df['distance_3'] = distance3\n",
    "\n",
    "alcohol_df.head(5)"
   ]
  },
  {
   "cell_type": "code",
   "execution_count": 12,
   "metadata": {
    "ExecuteTime": {
     "end_time": "2019-06-12T09:41:58.669727Z",
     "start_time": "2019-06-12T09:41:58.642445Z"
    }
   },
   "outputs": [
    {
     "data": {
      "text/html": [
       "<div>\n",
       "<style scoped>\n",
       "    .dataframe tbody tr th:only-of-type {\n",
       "        vertical-align: middle;\n",
       "    }\n",
       "\n",
       "    .dataframe tbody tr th {\n",
       "        vertical-align: top;\n",
       "    }\n",
       "\n",
       "    .dataframe thead th {\n",
       "        text-align: right;\n",
       "    }\n",
       "</style>\n",
       "<table border=\"1\" class=\"dataframe\">\n",
       "  <thead>\n",
       "    <tr style=\"text-align: right;\">\n",
       "      <th></th>\n",
       "      <th>ACTIVITY DESC</th>\n",
       "      <th>counts</th>\n",
       "    </tr>\n",
       "  </thead>\n",
       "  <tbody>\n",
       "    <tr>\n",
       "      <th>0</th>\n",
       "      <td>FOOD SERVICES</td>\n",
       "      <td>1196</td>\n",
       "    </tr>\n",
       "    <tr>\n",
       "      <th>1</th>\n",
       "      <td>RETAILERS</td>\n",
       "      <td>1145</td>\n",
       "    </tr>\n",
       "    <tr>\n",
       "      <th>2</th>\n",
       "      <td>PROPERTY SERVICES</td>\n",
       "      <td>690</td>\n",
       "    </tr>\n",
       "    <tr>\n",
       "      <th>3</th>\n",
       "      <td>SCIENCE</td>\n",
       "      <td>329</td>\n",
       "    </tr>\n",
       "    <tr>\n",
       "      <th>4</th>\n",
       "      <td>AUTOMOTIVE</td>\n",
       "      <td>328</td>\n",
       "    </tr>\n",
       "    <tr>\n",
       "      <th>5</th>\n",
       "      <td>WHOLESALE</td>\n",
       "      <td>296</td>\n",
       "    </tr>\n",
       "    <tr>\n",
       "      <th>6</th>\n",
       "      <td>janitorial services</td>\n",
       "      <td>290</td>\n",
       "    </tr>\n",
       "    <tr>\n",
       "      <th>7</th>\n",
       "      <td>other personal services</td>\n",
       "      <td>275</td>\n",
       "    </tr>\n",
       "    <tr>\n",
       "      <th>8</th>\n",
       "      <td>NON-PROFIT</td>\n",
       "      <td>235</td>\n",
       "    </tr>\n",
       "    <tr>\n",
       "      <th>9</th>\n",
       "      <td>beauty salons</td>\n",
       "      <td>210</td>\n",
       "    </tr>\n",
       "  </tbody>\n",
       "</table>\n",
       "</div>"
      ],
      "text/plain": [
       "             ACTIVITY DESC  counts\n",
       "0            FOOD SERVICES    1196\n",
       "1                RETAILERS    1145\n",
       "2        PROPERTY SERVICES     690\n",
       "3                  SCIENCE     329\n",
       "4               AUTOMOTIVE     328\n",
       "5                WHOLESALE     296\n",
       "6      janitorial services     290\n",
       "7  other personal services     275\n",
       "8               NON-PROFIT     235\n",
       "9            beauty salons     210"
      ]
     },
     "execution_count": 12,
     "metadata": {},
     "output_type": "execute_result"
    }
   ],
   "source": [
    "alcohol_near_business = pd.DataFrame()\n",
    "alcohol_near_business['ACTIVITY DESC'] = pd.Series(business1+business2+business3).value_counts().index\n",
    "alcohol_near_business['counts'] = pd.Series(business1+business2+business3).value_counts().to_list()\n",
    "alcohol_near_business[:10]"
   ]
  },
  {
   "cell_type": "markdown",
   "metadata": {},
   "source": [
    "### offset by the total number"
   ]
  },
  {
   "cell_type": "code",
   "execution_count": 13,
   "metadata": {
    "ExecuteTime": {
     "end_time": "2019-06-12T09:41:58.708550Z",
     "start_time": "2019-06-12T09:41:58.672268Z"
    }
   },
   "outputs": [
    {
     "data": {
      "text/html": [
       "<div>\n",
       "<style scoped>\n",
       "    .dataframe tbody tr th:only-of-type {\n",
       "        vertical-align: middle;\n",
       "    }\n",
       "\n",
       "    .dataframe tbody tr th {\n",
       "        vertical-align: top;\n",
       "    }\n",
       "\n",
       "    .dataframe thead th {\n",
       "        text-align: right;\n",
       "    }\n",
       "</style>\n",
       "<table border=\"1\" class=\"dataframe\">\n",
       "  <thead>\n",
       "    <tr style=\"text-align: right;\">\n",
       "      <th></th>\n",
       "      <th>0</th>\n",
       "      <th>1</th>\n",
       "      <th>2</th>\n",
       "      <th>3</th>\n",
       "      <th>4</th>\n",
       "      <th>5</th>\n",
       "      <th>6</th>\n",
       "      <th>7</th>\n",
       "      <th>8</th>\n",
       "      <th>9</th>\n",
       "    </tr>\n",
       "  </thead>\n",
       "  <tbody>\n",
       "    <tr>\n",
       "      <th>ACTIVITY DESC</th>\n",
       "      <td>CONSTRUCTION</td>\n",
       "      <td>RETAILERS</td>\n",
       "      <td>SCIENCE</td>\n",
       "      <td>PROPERTY SERVICES</td>\n",
       "      <td>FOOD SERVICES</td>\n",
       "      <td>AUTOMOTIVE</td>\n",
       "      <td>WHOLESALE</td>\n",
       "      <td>janitorial services</td>\n",
       "      <td>ART AND PHOTOGRAPHY</td>\n",
       "      <td>TRANSPORTATION</td>\n",
       "    </tr>\n",
       "    <tr>\n",
       "      <th>counts</th>\n",
       "      <td>2657</td>\n",
       "      <td>2619</td>\n",
       "      <td>2397</td>\n",
       "      <td>2273</td>\n",
       "      <td>1349</td>\n",
       "      <td>1319</td>\n",
       "      <td>1187</td>\n",
       "      <td>1122</td>\n",
       "      <td>1113</td>\n",
       "      <td>1060</td>\n",
       "    </tr>\n",
       "  </tbody>\n",
       "</table>\n",
       "</div>"
      ],
      "text/plain": [
       "                          0          1        2                  3  \\\n",
       "ACTIVITY DESC  CONSTRUCTION  RETAILERS  SCIENCE  PROPERTY SERVICES   \n",
       "counts                 2657       2619     2397               2273   \n",
       "\n",
       "                           4           5          6                    7  \\\n",
       "ACTIVITY DESC  FOOD SERVICES  AUTOMOTIVE  WHOLESALE  janitorial services   \n",
       "counts                  1349        1319       1187                 1122   \n",
       "\n",
       "                                 8               9  \n",
       "ACTIVITY DESC  ART AND PHOTOGRAPHY  TRANSPORTATION  \n",
       "counts                        1113            1060  "
      ]
     },
     "execution_count": 13,
     "metadata": {},
     "output_type": "execute_result"
    }
   ],
   "source": [
    "# business_df.value_counts()\n",
    "busi_value_counts = pd.DataFrame()\n",
    "busi_value_counts['ACTIVITY DESC'] = business_df['ACTIVITY DESC'].value_counts().index\n",
    "busi_value_counts['counts'] = business_df['ACTIVITY DESC'].value_counts().to_list()\n",
    "busi_value_counts.head(10).T"
   ]
  },
  {
   "cell_type": "code",
   "execution_count": 14,
   "metadata": {
    "ExecuteTime": {
     "end_time": "2019-06-12T09:41:58.916587Z",
     "start_time": "2019-06-12T09:41:58.712218Z"
    }
   },
   "outputs": [
    {
     "data": {
      "text/html": [
       "<div>\n",
       "<style scoped>\n",
       "    .dataframe tbody tr th:only-of-type {\n",
       "        vertical-align: middle;\n",
       "    }\n",
       "\n",
       "    .dataframe tbody tr th {\n",
       "        vertical-align: top;\n",
       "    }\n",
       "\n",
       "    .dataframe thead th {\n",
       "        text-align: right;\n",
       "    }\n",
       "</style>\n",
       "<table border=\"1\" class=\"dataframe\">\n",
       "  <thead>\n",
       "    <tr style=\"text-align: right;\">\n",
       "      <th></th>\n",
       "      <th>ACTIVITY DESC</th>\n",
       "      <th>counts</th>\n",
       "      <th>offsetted_count</th>\n",
       "    </tr>\n",
       "  </thead>\n",
       "  <tbody>\n",
       "    <tr>\n",
       "      <th>26</th>\n",
       "      <td>tire dealers</td>\n",
       "      <td>78</td>\n",
       "      <td>2.516129</td>\n",
       "    </tr>\n",
       "    <tr>\n",
       "      <th>22</th>\n",
       "      <td>parking lots &amp; garages</td>\n",
       "      <td>110</td>\n",
       "      <td>1.896552</td>\n",
       "    </tr>\n",
       "    <tr>\n",
       "      <th>40</th>\n",
       "      <td>carwashes</td>\n",
       "      <td>47</td>\n",
       "      <td>1.175000</td>\n",
       "    </tr>\n",
       "    <tr>\n",
       "      <th>63</th>\n",
       "      <td>LABS</td>\n",
       "      <td>23</td>\n",
       "      <td>0.958333</td>\n",
       "    </tr>\n",
       "    <tr>\n",
       "      <th>51</th>\n",
       "      <td>other services related to advertising</td>\n",
       "      <td>29</td>\n",
       "      <td>0.906250</td>\n",
       "    </tr>\n",
       "    <tr>\n",
       "      <th>0</th>\n",
       "      <td>FOOD SERVICES</td>\n",
       "      <td>1196</td>\n",
       "      <td>0.886583</td>\n",
       "    </tr>\n",
       "    <tr>\n",
       "      <th>28</th>\n",
       "      <td>office administrative services</td>\n",
       "      <td>74</td>\n",
       "      <td>0.654867</td>\n",
       "    </tr>\n",
       "    <tr>\n",
       "      <th>44</th>\n",
       "      <td>gasoline stations</td>\n",
       "      <td>39</td>\n",
       "      <td>0.629032</td>\n",
       "    </tr>\n",
       "    <tr>\n",
       "      <th>14</th>\n",
       "      <td>BARS</td>\n",
       "      <td>181</td>\n",
       "      <td>0.621993</td>\n",
       "    </tr>\n",
       "    <tr>\n",
       "      <th>46</th>\n",
       "      <td>administrative &amp; support services</td>\n",
       "      <td>37</td>\n",
       "      <td>0.569231</td>\n",
       "    </tr>\n",
       "  </tbody>\n",
       "</table>\n",
       "</div>"
      ],
      "text/plain": [
       "                            ACTIVITY DESC  counts  offsetted_count\n",
       "26                           tire dealers      78         2.516129\n",
       "22                 parking lots & garages     110         1.896552\n",
       "40                              carwashes      47         1.175000\n",
       "63                                   LABS      23         0.958333\n",
       "51  other services related to advertising      29         0.906250\n",
       "0                           FOOD SERVICES    1196         0.886583\n",
       "28         office administrative services      74         0.654867\n",
       "44                      gasoline stations      39         0.629032\n",
       "14                                   BARS     181         0.621993\n",
       "46      administrative & support services      37         0.569231"
      ]
     },
     "execution_count": 14,
     "metadata": {},
     "output_type": "execute_result"
    }
   ],
   "source": [
    "li = []\n",
    "for row in alcohol_near_business.itertuples():\n",
    "    busi_type = row[1]\n",
    "    near_count = row[2]\n",
    "    busi_amount = busi_value_counts[busi_value_counts['ACTIVITY DESC'] == busi_type].iloc[0,1]\n",
    "    li.append(near_count/busi_amount)\n",
    "alcohol_near_business['offsetted_count'] = li\n",
    "alcohol_near_business.sort_values(by='offsetted_count', inplace=True, ascending=False)\n",
    "alcohol_near_business = alcohol_near_business[alcohol_near_business['counts']>20]\n",
    "alcohol_near_business[:10]"
   ]
  },
  {
   "cell_type": "code",
   "execution_count": 15,
   "metadata": {
    "ExecuteTime": {
     "end_time": "2019-06-12T09:41:59.197938Z",
     "start_time": "2019-06-12T09:41:58.919413Z"
    }
   },
   "outputs": [
    {
     "data": {
      "image/png": "[encoded data removed]",
      "text/plain": [
       "<Figure size 792x360 with 1 Axes>"
      ]
     },
     "metadata": {
      "needs_background": "light"
     },
     "output_type": "display_data"
    }
   ],
   "source": [
    "numbers_shown = 10\n",
    "\n",
    "plt.figure(figsize=(11,5))\n",
    "\n",
    "plt.barh(y=[i for i in range(1,numbers_shown+1)],\n",
    "        height=0.5,\n",
    "        width=alcohol_near_business['offsetted_count'][:numbers_shown],\n",
    "        tick_label=alcohol_near_business['ACTIVITY DESC'][:numbers_shown],\n",
    "        color='pink',\n",
    "        edgecolor='blue')\n",
    "\n",
    "plt.title('Most influencial business types on ALCOHOL');"
   ]
  },
  {
   "cell_type": "markdown",
   "metadata": {},
   "source": [
    "# Drugs"
   ]
  },
  {
   "cell_type": "code",
   "execution_count": 16,
   "metadata": {
    "ExecuteTime": {
     "end_time": "2019-06-12T09:43:53.870349Z",
     "start_time": "2019-06-12T09:41:59.203538Z"
    }
   },
   "outputs": [
    {
     "name": "stderr",
     "output_type": "stream",
     "text": [
      "/anaconda3/lib/python3.6/site-packages/ipykernel_launcher.py:4: DeprecationWarning: Vincenty is deprecated and is going to be removed in geopy 2.0. Use `geopy.distance.geodesic` (or the default `geopy.distance.distance`) instead, which is more accurate and always converges.\n",
      "  after removing the cwd from sys.path.\n"
     ]
    },
    {
     "name": "stdout",
     "output_type": "stream",
     "text": [
      "0\n",
      "300\n",
      "600\n",
      "900\n",
      "1200\n",
      "1500\n",
      "1800\n"
     ]
    }
   ],
   "source": [
    "drug_df = reasonable_df[reasonable_df['crime_type'] == '*drugs*']\n",
    "# this block may take 3 min\n",
    "business1 = []\n",
    "business2 = []\n",
    "business3 = []\n",
    "distance1 = []\n",
    "distance2 = []\n",
    "distance3 = []\n",
    "\n",
    "tmp = 0\n",
    "for row in drug_df.itertuples():\n",
    "    target = closest_3_business(row[2], row[3])\n",
    "    insert_adapter(business1, business2, business3, distance1, distance2, distance3, target)\n",
    "    if tmp % 300 == 0:\n",
    "        print(tmp)\n",
    "    tmp +=1"
   ]
  },
  {
   "cell_type": "code",
   "execution_count": 17,
   "metadata": {
    "ExecuteTime": {
     "end_time": "2019-06-12T09:43:53.897671Z",
     "start_time": "2019-06-12T09:43:53.874146Z"
    }
   },
   "outputs": [
    {
     "data": {
      "text/html": [
       "<div>\n",
       "<style scoped>\n",
       "    .dataframe tbody tr th:only-of-type {\n",
       "        vertical-align: middle;\n",
       "    }\n",
       "\n",
       "    .dataframe tbody tr th {\n",
       "        vertical-align: top;\n",
       "    }\n",
       "\n",
       "    .dataframe thead th {\n",
       "        text-align: right;\n",
       "    }\n",
       "</style>\n",
       "<table border=\"1\" class=\"dataframe\">\n",
       "  <thead>\n",
       "    <tr style=\"text-align: right;\">\n",
       "      <th></th>\n",
       "      <th>ACTIVITY DESC</th>\n",
       "      <th>counts</th>\n",
       "    </tr>\n",
       "  </thead>\n",
       "  <tbody>\n",
       "    <tr>\n",
       "      <th>0</th>\n",
       "      <td>RETAILERS</td>\n",
       "      <td>571</td>\n",
       "    </tr>\n",
       "    <tr>\n",
       "      <th>1</th>\n",
       "      <td>FOOD SERVICES</td>\n",
       "      <td>368</td>\n",
       "    </tr>\n",
       "    <tr>\n",
       "      <th>2</th>\n",
       "      <td>PROPERTY SERVICES</td>\n",
       "      <td>295</td>\n",
       "    </tr>\n",
       "    <tr>\n",
       "      <th>3</th>\n",
       "      <td>AUTOMOTIVE</td>\n",
       "      <td>238</td>\n",
       "    </tr>\n",
       "    <tr>\n",
       "      <th>4</th>\n",
       "      <td>SCIENCE</td>\n",
       "      <td>208</td>\n",
       "    </tr>\n",
       "  </tbody>\n",
       "</table>\n",
       "</div>"
      ],
      "text/plain": [
       "       ACTIVITY DESC  counts\n",
       "0          RETAILERS     571\n",
       "1      FOOD SERVICES     368\n",
       "2  PROPERTY SERVICES     295\n",
       "3         AUTOMOTIVE     238\n",
       "4            SCIENCE     208"
      ]
     },
     "execution_count": 17,
     "metadata": {},
     "output_type": "execute_result"
    }
   ],
   "source": [
    "drug_business_total = pd.DataFrame()\n",
    "drug_business_total['ACTIVITY DESC'] = pd.Series(business1 + business2 + business3).value_counts().index\n",
    "drug_business_total['counts'] = pd.Series(business1 + business2 + business3).value_counts().to_list()\n",
    "drug_business_total[:5]"
   ]
  },
  {
   "cell_type": "code",
   "execution_count": 18,
   "metadata": {
    "ExecuteTime": {
     "end_time": "2019-06-12T09:43:54.099869Z",
     "start_time": "2019-06-12T09:43:53.902323Z"
    }
   },
   "outputs": [
    {
     "data": {
      "text/html": [
       "<div>\n",
       "<style scoped>\n",
       "    .dataframe tbody tr th:only-of-type {\n",
       "        vertical-align: middle;\n",
       "    }\n",
       "\n",
       "    .dataframe tbody tr th {\n",
       "        vertical-align: top;\n",
       "    }\n",
       "\n",
       "    .dataframe thead th {\n",
       "        text-align: right;\n",
       "    }\n",
       "</style>\n",
       "<table border=\"1\" class=\"dataframe\">\n",
       "  <thead>\n",
       "    <tr style=\"text-align: right;\">\n",
       "      <th></th>\n",
       "      <th>ACTIVITY DESC</th>\n",
       "      <th>counts</th>\n",
       "      <th>offsetted_count</th>\n",
       "    </tr>\n",
       "  </thead>\n",
       "  <tbody>\n",
       "    <tr>\n",
       "      <th>44</th>\n",
       "      <td>other services related to advertising</td>\n",
       "      <td>27</td>\n",
       "      <td>0.843750</td>\n",
       "    </tr>\n",
       "    <tr>\n",
       "      <th>39</th>\n",
       "      <td>parking lots &amp; garages</td>\n",
       "      <td>30</td>\n",
       "      <td>0.517241</td>\n",
       "    </tr>\n",
       "    <tr>\n",
       "      <th>37</th>\n",
       "      <td>gasoline stations</td>\n",
       "      <td>31</td>\n",
       "      <td>0.500000</td>\n",
       "    </tr>\n",
       "    <tr>\n",
       "      <th>13</th>\n",
       "      <td>BARS</td>\n",
       "      <td>116</td>\n",
       "      <td>0.398625</td>\n",
       "    </tr>\n",
       "    <tr>\n",
       "      <th>42</th>\n",
       "      <td>personal care services</td>\n",
       "      <td>28</td>\n",
       "      <td>0.318182</td>\n",
       "    </tr>\n",
       "    <tr>\n",
       "      <th>6</th>\n",
       "      <td>NON-PROFIT</td>\n",
       "      <td>173</td>\n",
       "      <td>0.316850</td>\n",
       "    </tr>\n",
       "    <tr>\n",
       "      <th>17</th>\n",
       "      <td>limited-service eating places</td>\n",
       "      <td>82</td>\n",
       "      <td>0.297101</td>\n",
       "    </tr>\n",
       "    <tr>\n",
       "      <th>34</th>\n",
       "      <td>FURNITURE</td>\n",
       "      <td>34</td>\n",
       "      <td>0.293103</td>\n",
       "    </tr>\n",
       "    <tr>\n",
       "      <th>1</th>\n",
       "      <td>FOOD SERVICES</td>\n",
       "      <td>368</td>\n",
       "      <td>0.272795</td>\n",
       "    </tr>\n",
       "    <tr>\n",
       "      <th>48</th>\n",
       "      <td>TRAVEL</td>\n",
       "      <td>25</td>\n",
       "      <td>0.265957</td>\n",
       "    </tr>\n",
       "  </tbody>\n",
       "</table>\n",
       "</div>"
      ],
      "text/plain": [
       "                            ACTIVITY DESC  counts  offsetted_count\n",
       "44  other services related to advertising      27         0.843750\n",
       "39                 parking lots & garages      30         0.517241\n",
       "37                      gasoline stations      31         0.500000\n",
       "13                                   BARS     116         0.398625\n",
       "42                 personal care services      28         0.318182\n",
       "6                              NON-PROFIT     173         0.316850\n",
       "17          limited-service eating places      82         0.297101\n",
       "34                              FURNITURE      34         0.293103\n",
       "1                           FOOD SERVICES     368         0.272795\n",
       "48                                 TRAVEL      25         0.265957"
      ]
     },
     "execution_count": 18,
     "metadata": {},
     "output_type": "execute_result"
    }
   ],
   "source": [
    "li = []\n",
    "for row in drug_business_total.itertuples():\n",
    "    busi_type = row[1]\n",
    "    near_count = row[2]\n",
    "    busi_amount = busi_value_counts[busi_value_counts['ACTIVITY DESC'] == busi_type].iloc[0,1]\n",
    "    li.append(near_count/busi_amount)\n",
    "drug_business_total['offsetted_count'] = li\n",
    "drug_business_total.sort_values(by='offsetted_count', inplace=True, ascending=False)\n",
    "drug_business_total = drug_business_total[drug_business_total['counts']>20]\n",
    "drug_business_total[:10]"
   ]
  },
  {
   "cell_type": "code",
   "execution_count": 19,
   "metadata": {
    "ExecuteTime": {
     "end_time": "2019-06-12T09:43:54.355700Z",
     "start_time": "2019-06-12T09:43:54.102716Z"
    }
   },
   "outputs": [
    {
     "data": {
      "image/png": "[encoded data removed]",
      "text/plain": [
       "<Figure size 792x360 with 1 Axes>"
      ]
     },
     "metadata": {
      "needs_background": "light"
     },
     "output_type": "display_data"
    }
   ],
   "source": [
    "numbers_shown = 10\n",
    "\n",
    "plt.figure(figsize=(11,5))\n",
    "\n",
    "plt.barh(y=[i for i in range(1,numbers_shown+1)],\n",
    "        height=0.5,\n",
    "        width=drug_business_total['offsetted_count'][:numbers_shown],\n",
    "        tick_label=drug_business_total['ACTIVITY DESC'][:numbers_shown],\n",
    "        color='cyan',\n",
    "        edgecolor='blue');\n",
    "\n",
    "plt.title('Most influencial business types on DRUGS');"
   ]
  },
  {
   "cell_type": "markdown",
   "metadata": {},
   "source": [
    "# Fight / battery"
   ]
  },
  {
   "cell_type": "code",
   "execution_count": 20,
   "metadata": {
    "ExecuteTime": {
     "end_time": "2019-06-12T09:46:27.654986Z",
     "start_time": "2019-06-12T09:43:54.360205Z"
    }
   },
   "outputs": [
    {
     "name": "stderr",
     "output_type": "stream",
     "text": [
      "/anaconda3/lib/python3.6/site-packages/ipykernel_launcher.py:4: DeprecationWarning: Vincenty is deprecated and is going to be removed in geopy 2.0. Use `geopy.distance.geodesic` (or the default `geopy.distance.distance`) instead, which is more accurate and always converges.\n",
      "  after removing the cwd from sys.path.\n"
     ]
    },
    {
     "name": "stdout",
     "output_type": "stream",
     "text": [
      "0\n",
      "300\n",
      "600\n",
      "900\n",
      "1200\n",
      "1500\n",
      "1800\n",
      "2100\n"
     ]
    }
   ],
   "source": [
    "fight_df = reasonable_df[reasonable_df['crime_type'] == '*fight / battery*']\n",
    "# this block may take 3 min\n",
    "business1 = []\n",
    "business2 = []\n",
    "business3 = []\n",
    "distance1 = []\n",
    "distance2 = []\n",
    "distance3 = []\n",
    "\n",
    "tmp = 0\n",
    "for row in fight_df.itertuples():\n",
    "    target = closest_3_business(row[2], row[3])\n",
    "    insert_adapter(business1, business2, business3, distance1, distance2, distance3, target)\n",
    "    if tmp % 300 == 0:\n",
    "        print(tmp)\n",
    "    tmp +=1"
   ]
  },
  {
   "cell_type": "code",
   "execution_count": 21,
   "metadata": {
    "ExecuteTime": {
     "end_time": "2019-06-12T09:46:27.680442Z",
     "start_time": "2019-06-12T09:46:27.657028Z"
    }
   },
   "outputs": [
    {
     "data": {
      "text/html": [
       "<div>\n",
       "<style scoped>\n",
       "    .dataframe tbody tr th:only-of-type {\n",
       "        vertical-align: middle;\n",
       "    }\n",
       "\n",
       "    .dataframe tbody tr th {\n",
       "        vertical-align: top;\n",
       "    }\n",
       "\n",
       "    .dataframe thead th {\n",
       "        text-align: right;\n",
       "    }\n",
       "</style>\n",
       "<table border=\"1\" class=\"dataframe\">\n",
       "  <thead>\n",
       "    <tr style=\"text-align: right;\">\n",
       "      <th></th>\n",
       "      <th>ACTIVITY DESC</th>\n",
       "      <th>counts</th>\n",
       "    </tr>\n",
       "  </thead>\n",
       "  <tbody>\n",
       "    <tr>\n",
       "      <th>0</th>\n",
       "      <td>RETAILERS</td>\n",
       "      <td>637</td>\n",
       "    </tr>\n",
       "    <tr>\n",
       "      <th>1</th>\n",
       "      <td>FOOD SERVICES</td>\n",
       "      <td>616</td>\n",
       "    </tr>\n",
       "    <tr>\n",
       "      <th>2</th>\n",
       "      <td>PROPERTY SERVICES</td>\n",
       "      <td>356</td>\n",
       "    </tr>\n",
       "    <tr>\n",
       "      <th>3</th>\n",
       "      <td>janitorial services</td>\n",
       "      <td>315</td>\n",
       "    </tr>\n",
       "    <tr>\n",
       "      <th>4</th>\n",
       "      <td>AUTOMOTIVE</td>\n",
       "      <td>250</td>\n",
       "    </tr>\n",
       "  </tbody>\n",
       "</table>\n",
       "</div>"
      ],
      "text/plain": [
       "         ACTIVITY DESC  counts\n",
       "0            RETAILERS     637\n",
       "1        FOOD SERVICES     616\n",
       "2    PROPERTY SERVICES     356\n",
       "3  janitorial services     315\n",
       "4           AUTOMOTIVE     250"
      ]
     },
     "execution_count": 21,
     "metadata": {},
     "output_type": "execute_result"
    }
   ],
   "source": [
    "fight_business_total = pd.DataFrame()\n",
    "fight_business_total['ACTIVITY DESC'] = pd.Series(business1 + business2 + business3).value_counts().index\n",
    "fight_business_total['counts'] = pd.Series(business1 + business2 + business3).value_counts().to_list()\n",
    "fight_business_total[:5]"
   ]
  },
  {
   "cell_type": "code",
   "execution_count": 22,
   "metadata": {
    "ExecuteTime": {
     "end_time": "2019-06-12T09:46:28.101917Z",
     "start_time": "2019-06-12T09:46:27.683434Z"
    }
   },
   "outputs": [
    {
     "data": {
      "text/html": [
       "<div>\n",
       "<style scoped>\n",
       "    .dataframe tbody tr th:only-of-type {\n",
       "        vertical-align: middle;\n",
       "    }\n",
       "\n",
       "    .dataframe tbody tr th {\n",
       "        vertical-align: top;\n",
       "    }\n",
       "\n",
       "    .dataframe thead th {\n",
       "        text-align: right;\n",
       "    }\n",
       "</style>\n",
       "<table border=\"1\" class=\"dataframe\">\n",
       "  <thead>\n",
       "    <tr style=\"text-align: right;\">\n",
       "      <th></th>\n",
       "      <th>ACTIVITY DESC</th>\n",
       "      <th>counts</th>\n",
       "      <th>offsetted_count</th>\n",
       "    </tr>\n",
       "  </thead>\n",
       "  <tbody>\n",
       "    <tr>\n",
       "      <th>48</th>\n",
       "      <td>hotels (exc casino hotels) &amp; motels</td>\n",
       "      <td>33</td>\n",
       "      <td>3.000000</td>\n",
       "    </tr>\n",
       "    <tr>\n",
       "      <th>32</th>\n",
       "      <td>gasoline stations</td>\n",
       "      <td>49</td>\n",
       "      <td>0.790323</td>\n",
       "    </tr>\n",
       "    <tr>\n",
       "      <th>57</th>\n",
       "      <td>pedi-cab (individual)</td>\n",
       "      <td>25</td>\n",
       "      <td>0.735294</td>\n",
       "    </tr>\n",
       "    <tr>\n",
       "      <th>40</th>\n",
       "      <td>parking lots &amp; garages</td>\n",
       "      <td>38</td>\n",
       "      <td>0.655172</td>\n",
       "    </tr>\n",
       "    <tr>\n",
       "      <th>1</th>\n",
       "      <td>FOOD SERVICES</td>\n",
       "      <td>616</td>\n",
       "      <td>0.456635</td>\n",
       "    </tr>\n",
       "    <tr>\n",
       "      <th>15</th>\n",
       "      <td>BARS</td>\n",
       "      <td>122</td>\n",
       "      <td>0.419244</td>\n",
       "    </tr>\n",
       "    <tr>\n",
       "      <th>42</th>\n",
       "      <td>personal care services</td>\n",
       "      <td>35</td>\n",
       "      <td>0.397727</td>\n",
       "    </tr>\n",
       "    <tr>\n",
       "      <th>25</th>\n",
       "      <td>hair, nail &amp; skin care services</td>\n",
       "      <td>60</td>\n",
       "      <td>0.344828</td>\n",
       "    </tr>\n",
       "    <tr>\n",
       "      <th>20</th>\n",
       "      <td>CLOTHING</td>\n",
       "      <td>91</td>\n",
       "      <td>0.333333</td>\n",
       "    </tr>\n",
       "    <tr>\n",
       "      <th>65</th>\n",
       "      <td>administrative &amp; support services</td>\n",
       "      <td>21</td>\n",
       "      <td>0.323077</td>\n",
       "    </tr>\n",
       "  </tbody>\n",
       "</table>\n",
       "</div>"
      ],
      "text/plain": [
       "                          ACTIVITY DESC  counts  offsetted_count\n",
       "48  hotels (exc casino hotels) & motels      33         3.000000\n",
       "32                    gasoline stations      49         0.790323\n",
       "57                pedi-cab (individual)      25         0.735294\n",
       "40               parking lots & garages      38         0.655172\n",
       "1                         FOOD SERVICES     616         0.456635\n",
       "15                                 BARS     122         0.419244\n",
       "42               personal care services      35         0.397727\n",
       "25      hair, nail & skin care services      60         0.344828\n",
       "20                             CLOTHING      91         0.333333\n",
       "65    administrative & support services      21         0.323077"
      ]
     },
     "execution_count": 22,
     "metadata": {},
     "output_type": "execute_result"
    }
   ],
   "source": [
    "li = []\n",
    "for row in fight_business_total.itertuples():\n",
    "    busi_type = row[1]\n",
    "    near_count = row[2]\n",
    "    busi_amount = busi_value_counts[busi_value_counts['ACTIVITY DESC'] == busi_type].iloc[0,1]\n",
    "    li.append(near_count/busi_amount)\n",
    "fight_business_total['offsetted_count'] = li\n",
    "fight_business_total.sort_values(by='offsetted_count', inplace=True, ascending=False)\n",
    "fight_business_total = fight_business_total[fight_business_total['counts']>20]\n",
    "fight_business_total[:10]"
   ]
  },
  {
   "cell_type": "code",
   "execution_count": 23,
   "metadata": {
    "ExecuteTime": {
     "end_time": "2019-06-12T09:46:28.564476Z",
     "start_time": "2019-06-12T09:46:28.115748Z"
    }
   },
   "outputs": [
    {
     "data": {
      "image/png": "[encoded data removed]",
      "text/plain": [
       "<Figure size 792x360 with 1 Axes>"
      ]
     },
     "metadata": {
      "needs_background": "light"
     },
     "output_type": "display_data"
    }
   ],
   "source": [
    "numbers_shown = 10\n",
    "\n",
    "plt.figure(figsize=(11,5))\n",
    "\n",
    "plt.barh(y=[i for i in range(1,numbers_shown+1)],\n",
    "        height=0.5,\n",
    "        width=fight_business_total['offsetted_count'][:numbers_shown],\n",
    "        tick_label=fight_business_total['ACTIVITY DESC'][:numbers_shown],\n",
    "        color='yellow',\n",
    "        edgecolor='blue');\n",
    "\n",
    "plt.title('Most influencial business types on fight / battery');"
   ]
  },
  {
   "cell_type": "code",
   "execution_count": null,
   "metadata": {},
   "outputs": [],
   "source": []
  }
 ],
 "metadata": {
  "kernelspec": {
   "display_name": "Python 3",
   "language": "python",
   "name": "python3"
  },
  "language_info": {
   "codemirror_mode": {
    "name": "ipython",
    "version": 3
   },
   "file_extension": ".py",
   "mimetype": "text/x-python",
   "name": "python",
   "nbconvert_exporter": "python",
   "pygments_lexer": "ipython3",
   "version": "3.6.7"
  },
  "varInspector": {
   "cols": {
    "lenName": 16,
    "lenType": 16,
    "lenVar": 40
   },
   "kernels_config": {
    "python": {
     "delete_cmd_postfix": "",
     "delete_cmd_prefix": "del ",
     "library": "var_list.py",
     "varRefreshCmd": "print(var_dic_list())"
    },
    "r": {
     "delete_cmd_postfix": ") ",
     "delete_cmd_prefix": "rm(",
     "library": "var_list.r",
     "varRefreshCmd": "cat(var_dic_list()) "
    }
   },
   "position": {
    "height": "415px",
    "left": "999px",
    "right": "20px",
    "top": "95px",
    "width": "267px"
   },
   "types_to_exclude": [
    "module",
    "function",
    "builtin_function_or_method",
    "instance",
    "_Feature"
   ],
   "window_display": false
  }
 },
 "nbformat": 4,
 "nbformat_minor": 2
}
