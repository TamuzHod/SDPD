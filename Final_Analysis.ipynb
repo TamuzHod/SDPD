{
 "cells": [
  {
   "cell_type": "code",
   "execution_count": null,
   "metadata": {},
   "outputs": [],
   "source": [
    "import csv\n",
    "import numpy as np\n",
    "import pandas as pd\n",
    "import matplotlib.pyplot as plt\n",
    "import seaborn as sns\n",
    "import geopy.distance\n",
    "import math\n"
   ]
  },
  {
   "cell_type": "code",
   "execution_count": null,
   "metadata": {},
   "outputs": [],
   "source": [
    "traffic_df = pd.read_csv(\"traffic_crime.csv\")\n",
    "traffic_df = traffic_df.set_index(\"stop_id\")\n",
    "\n",
    "business_df = pd.read_csv(\"business_reasonable_df.csv\")\n",
    "\n",
    "reasonable_df = pd.read_csv(\"reasonable_crime.csv\")\n",
    "reasonable_df = reasonable_df.set_index(\"stop_id\")\n",
    "\n",
    "\n",
    "reasonable_df.drop_duplicates(keep=\"first\",inplace=True) \n",
    "traffic_df.drop_duplicates(keep=\"first\",inplace=True) \n"
   ]
  },
  {
   "cell_type": "code",
   "execution_count": null,
   "metadata": {},
   "outputs": [],
   "source": [
    "traffic_df.head()"
   ]
  },
  {
   "cell_type": "code",
   "execution_count": null,
   "metadata": {},
   "outputs": [],
   "source": [
    "reasonable_df"
   ]
  },
  {
   "cell_type": "code",
   "execution_count": null,
   "metadata": {},
   "outputs": [],
   "source": [
    "business_df = business_df.loc[:, ~business_df.columns.str.contains('^Unnamed')]\n",
    "\n",
    "business_df.shape"
   ]
  },
  {
   "cell_type": "code",
   "execution_count": 9,
   "metadata": {},
   "outputs": [],
   "source": [
    "business_reasonable_df = business_df\n",
    "\n"
   ]
  },
  {
   "cell_type": "code",
   "execution_count": 10,
   "metadata": {},
   "outputs": [],
   "source": [
    "\n",
    "def getDistanceTo_reasonable(row,lat0,lon0) :\n",
    "    deglen = 110.25\n",
    "    x = row[\"lat\"] - lat0\n",
    "    y = (row[\"lon\"] - lon0) * math.cos(lat0)\n",
    "    return deglen * math.sqrt(x*x + y*y)"
   ]
  },
  {
   "cell_type": "code",
   "execution_count": null,
   "metadata": {},
   "outputs": [],
   "source": [
    "\n"
   ]
  },
  {
   "cell_type": "code",
   "execution_count": null,
   "metadata": {},
   "outputs": [
    {
     "name": "stdout",
     "output_type": "stream",
     "text": [
      "24\n"
     ]
    }
   ],
   "source": [
    "binNum = 500\n",
    "binSize = int(len(business_reasonable_df)/binNum)\n",
    "\n",
    "for i in range(24,binNum) :\n",
    "    n=0\n",
    "    print(i)\n",
    "    for row in reasonable_df.itertuples() :\n",
    "        n=n+1\n",
    "        if(n<i*binSize):\n",
    "            continue \n",
    "        if(n>=(i+1)*binSize) :\n",
    "            break\n",
    "        try :\n",
    "            business_reasonable_df[row[0]] = business_reasonable_df.apply(getDistanceTo_reasonable,axis=1,args=(row[3],row[2],))\n",
    "        except :\n",
    "            print(row[0], \"Did not work\")\n",
    "    business_df_csv = business_reasonable_df.to_csv (r'business_reasonable_df.csv', header=True) #Don't forget to add '.csv' at the end of the path\n"
   ]
  },
  {
   "cell_type": "code",
   "execution_count": null,
   "metadata": {},
   "outputs": [],
   "source": []
  },
  {
   "cell_type": "code",
   "execution_count": null,
   "metadata": {},
   "outputs": [],
   "source": [
    "\n"
   ]
  },
  {
   "cell_type": "code",
   "execution_count": null,
   "metadata": {},
   "outputs": [],
   "source": [
    "\n"
   ]
  },
  {
   "cell_type": "code",
   "execution_count": null,
   "metadata": {},
   "outputs": [],
   "source": []
  },
  {
   "cell_type": "code",
   "execution_count": null,
   "metadata": {},
   "outputs": [],
   "source": []
  },
  {
   "cell_type": "code",
   "execution_count": null,
   "metadata": {},
   "outputs": [],
   "source": []
  },
  {
   "cell_type": "code",
   "execution_count": null,
   "metadata": {},
   "outputs": [],
   "source": []
  }
 ],
 "metadata": {
  "kernelspec": {
   "display_name": "Python 3",
   "language": "python",
   "name": "python3"
  },
  "language_info": {
   "codemirror_mode": {
    "name": "ipython",
    "version": 3
   },
   "file_extension": ".py",
   "mimetype": "text/x-python",
   "name": "python",
   "nbconvert_exporter": "python",
   "pygments_lexer": "ipython3",
   "version": "3.6.7"
  }
 },
 "nbformat": 4,
 "nbformat_minor": 2
}
