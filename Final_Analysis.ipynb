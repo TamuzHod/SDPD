{
 "cells": [
  {
   "cell_type": "code",
   "execution_count": 2,
   "metadata": {},
   "outputs": [],
   "source": [
    "import csv\n",
    "import numpy as np\n",
    "import pandas as pd\n",
    "import matplotlib.pyplot as plt\n",
    "import seaborn as sns\n",
    "import geopy.distance\n"
   ]
  },
  {
   "cell_type": "code",
   "execution_count": 3,
   "metadata": {},
   "outputs": [],
   "source": [
    "traffic_df = pd.read_csv(\"traffic_crime.csv\")\n",
    "traffic_df = traffic_df.set_index(\"stop_id\")\n",
    "\n",
    "business_df = pd.read_csv(\"business_df.csv\")\n",
    "\n",
    "reasonable_df = pd.read_csv(\"reasonable_crime.csv\")\n",
    "reasonable_df = reasonable_df.set_index(\"stop_id\")\n",
    "\n",
    "\n",
    "reasonable_df.drop_duplicates(keep=False,inplace=True) \n",
    "traffic_df.drop_duplicates(keep=False,inplace=True) \n"
   ]
  },
  {
   "cell_type": "code",
   "execution_count": 4,
   "metadata": {},
   "outputs": [
    {
     "data": {
      "text/html": [
       "<div>\n",
       "<style scoped>\n",
       "    .dataframe tbody tr th:only-of-type {\n",
       "        vertical-align: middle;\n",
       "    }\n",
       "\n",
       "    .dataframe tbody tr th {\n",
       "        vertical-align: top;\n",
       "    }\n",
       "\n",
       "    .dataframe thead th {\n",
       "        text-align: right;\n",
       "    }\n",
       "</style>\n",
       "<table border=\"1\" class=\"dataframe\">\n",
       "  <thead>\n",
       "    <tr style=\"text-align: right;\">\n",
       "      <th></th>\n",
       "      <th>crime_type</th>\n",
       "      <th>lon</th>\n",
       "      <th>lat</th>\n",
       "    </tr>\n",
       "    <tr>\n",
       "      <th>stop_id</th>\n",
       "      <th></th>\n",
       "      <th></th>\n",
       "      <th></th>\n",
       "    </tr>\n",
       "  </thead>\n",
       "  <tbody>\n",
       "    <tr>\n",
       "      <th>2448</th>\n",
       "      <td>*unsafe movement*</td>\n",
       "      <td>-117.248460</td>\n",
       "      <td>32.743970</td>\n",
       "    </tr>\n",
       "    <tr>\n",
       "      <th>2454</th>\n",
       "      <td>*others*</td>\n",
       "      <td>-117.090126</td>\n",
       "      <td>32.751472</td>\n",
       "    </tr>\n",
       "    <tr>\n",
       "      <th>2457</th>\n",
       "      <td>*bike*</td>\n",
       "      <td>-117.092220</td>\n",
       "      <td>32.755030</td>\n",
       "    </tr>\n",
       "    <tr>\n",
       "      <th>2458</th>\n",
       "      <td>*bike*</td>\n",
       "      <td>-117.276380</td>\n",
       "      <td>32.831173</td>\n",
       "    </tr>\n",
       "    <tr>\n",
       "      <th>2469</th>\n",
       "      <td>*red light*</td>\n",
       "      <td>-117.254770</td>\n",
       "      <td>32.794710</td>\n",
       "    </tr>\n",
       "  </tbody>\n",
       "</table>\n",
       "</div>"
      ],
      "text/plain": [
       "                crime_type         lon        lat\n",
       "stop_id                                          \n",
       "2448     *unsafe movement* -117.248460  32.743970\n",
       "2454              *others* -117.090126  32.751472\n",
       "2457                *bike* -117.092220  32.755030\n",
       "2458                *bike* -117.276380  32.831173\n",
       "2469           *red light* -117.254770  32.794710"
      ]
     },
     "execution_count": 4,
     "metadata": {},
     "output_type": "execute_result"
    }
   ],
   "source": [
    "traffic_df.head()"
   ]
  },
  {
   "cell_type": "code",
   "execution_count": 5,
   "metadata": {},
   "outputs": [
    {
     "data": {
      "text/html": [
       "<div>\n",
       "<style scoped>\n",
       "    .dataframe tbody tr th:only-of-type {\n",
       "        vertical-align: middle;\n",
       "    }\n",
       "\n",
       "    .dataframe tbody tr th {\n",
       "        vertical-align: top;\n",
       "    }\n",
       "\n",
       "    .dataframe thead th {\n",
       "        text-align: right;\n",
       "    }\n",
       "</style>\n",
       "<table border=\"1\" class=\"dataframe\">\n",
       "  <thead>\n",
       "    <tr style=\"text-align: right;\">\n",
       "      <th></th>\n",
       "      <th>crime_type</th>\n",
       "      <th>lon</th>\n",
       "      <th>lat</th>\n",
       "    </tr>\n",
       "    <tr>\n",
       "      <th>stop_id</th>\n",
       "      <th></th>\n",
       "      <th></th>\n",
       "      <th></th>\n",
       "    </tr>\n",
       "  </thead>\n",
       "  <tbody>\n",
       "    <tr>\n",
       "      <th>2455</th>\n",
       "      <td>*fight / battery*</td>\n",
       "      <td>-117.249580</td>\n",
       "      <td>32.796883</td>\n",
       "    </tr>\n",
       "    <tr>\n",
       "      <th>2471</th>\n",
       "      <td>*spouse question*</td>\n",
       "      <td>-117.104454</td>\n",
       "      <td>32.745910</td>\n",
       "    </tr>\n",
       "    <tr>\n",
       "      <th>2481</th>\n",
       "      <td>*others*</td>\n",
       "      <td>-116.986130</td>\n",
       "      <td>32.567997</td>\n",
       "    </tr>\n",
       "    <tr>\n",
       "      <th>2485</th>\n",
       "      <td>*alcohol*</td>\n",
       "      <td>-117.009780</td>\n",
       "      <td>32.814140</td>\n",
       "    </tr>\n",
       "    <tr>\n",
       "      <th>2486</th>\n",
       "      <td>*spouse question*</td>\n",
       "      <td>-117.051865</td>\n",
       "      <td>32.582962</td>\n",
       "    </tr>\n",
       "  </tbody>\n",
       "</table>\n",
       "</div>"
      ],
      "text/plain": [
       "                crime_type         lon        lat\n",
       "stop_id                                          \n",
       "2455     *fight / battery* -117.249580  32.796883\n",
       "2471     *spouse question* -117.104454  32.745910\n",
       "2481              *others* -116.986130  32.567997\n",
       "2485             *alcohol* -117.009780  32.814140\n",
       "2486     *spouse question* -117.051865  32.582962"
      ]
     },
     "execution_count": 5,
     "metadata": {},
     "output_type": "execute_result"
    }
   ],
   "source": [
    "reasonable_df.head()"
   ]
  },
  {
   "cell_type": "code",
   "execution_count": 6,
   "metadata": {},
   "outputs": [
    {
     "data": {
      "text/html": [
       "<div>\n",
       "<style scoped>\n",
       "    .dataframe tbody tr th:only-of-type {\n",
       "        vertical-align: middle;\n",
       "    }\n",
       "\n",
       "    .dataframe tbody tr th {\n",
       "        vertical-align: top;\n",
       "    }\n",
       "\n",
       "    .dataframe thead th {\n",
       "        text-align: right;\n",
       "    }\n",
       "</style>\n",
       "<table border=\"1\" class=\"dataframe\">\n",
       "  <thead>\n",
       "    <tr style=\"text-align: right;\">\n",
       "      <th></th>\n",
       "      <th>ACTIVITY DESC</th>\n",
       "      <th>lon</th>\n",
       "      <th>lat</th>\n",
       "    </tr>\n",
       "  </thead>\n",
       "  <tbody>\n",
       "    <tr>\n",
       "      <th>0</th>\n",
       "      <td>INFORMATION SERVICES</td>\n",
       "      <td>-117.073740</td>\n",
       "      <td>32.704464</td>\n",
       "    </tr>\n",
       "    <tr>\n",
       "      <th>1</th>\n",
       "      <td>ALL OTHER HEALTH &amp; PERSONAL CARE STORES</td>\n",
       "      <td>-117.101830</td>\n",
       "      <td>32.737766</td>\n",
       "    </tr>\n",
       "    <tr>\n",
       "      <th>2</th>\n",
       "      <td>REAL ESTATE</td>\n",
       "      <td>-117.149460</td>\n",
       "      <td>32.749218</td>\n",
       "    </tr>\n",
       "    <tr>\n",
       "      <th>3</th>\n",
       "      <td>OTHER INDIVIDUAL &amp; FAMILY SERVICES</td>\n",
       "      <td>-117.089806</td>\n",
       "      <td>32.738430</td>\n",
       "    </tr>\n",
       "    <tr>\n",
       "      <th>4</th>\n",
       "      <td>INVESTIGATION SERVICES</td>\n",
       "      <td>-117.116520</td>\n",
       "      <td>32.809334</td>\n",
       "    </tr>\n",
       "  </tbody>\n",
       "</table>\n",
       "</div>"
      ],
      "text/plain": [
       "                             ACTIVITY DESC         lon        lat\n",
       "0                     INFORMATION SERVICES -117.073740  32.704464\n",
       "1  ALL OTHER HEALTH & PERSONAL CARE STORES -117.101830  32.737766\n",
       "2                              REAL ESTATE -117.149460  32.749218\n",
       "3       OTHER INDIVIDUAL & FAMILY SERVICES -117.089806  32.738430\n",
       "4                   INVESTIGATION SERVICES -117.116520  32.809334"
      ]
     },
     "execution_count": 6,
     "metadata": {},
     "output_type": "execute_result"
    }
   ],
   "source": [
    "business_df = business_df[[\"ACTIVITY DESC\", \"lon\", \"lat\"]]\n",
    "business_df.head()"
   ]
  },
  {
   "cell_type": "code",
   "execution_count": 7,
   "metadata": {},
   "outputs": [],
   "source": [
    "business_reasonable_df = business_df\n",
    "\n"
   ]
  },
  {
   "cell_type": "code",
   "execution_count": null,
   "metadata": {},
   "outputs": [],
   "source": [
    "\n",
    "def getDistanceTo_reasonable(row,lat2,lon2) :\n",
    "    lat1 = row[\"lat\"]\n",
    "    lon1 = row[\"lon\"]\n",
    "    coords_1 = (lat1, lon1)\n",
    "    coords_2 = (lat2, lon2)\n",
    "    return geopy.distance.distance(coords_1, coords_2).miles"
   ]
  },
  {
   "cell_type": "code",
   "execution_count": null,
   "metadata": {},
   "outputs": [],
   "source": [
    "\n"
   ]
  },
  {
   "cell_type": "code",
   "execution_count": null,
   "metadata": {},
   "outputs": [],
   "source": [
    "\n",
    "n=0\n",
    "for row in reasonable_df.itertuples() :\n",
    "    n=n+1\n",
    "    if(n==2500) :\n",
    "        break\n",
    "    try :\n",
    "        business_reasonable_df[row[0]] = business_reasonable_df.apply(getDistanceTo_reasonable,axis=1,args=(row[3],row[2],))\n",
    "    except :\n",
    "        print(index1, \"Did not work\")\n",
    "\n"
   ]
  },
  {
   "cell_type": "code",
   "execution_count": null,
   "metadata": {},
   "outputs": [],
   "source": [
    "'''\n",
    "index = 2447\n",
    "lat = business_reasonable_df.loc[0][\"lat\"]\n",
    "lon = business_reasonable_df.loc[0][\"lon\"]\n",
    "lat2 = reasonable_df.loc[index][\"lat\"]\n",
    "lon2 = reasonable_df.loc[index][\"lon\"]\n",
    "getDistanceTo_reasonable(lat,lon,lat2,lon2)\n",
    "'''\n",
    "\n",
    "#business_reasonable_df[index] = business_reasonable_df.apply(getDistanceTo(business_reasonable_df[\"lat\"],business_reasonable_df[\"lon\"], lat, lon ), axis=1)"
   ]
  },
  {
   "cell_type": "code",
   "execution_count": null,
   "metadata": {},
   "outputs": [],
   "source": [
    "\n"
   ]
  },
  {
   "cell_type": "code",
   "execution_count": null,
   "metadata": {},
   "outputs": [],
   "source": [
    "business_df_csv = business_reasonable_df.to_csv (r'business_reasonable_df.csv', header=True) #Don't forget to add '.csv' at the end of the path\n",
    "\n",
    "business_reasonable_df.shape()"
   ]
  },
  {
   "cell_type": "code",
   "execution_count": null,
   "metadata": {},
   "outputs": [],
   "source": [
    "n=0\n",
    "for row in reasonable_df.itertuples() :\n",
    "    n=n+1\n",
    "    if(n<2500) :\n",
    "        continue\n",
    "    if(n==5000) :\n",
    "        break\n",
    "    try :\n",
    "        business_reasonable_df[row[0]] = business_reasonable_df.apply(getDistanceTo_reasonable,axis=1,args=(row[3],row[2],))\n",
    "    except :\n",
    "        print(index1, \"Did not work\")"
   ]
  },
  {
   "cell_type": "code",
   "execution_count": null,
   "metadata": {},
   "outputs": [],
   "source": [
    "business_df_csv = business_reasonable_df.to_csv (r'business_reasonable_df2.csv', header=True) #Don't forget to add '.csv' at the end of the path\n"
   ]
  },
  {
   "cell_type": "code",
   "execution_count": null,
   "metadata": {},
   "outputs": [],
   "source": []
  },
  {
   "cell_type": "code",
   "execution_count": null,
   "metadata": {},
   "outputs": [],
   "source": []
  }
 ],
 "metadata": {
  "kernelspec": {
   "display_name": "Python 3",
   "language": "python",
   "name": "python3"
  }
 },
 "nbformat": 4,
 "nbformat_minor": 2
}
