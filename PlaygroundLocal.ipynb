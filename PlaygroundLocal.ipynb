{
 "cells": [
  {
   "cell_type": "code",
   "execution_count": 67,
   "metadata": {
    "ExecuteTime": {
     "end_time": "2019-04-24T18:29:38.872760Z",
     "start_time": "2019-04-24T18:29:38.867955Z"
    }
   },
   "outputs": [],
   "source": [
    "import numpy as np\n",
    "import pandas as pd\n",
    "import matplotlib.pyplot as plt\n",
    "import seaborn as sns\n",
    "from sklearn.neighbors import kneighbors_graph\n",
    "from sklearn.neighbors import KNeighborsClassifier\n",
    "from sklearn.metrics import classification_report, precision_recall_fscore_support\n"
   ]
  },
  {
   "cell_type": "code",
   "execution_count": 68,
   "metadata": {},
   "outputs": [],
   "source": [
    "df = pd.read_csv(\"reasonable_crime.csv\")\n",
    "df = df.sample(frac=1)\n"
   ]
  },
  {
   "cell_type": "code",
   "execution_count": 69,
   "metadata": {},
   "outputs": [
    {
     "data": {
      "text/plain": [
       "18"
      ]
     },
     "execution_count": 69,
     "metadata": {},
     "output_type": "execute_result"
    }
   ],
   "source": [
    "len(df[\"crime_type\"].unique())"
   ]
  },
  {
   "cell_type": "code",
   "execution_count": 70,
   "metadata": {},
   "outputs": [],
   "source": [
    "num_training =int(0.8 * len(df.index))\n",
    "df_train = df[:num_training]\n",
    "\n",
    "df_test = df[num_training:]\n"
   ]
  },
  {
   "cell_type": "code",
   "execution_count": 71,
   "metadata": {},
   "outputs": [],
   "source": [
    "tp,fp = df_train[\"lat\"].values,df_train[\"lon\"].values\n",
    "X_train = np.vstack((tp, fp)).T\n",
    "y_train = df_train[\"crime_type\"]"
   ]
  },
  {
   "cell_type": "code",
   "execution_count": 72,
   "metadata": {},
   "outputs": [
    {
     "data": {
      "text/plain": [
       "KNeighborsClassifier(algorithm='auto', leaf_size=30, metric='minkowski',\n",
       "           metric_params=None, n_jobs=1, n_neighbors=18, p=2,\n",
       "           weights='uniform')"
      ]
     },
     "execution_count": 72,
     "metadata": {},
     "output_type": "execute_result"
    }
   ],
   "source": [
    "NUMBER_OF_NEIGHBOURS = 18\n",
    "knn_model = KNeighborsClassifier(n_neighbors=NUMBER_OF_NEIGHBOURS)\n",
    "knn_model.fit(X_train, y_train)"
   ]
  },
  {
   "cell_type": "code",
   "execution_count": 73,
   "metadata": {},
   "outputs": [],
   "source": [
    "predicted_train = knn_model.predict(X_train)"
   ]
  },
  {
   "cell_type": "code",
   "execution_count": 74,
   "metadata": {
    "scrolled": true
   },
   "outputs": [
    {
     "name": "stdout",
     "output_type": "stream",
     "text": [
      "                              precision    recall  f1-score   support\n",
      "\n",
      "                   *alcohol*       0.34      0.45      0.39      2588\n",
      "*burglary / theft / robbery*       0.28      0.29      0.29      1662\n",
      "                *caretaking*       0.30      0.19      0.23       947\n",
      " *deadly weapon / terrorize*       0.24      0.11      0.15       636\n",
      "                     *drugs*       0.26      0.15      0.19      1462\n",
      "   *fail to pay for transit*       0.50      0.71      0.59       523\n",
      "           *fight / battery*       0.26      0.23      0.24      1855\n",
      " *local ordinance violation*       0.41      0.58      0.48      3841\n",
      "     *lodge without consent*       0.33      0.39      0.36      2384\n",
      "       *murder / kidnapping*       0.46      0.13      0.20        47\n",
      "                     *noise*       0.29      0.07      0.11       799\n",
      "                    *others*       0.29      0.27      0.28      3240\n",
      "              *prostitution*       0.44      0.43      0.44        79\n",
      "           *spouse question*       0.27      0.11      0.15       845\n",
      "               *trespassing*       0.34      0.40      0.37      2895\n",
      "                   *trivial*       0.31      0.26      0.28       860\n",
      "                 *vandalism*       0.42      0.02      0.05       326\n",
      "           *vehicle robbery*       0.44      0.08      0.13       319\n",
      "\n",
      "                 avg / total       0.33      0.34      0.32     25308\n",
      "\n"
     ]
    }
   ],
   "source": [
    "print(classification_report(y_train,predicted_train))"
   ]
  },
  {
   "cell_type": "code",
   "execution_count": 75,
   "metadata": {},
   "outputs": [],
   "source": [
    "X_test = np.vstack((df_test[\"lat\"].values,df_test[\"lon\"].values)).T\n",
    "y_test = df_test[\"crime_type\"]"
   ]
  },
  {
   "cell_type": "code",
   "execution_count": 76,
   "metadata": {},
   "outputs": [],
   "source": [
    "predicted_test = knn_model.predict(X_test)"
   ]
  },
  {
   "cell_type": "code",
   "execution_count": 77,
   "metadata": {},
   "outputs": [
    {
     "name": "stdout",
     "output_type": "stream",
     "text": [
      "                              precision    recall  f1-score   support\n",
      "\n",
      "                   *alcohol*       0.27      0.39      0.32       591\n",
      "*burglary / theft / robbery*       0.21      0.21      0.21       436\n",
      "                *caretaking*       0.16      0.09      0.11       264\n",
      " *deadly weapon / terrorize*       0.06      0.02      0.03       166\n",
      "                     *drugs*       0.11      0.06      0.08       354\n",
      "   *fail to pay for transit*       0.48      0.76      0.59       127\n",
      "           *fight / battery*       0.14      0.13      0.13       471\n",
      " *local ordinance violation*       0.38      0.55      0.45       963\n",
      "     *lodge without consent*       0.29      0.32      0.30       644\n",
      "       *murder / kidnapping*       0.33      0.09      0.14        11\n",
      "                     *noise*       0.17      0.04      0.06       221\n",
      "                    *others*       0.20      0.18      0.19       793\n",
      "              *prostitution*       0.35      0.41      0.38        17\n",
      "           *spouse question*       0.09      0.03      0.05       210\n",
      "               *trespassing*       0.25      0.29      0.27       707\n",
      "                   *trivial*       0.35      0.30      0.32       205\n",
      "                 *vandalism*       1.00      0.01      0.02        79\n",
      "           *vehicle robbery*       0.12      0.03      0.05        68\n",
      "\n",
      "                 avg / total       0.25      0.27      0.24      6327\n",
      "\n"
     ]
    }
   ],
   "source": [
    "print(classification_report(y_test,predicted_test))"
   ]
  },
  {
   "cell_type": "code",
   "execution_count": 18,
   "metadata": {},
   "outputs": [
    {
     "data": {
      "text/plain": [
       "Male                      64586\n",
       "Female                    24542\n",
       "Transgender man/boy         188\n",
       "Transgender woman/girl      102\n",
       "                             52\n",
       "Name: perceived_gender, dtype: int64"
      ]
     },
     "execution_count": 18,
     "metadata": {},
     "output_type": "execute_result"
    }
   ],
   "source": [
    "df.perceived_gender.value_counts()"
   ]
  },
  {
   "cell_type": "code",
   "execution_count": 19,
   "metadata": {},
   "outputs": [
    {
     "data": {
      "text/plain": [
       "     89387\n",
       "5       83\n",
       "Name: gend_nc, dtype: int64"
      ]
     },
     "execution_count": 19,
     "metadata": {},
     "output_type": "execute_result"
    }
   ],
   "source": [
    "df.gend_nc.value_counts()"
   ]
  },
  {
   "cell_type": "code",
   "execution_count": null,
   "metadata": {},
   "outputs": [],
   "source": []
  }
 ],
 "metadata": {
  "kernelspec": {
   "display_name": "Python 3",
   "language": "python",
   "name": "python3"
  },
  "language_info": {
   "codemirror_mode": {
    "name": "ipython",
    "version": 3
   },
   "file_extension": ".py",
   "mimetype": "text/x-python",
   "name": "python",
   "nbconvert_exporter": "python",
   "pygments_lexer": "ipython3",
   "version": "3.6.7"
  },
  "latex_envs": {
   "LaTeX_envs_menu_present": true,
   "autoclose": false,
   "autocomplete": true,
   "bibliofile": "biblio.bib",
   "cite_by": "apalike",
   "current_citInitial": 1,
   "eqLabelWithNumbers": true,
   "eqNumInitial": 1,
   "hotkeys": {
    "equation": "Ctrl-E",
    "itemize": "Ctrl-I"
   },
   "labels_anchors": false,
   "latex_user_defs": false,
   "report_style_numbering": false,
   "user_envs_cfg": false
  }
 },
 "nbformat": 4,
 "nbformat_minor": 2
}
